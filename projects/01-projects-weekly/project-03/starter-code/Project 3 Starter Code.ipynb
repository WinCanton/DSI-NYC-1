{
 "cells": [
  {
   "cell_type": "markdown",
   "metadata": {},
   "source": [
    "# Getting started\n",
    "\n",
    "Once you've chosen your scenario, download the data from [the Iowa website](https://data.iowa.gov/Economy/Iowa-Liquor-Sales/m3tr-qhgy) in csv format. Start by loading the data with pandas. You may need to parse the date columns appropriately."
   ]
  },
  {
   "cell_type": "code",
   "execution_count": 1,
   "metadata": {
    "collapsed": false
   },
   "outputs": [
    {
     "data": {
      "text/html": [
       "<div>\n",
       "<table border=\"1\" class=\"dataframe\">\n",
       "  <thead>\n",
       "    <tr style=\"text-align: right;\">\n",
       "      <th></th>\n",
       "      <th>Date</th>\n",
       "      <th>Store Number</th>\n",
       "      <th>City</th>\n",
       "      <th>Zip Code</th>\n",
       "      <th>County Number</th>\n",
       "      <th>County</th>\n",
       "      <th>Category</th>\n",
       "      <th>Category Name</th>\n",
       "      <th>Vendor Number</th>\n",
       "      <th>Item Number</th>\n",
       "      <th>Item Description</th>\n",
       "      <th>Bottle Volume (ml)</th>\n",
       "      <th>State Bottle Cost</th>\n",
       "      <th>State Bottle Retail</th>\n",
       "      <th>Bottles Sold</th>\n",
       "      <th>Sale (Dollars)</th>\n",
       "      <th>Volume Sold (Liters)</th>\n",
       "      <th>Volume Sold (Gallons)</th>\n",
       "    </tr>\n",
       "  </thead>\n",
       "  <tbody>\n",
       "    <tr>\n",
       "      <th>0</th>\n",
       "      <td>11/04/2015</td>\n",
       "      <td>3717</td>\n",
       "      <td>SUMNER</td>\n",
       "      <td>50674</td>\n",
       "      <td>9.0</td>\n",
       "      <td>Bremer</td>\n",
       "      <td>1051100.0</td>\n",
       "      <td>APRICOT BRANDIES</td>\n",
       "      <td>55</td>\n",
       "      <td>54436</td>\n",
       "      <td>Mr. Boston Apricot Brandy</td>\n",
       "      <td>750</td>\n",
       "      <td>$4.50</td>\n",
       "      <td>$6.75</td>\n",
       "      <td>12</td>\n",
       "      <td>$81.00</td>\n",
       "      <td>9.0</td>\n",
       "      <td>2.38</td>\n",
       "    </tr>\n",
       "    <tr>\n",
       "      <th>1</th>\n",
       "      <td>03/02/2016</td>\n",
       "      <td>2614</td>\n",
       "      <td>DAVENPORT</td>\n",
       "      <td>52807</td>\n",
       "      <td>82.0</td>\n",
       "      <td>Scott</td>\n",
       "      <td>1011100.0</td>\n",
       "      <td>BLENDED WHISKIES</td>\n",
       "      <td>395</td>\n",
       "      <td>27605</td>\n",
       "      <td>Tin Cup</td>\n",
       "      <td>750</td>\n",
       "      <td>$13.75</td>\n",
       "      <td>$20.63</td>\n",
       "      <td>2</td>\n",
       "      <td>$41.26</td>\n",
       "      <td>1.5</td>\n",
       "      <td>0.40</td>\n",
       "    </tr>\n",
       "    <tr>\n",
       "      <th>2</th>\n",
       "      <td>02/11/2016</td>\n",
       "      <td>2106</td>\n",
       "      <td>CEDAR FALLS</td>\n",
       "      <td>50613</td>\n",
       "      <td>7.0</td>\n",
       "      <td>Black Hawk</td>\n",
       "      <td>1011200.0</td>\n",
       "      <td>STRAIGHT BOURBON WHISKIES</td>\n",
       "      <td>65</td>\n",
       "      <td>19067</td>\n",
       "      <td>Jim Beam</td>\n",
       "      <td>1000</td>\n",
       "      <td>$12.59</td>\n",
       "      <td>$18.89</td>\n",
       "      <td>24</td>\n",
       "      <td>$453.36</td>\n",
       "      <td>24.0</td>\n",
       "      <td>6.34</td>\n",
       "    </tr>\n",
       "    <tr>\n",
       "      <th>3</th>\n",
       "      <td>02/03/2016</td>\n",
       "      <td>2501</td>\n",
       "      <td>AMES</td>\n",
       "      <td>50010</td>\n",
       "      <td>85.0</td>\n",
       "      <td>Story</td>\n",
       "      <td>1071100.0</td>\n",
       "      <td>AMERICAN COCKTAILS</td>\n",
       "      <td>395</td>\n",
       "      <td>59154</td>\n",
       "      <td>1800 Ultimate Margarita</td>\n",
       "      <td>1750</td>\n",
       "      <td>$9.50</td>\n",
       "      <td>$14.25</td>\n",
       "      <td>6</td>\n",
       "      <td>$85.50</td>\n",
       "      <td>10.5</td>\n",
       "      <td>2.77</td>\n",
       "    </tr>\n",
       "    <tr>\n",
       "      <th>4</th>\n",
       "      <td>08/18/2015</td>\n",
       "      <td>3654</td>\n",
       "      <td>BELMOND</td>\n",
       "      <td>50421</td>\n",
       "      <td>99.0</td>\n",
       "      <td>Wright</td>\n",
       "      <td>1031080.0</td>\n",
       "      <td>VODKA 80 PROOF</td>\n",
       "      <td>297</td>\n",
       "      <td>35918</td>\n",
       "      <td>Five O'clock Vodka</td>\n",
       "      <td>1750</td>\n",
       "      <td>$7.20</td>\n",
       "      <td>$10.80</td>\n",
       "      <td>12</td>\n",
       "      <td>$129.60</td>\n",
       "      <td>21.0</td>\n",
       "      <td>5.55</td>\n",
       "    </tr>\n",
       "  </tbody>\n",
       "</table>\n",
       "</div>"
      ],
      "text/plain": [
       "         Date  Store Number         City Zip Code  County Number      County  \\\n",
       "0  11/04/2015          3717       SUMNER    50674            9.0      Bremer   \n",
       "1  03/02/2016          2614    DAVENPORT    52807           82.0       Scott   \n",
       "2  02/11/2016          2106  CEDAR FALLS    50613            7.0  Black Hawk   \n",
       "3  02/03/2016          2501         AMES    50010           85.0       Story   \n",
       "4  08/18/2015          3654      BELMOND    50421           99.0      Wright   \n",
       "\n",
       "    Category              Category Name  Vendor Number  Item Number  \\\n",
       "0  1051100.0           APRICOT BRANDIES             55        54436   \n",
       "1  1011100.0           BLENDED WHISKIES            395        27605   \n",
       "2  1011200.0  STRAIGHT BOURBON WHISKIES             65        19067   \n",
       "3  1071100.0         AMERICAN COCKTAILS            395        59154   \n",
       "4  1031080.0             VODKA 80 PROOF            297        35918   \n",
       "\n",
       "            Item Description  Bottle Volume (ml) State Bottle Cost  \\\n",
       "0  Mr. Boston Apricot Brandy                 750             $4.50   \n",
       "1                    Tin Cup                 750            $13.75   \n",
       "2                   Jim Beam                1000            $12.59   \n",
       "3    1800 Ultimate Margarita                1750             $9.50   \n",
       "4         Five O'clock Vodka                1750             $7.20   \n",
       "\n",
       "  State Bottle Retail  Bottles Sold Sale (Dollars)  Volume Sold (Liters)  \\\n",
       "0               $6.75            12         $81.00                   9.0   \n",
       "1              $20.63             2         $41.26                   1.5   \n",
       "2              $18.89            24        $453.36                  24.0   \n",
       "3              $14.25             6         $85.50                  10.5   \n",
       "4              $10.80            12        $129.60                  21.0   \n",
       "\n",
       "   Volume Sold (Gallons)  \n",
       "0                   2.38  \n",
       "1                   0.40  \n",
       "2                   6.34  \n",
       "3                   2.77  \n",
       "4                   5.55  "
      ]
     },
     "execution_count": 1,
     "metadata": {},
     "output_type": "execute_result"
    }
   ],
   "source": [
    "% matplotlib inline\n",
    "import datetime\n",
    "import numpy as np\n",
    "import pandas as pd\n",
    "import scipy as sp\n",
    "import seaborn as sns\n",
    "from sklearn import linear_model\n",
    "from sklearn.metrics import r2_score\n",
    "import matplotlib.pyplot as plt\n",
    "\n",
    "## Load the data into a DataFrame\n",
    "# pd.read_csv()\n",
    "iowa = pd.read_csv('/Users/Tamara/Desktop/Project 3/Iowa_Liquor_sales_sample_10pct.csv')\n",
    "iowa.head()\n",
    "## Transform the dates if needed, e.g.\n",
    "# df[\"Date\"] = pd.to_datetime(df[\"Date\"], format=\"%m-%d-%y\")"
   ]
  },
  {
   "cell_type": "code",
   "execution_count": 2,
   "metadata": {
    "collapsed": false
   },
   "outputs": [],
   "source": [
    "iowa[\"Date\"] = pd.to_datetime(iowa[\"Date\"])"
   ]
  },
  {
   "cell_type": "code",
   "execution_count": 3,
   "metadata": {
    "collapsed": false
   },
   "outputs": [],
   "source": [
    "iowa['State Bottle Cost'] = [dollars.strip('$') for dollars in iowa['State Bottle Cost']]\n",
    "iowa['State Bottle Retail'] = [dollars.strip('$') for dollars in iowa['State Bottle Retail']]\n",
    "iowa['Sale (Dollars)'] = [dollars.strip('$') for dollars in iowa['Sale (Dollars)']]"
   ]
  },
  {
   "cell_type": "code",
   "execution_count": 4,
   "metadata": {
    "collapsed": false
   },
   "outputs": [],
   "source": [
    "# Converting to numeric value\n",
    "# If ‘coerce’, then invalid parsing will be set as NaN\n",
    "\n",
    "iowa['Zip Code'] = pd.to_numeric(iowa['Zip Code'], errors='coerce')\n",
    "iowa['County Number'] = pd.to_numeric(iowa['County Number'], errors='coerce')\n",
    "iowa['Store Number'] = pd.to_numeric(iowa['Store Number'], errors='coerce')\n",
    "iowa['State Bottle Cost'] = pd.to_numeric(iowa['State Bottle Cost'], errors='coerce')\n",
    "iowa['State Bottle Retail'] = pd.to_numeric(iowa['State Bottle Retail'], errors='coerce')\n",
    "iowa['Sale (Dollars)'] = pd.to_numeric(iowa['Sale (Dollars)'], errors='coerce')"
   ]
  },
  {
   "cell_type": "code",
   "execution_count": 5,
   "metadata": {
    "collapsed": false
   },
   "outputs": [
    {
     "data": {
      "text/plain": [
       "Date                     datetime64[ns]\n",
       "Store Number                      int64\n",
       "City                             object\n",
       "Zip Code                        float64\n",
       "County Number                   float64\n",
       "County                           object\n",
       "Category                        float64\n",
       "Category Name                    object\n",
       "Vendor Number                     int64\n",
       "Item Number                       int64\n",
       "Item Description                 object\n",
       "Bottle Volume (ml)                int64\n",
       "State Bottle Cost               float64\n",
       "State Bottle Retail             float64\n",
       "Bottles Sold                      int64\n",
       "Sale (Dollars)                  float64\n",
       "Volume Sold (Liters)            float64\n",
       "Volume Sold (Gallons)           float64\n",
       "dtype: object"
      ]
     },
     "execution_count": 5,
     "metadata": {},
     "output_type": "execute_result"
    }
   ],
   "source": [
    "iowa.dtypes"
   ]
  },
  {
   "cell_type": "code",
   "execution_count": 6,
   "metadata": {
    "collapsed": false
   },
   "outputs": [],
   "source": [
    "iowa.sort_values([\"Bottle Volume (ml)\"], inplace=True)"
   ]
  },
  {
   "cell_type": "code",
   "execution_count": 7,
   "metadata": {
    "collapsed": false
   },
   "outputs": [],
   "source": [
    "iowa['Price per Liter'] = iowa['State Bottle Retail']/(iowa['Bottle Volume (ml)']/1000)\n",
    "iowa['Margin'] = iowa['State Bottle Retail'] - iowa['State Bottle Cost']"
   ]
  },
  {
   "cell_type": "code",
   "execution_count": 8,
   "metadata": {
    "collapsed": false
   },
   "outputs": [],
   "source": [
    "iowa.sort_values([\"Store Number\", \"Date\"], inplace=True)\n",
    "start_date = pd.Timestamp(\"20150101\")\n",
    "end_date = pd.Timestamp(\"20151231\")\n",
    "mask = (iowa['Date'] >= start_date) & (iowa['Date'] <= end_date)\n",
    "iowa_sales_2015 = iowa[mask]"
   ]
  },
  {
   "cell_type": "code",
   "execution_count": 9,
   "metadata": {
    "collapsed": false
   },
   "outputs": [],
   "source": [
    "# Group by store number\n",
    "iowa_sales_2015 = iowa_sales_2015.groupby([\"Store Number\"], as_index=False)"
   ]
  },
  {
   "cell_type": "code",
   "execution_count": 10,
   "metadata": {
    "collapsed": false
   },
   "outputs": [],
   "source": [
    "# Calculating the sum and the mean\n",
    "iowa_sales_2015 = iowa_sales_2015.agg({\"Sale (Dollars)\": [np.sum, np.mean],\n",
    "                   \"Volume Sold (Liters)\": [np.sum, np.mean],\n",
    "                   \"Margin\": [np.sum, np.mean],\n",
    "                   \"Price per Liter\": [np.sum, np.mean],\n",
    "                   \"Zip Code\": lambda x: x.iloc[0], \n",
    "                   \"City\": lambda x: x.iloc[0],\n",
    "                   \"County Number\": lambda x: x.iloc[0]})"
   ]
  },
  {
   "cell_type": "code",
   "execution_count": 11,
   "metadata": {
    "collapsed": false
   },
   "outputs": [],
   "source": [
    "# Collapsing the column indices\n",
    "iowa_sales_2015.columns = iowa_sales_2015.columns.get_level_values(0)"
   ]
  },
  {
   "cell_type": "code",
   "execution_count": 12,
   "metadata": {
    "collapsed": false
   },
   "outputs": [],
   "source": [
    "# Renaming the columns\n",
    "iowa_sales_2015.columns = ['store_number','city','2015_sales_sum','2015_sales_mean','county','2015_price_per_liter_sum','2015_price_per_liter_mean'\n",
    "                     ,'zip_code','2015_volume_sold_liters_sum','2015_volume_sold_liters_mean','2015_margin_sum','2015_margin_mean']"
   ]
  },
  {
   "cell_type": "code",
   "execution_count": 13,
   "metadata": {
    "collapsed": false
   },
   "outputs": [
    {
     "data": {
      "text/html": [
       "<div>\n",
       "<table border=\"1\" class=\"dataframe\">\n",
       "  <thead>\n",
       "    <tr style=\"text-align: right;\">\n",
       "      <th></th>\n",
       "      <th>store_number</th>\n",
       "      <th>city</th>\n",
       "      <th>2015_sales_sum</th>\n",
       "      <th>2015_sales_mean</th>\n",
       "      <th>county</th>\n",
       "      <th>2015_price_per_liter_sum</th>\n",
       "      <th>2015_price_per_liter_mean</th>\n",
       "      <th>zip_code</th>\n",
       "      <th>2015_volume_sold_liters_sum</th>\n",
       "      <th>2015_volume_sold_liters_mean</th>\n",
       "      <th>2015_margin_sum</th>\n",
       "      <th>2015_margin_mean</th>\n",
       "    </tr>\n",
       "  </thead>\n",
       "  <tbody>\n",
       "    <tr>\n",
       "      <th>0</th>\n",
       "      <td>2106</td>\n",
       "      <td>CEDAR FALLS</td>\n",
       "      <td>146326.22</td>\n",
       "      <td>277.658861</td>\n",
       "      <td>7.0</td>\n",
       "      <td>9410.428571</td>\n",
       "      <td>17.856601</td>\n",
       "      <td>50613.0</td>\n",
       "      <td>9731.85</td>\n",
       "      <td>18.466509</td>\n",
       "      <td>2722.65</td>\n",
       "      <td>5.166319</td>\n",
       "    </tr>\n",
       "    <tr>\n",
       "      <th>1</th>\n",
       "      <td>2113</td>\n",
       "      <td>GOWRIE</td>\n",
       "      <td>9310.22</td>\n",
       "      <td>63.334830</td>\n",
       "      <td>94.0</td>\n",
       "      <td>2720.130952</td>\n",
       "      <td>18.504292</td>\n",
       "      <td>50543.0</td>\n",
       "      <td>659.85</td>\n",
       "      <td>4.488776</td>\n",
       "      <td>800.43</td>\n",
       "      <td>5.445102</td>\n",
       "    </tr>\n",
       "    <tr>\n",
       "      <th>2</th>\n",
       "      <td>2130</td>\n",
       "      <td>WATERLOO</td>\n",
       "      <td>111871.43</td>\n",
       "      <td>285.386301</td>\n",
       "      <td>7.0</td>\n",
       "      <td>6599.582381</td>\n",
       "      <td>16.835669</td>\n",
       "      <td>50703.0</td>\n",
       "      <td>6891.37</td>\n",
       "      <td>17.580026</td>\n",
       "      <td>1930.93</td>\n",
       "      <td>4.925842</td>\n",
       "    </tr>\n",
       "    <tr>\n",
       "      <th>3</th>\n",
       "      <td>2152</td>\n",
       "      <td>ROCKWELL</td>\n",
       "      <td>7721.08</td>\n",
       "      <td>54.759433</td>\n",
       "      <td>17.0</td>\n",
       "      <td>1835.958571</td>\n",
       "      <td>13.020983</td>\n",
       "      <td>50469.0</td>\n",
       "      <td>633.37</td>\n",
       "      <td>4.491986</td>\n",
       "      <td>609.49</td>\n",
       "      <td>4.322624</td>\n",
       "    </tr>\n",
       "    <tr>\n",
       "      <th>4</th>\n",
       "      <td>2178</td>\n",
       "      <td>WAUKON</td>\n",
       "      <td>24324.18</td>\n",
       "      <td>102.633671</td>\n",
       "      <td>3.0</td>\n",
       "      <td>3806.726190</td>\n",
       "      <td>16.062136</td>\n",
       "      <td>52172.0</td>\n",
       "      <td>1917.12</td>\n",
       "      <td>8.089114</td>\n",
       "      <td>1153.92</td>\n",
       "      <td>4.868861</td>\n",
       "    </tr>\n",
       "  </tbody>\n",
       "</table>\n",
       "</div>"
      ],
      "text/plain": [
       "   store_number         city  2015_sales_sum  2015_sales_mean  county  \\\n",
       "0          2106  CEDAR FALLS       146326.22       277.658861     7.0   \n",
       "1          2113       GOWRIE         9310.22        63.334830    94.0   \n",
       "2          2130     WATERLOO       111871.43       285.386301     7.0   \n",
       "3          2152     ROCKWELL         7721.08        54.759433    17.0   \n",
       "4          2178       WAUKON        24324.18       102.633671     3.0   \n",
       "\n",
       "   2015_price_per_liter_sum  2015_price_per_liter_mean  zip_code  \\\n",
       "0               9410.428571                  17.856601   50613.0   \n",
       "1               2720.130952                  18.504292   50543.0   \n",
       "2               6599.582381                  16.835669   50703.0   \n",
       "3               1835.958571                  13.020983   50469.0   \n",
       "4               3806.726190                  16.062136   52172.0   \n",
       "\n",
       "   2015_volume_sold_liters_sum  2015_volume_sold_liters_mean  2015_margin_sum  \\\n",
       "0                      9731.85                     18.466509          2722.65   \n",
       "1                       659.85                      4.488776           800.43   \n",
       "2                      6891.37                     17.580026          1930.93   \n",
       "3                       633.37                      4.491986           609.49   \n",
       "4                      1917.12                      8.089114          1153.92   \n",
       "\n",
       "   2015_margin_mean  \n",
       "0          5.166319  \n",
       "1          5.445102  \n",
       "2          4.925842  \n",
       "3          4.322624  \n",
       "4          4.868861  "
      ]
     },
     "execution_count": 13,
     "metadata": {},
     "output_type": "execute_result"
    }
   ],
   "source": [
    "iowa_sales_2015.head()"
   ]
  },
  {
   "cell_type": "code",
   "execution_count": 14,
   "metadata": {
    "collapsed": false
   },
   "outputs": [
    {
     "data": {
      "text/plain": [
       "28527245.390000015"
      ]
     },
     "execution_count": 14,
     "metadata": {},
     "output_type": "execute_result"
    }
   ],
   "source": [
    "# total sales of all stores for all of 2015\n",
    "iowa_sales_2015['2015_sales_sum'].sum()"
   ]
  },
  {
   "cell_type": "code",
   "execution_count": 15,
   "metadata": {
    "collapsed": false
   },
   "outputs": [
    {
     "data": {
      "text/plain": [
       "20792.452908163275"
      ]
     },
     "execution_count": 15,
     "metadata": {},
     "output_type": "execute_result"
    }
   ],
   "source": [
    "# Average total sales of all stores for all of 2015\n",
    "iowa_sales_2015['2015_sales_sum'].mean()"
   ]
  },
  {
   "cell_type": "code",
   "execution_count": 16,
   "metadata": {
    "collapsed": false
   },
   "outputs": [],
   "source": [
    "# Finding Q1 2015 by store number \n",
    "\n",
    "iowa.sort_values([\"Store Number\", \"Date\"], inplace=True)\n",
    "start_date = pd.Timestamp(\"20150101\")\n",
    "end_date = pd.Timestamp(\"20150331\")\n",
    "mask = (iowa['Date'] >= start_date) & (iowa['Date'] <= end_date)\n",
    "iowa_sales_Q1_2015 = iowa[mask]"
   ]
  },
  {
   "cell_type": "code",
   "execution_count": 17,
   "metadata": {
    "collapsed": true
   },
   "outputs": [],
   "source": [
    "#Grouping by Store number\n",
    "iowa_sales_Q1_2015 = iowa_sales_Q1_2015.groupby(by=[\"Store Number\"], as_index=False)"
   ]
  },
  {
   "cell_type": "code",
   "execution_count": 18,
   "metadata": {
    "collapsed": false
   },
   "outputs": [],
   "source": [
    "# Calculating the sums and means\n",
    "iowa_sales_Q1_2015 = iowa_sales_Q1_2015.agg({\"Sale (Dollars)\": [np.sum, np.mean],\n",
    "                   \"Volume Sold (Liters)\": [np.sum, np.mean],\n",
    "                   \"Margin\": [np.sum, np.mean],\n",
    "                   \"Price per Liter\": [np.sum, np.mean],\n",
    "                   \"Zip Code\": lambda x: x.iloc[0], \n",
    "                   \"City\": lambda x: x.iloc[0],\n",
    "                   \"County Number\": lambda x: x.iloc[0]})"
   ]
  },
  {
   "cell_type": "code",
   "execution_count": 19,
   "metadata": {
    "collapsed": false
   },
   "outputs": [],
   "source": [
    "# Collapsing the columns indeces\n",
    "iowa_sales_Q1_2015.columns = iowa_sales_Q1_2015.columns.get_level_values(0)"
   ]
  },
  {
   "cell_type": "code",
   "execution_count": 20,
   "metadata": {
    "collapsed": false
   },
   "outputs": [],
   "source": [
    "# Renaming the columns\n",
    "iowa_sales_Q1_2015.columns = ['store_number','city','2015_q1_sales_sum','2015_q1_sales_mean','county','2015_q1_price_per_liter_sum','2015_q1_price_per_liter_mean'\n",
    "                     ,'zip_code','2015_q1_volume_sold_liters_sum','2015_q1_volume_sold_liters_mean','2015_q1_margin_sum','2015_q1_margin_mean']"
   ]
  },
  {
   "cell_type": "code",
   "execution_count": 21,
   "metadata": {
    "collapsed": false
   },
   "outputs": [
    {
     "data": {
      "text/html": [
       "<div>\n",
       "<table border=\"1\" class=\"dataframe\">\n",
       "  <thead>\n",
       "    <tr style=\"text-align: right;\">\n",
       "      <th></th>\n",
       "      <th>store_number</th>\n",
       "      <th>city</th>\n",
       "      <th>2015_q1_sales_sum</th>\n",
       "      <th>2015_q1_sales_mean</th>\n",
       "      <th>county</th>\n",
       "      <th>2015_q1_price_per_liter_sum</th>\n",
       "      <th>2015_q1_price_per_liter_mean</th>\n",
       "      <th>zip_code</th>\n",
       "      <th>2015_q1_volume_sold_liters_sum</th>\n",
       "      <th>2015_q1_volume_sold_liters_mean</th>\n",
       "      <th>2015_q1_margin_sum</th>\n",
       "      <th>2015_q1_margin_mean</th>\n",
       "    </tr>\n",
       "  </thead>\n",
       "  <tbody>\n",
       "    <tr>\n",
       "      <th>0</th>\n",
       "      <td>2106</td>\n",
       "      <td>CEDAR FALLS</td>\n",
       "      <td>39287.29</td>\n",
       "      <td>304.552636</td>\n",
       "      <td>7.0</td>\n",
       "      <td>2302.212381</td>\n",
       "      <td>17.846608</td>\n",
       "      <td>50613.0</td>\n",
       "      <td>2526.10</td>\n",
       "      <td>19.582171</td>\n",
       "      <td>649.35</td>\n",
       "      <td>5.033721</td>\n",
       "    </tr>\n",
       "    <tr>\n",
       "      <th>1</th>\n",
       "      <td>2113</td>\n",
       "      <td>GOWRIE</td>\n",
       "      <td>2833.25</td>\n",
       "      <td>67.458333</td>\n",
       "      <td>94.0</td>\n",
       "      <td>813.041905</td>\n",
       "      <td>19.358141</td>\n",
       "      <td>50543.0</td>\n",
       "      <td>177.11</td>\n",
       "      <td>4.216905</td>\n",
       "      <td>221.55</td>\n",
       "      <td>5.275000</td>\n",
       "    </tr>\n",
       "    <tr>\n",
       "      <th>2</th>\n",
       "      <td>2130</td>\n",
       "      <td>WATERLOO</td>\n",
       "      <td>24272.57</td>\n",
       "      <td>278.995057</td>\n",
       "      <td>7.0</td>\n",
       "      <td>1528.192381</td>\n",
       "      <td>17.565430</td>\n",
       "      <td>50703.0</td>\n",
       "      <td>1447.25</td>\n",
       "      <td>16.635057</td>\n",
       "      <td>447.26</td>\n",
       "      <td>5.140920</td>\n",
       "    </tr>\n",
       "    <tr>\n",
       "      <th>3</th>\n",
       "      <td>2152</td>\n",
       "      <td>ROCKWELL</td>\n",
       "      <td>2003.46</td>\n",
       "      <td>62.608125</td>\n",
       "      <td>17.0</td>\n",
       "      <td>447.712381</td>\n",
       "      <td>13.991012</td>\n",
       "      <td>50469.0</td>\n",
       "      <td>151.74</td>\n",
       "      <td>4.741875</td>\n",
       "      <td>154.78</td>\n",
       "      <td>4.836875</td>\n",
       "    </tr>\n",
       "    <tr>\n",
       "      <th>4</th>\n",
       "      <td>2178</td>\n",
       "      <td>WAUKON</td>\n",
       "      <td>5856.41</td>\n",
       "      <td>122.008542</td>\n",
       "      <td>3.0</td>\n",
       "      <td>802.786190</td>\n",
       "      <td>16.724712</td>\n",
       "      <td>52172.0</td>\n",
       "      <td>409.81</td>\n",
       "      <td>8.537708</td>\n",
       "      <td>236.74</td>\n",
       "      <td>4.932083</td>\n",
       "    </tr>\n",
       "  </tbody>\n",
       "</table>\n",
       "</div>"
      ],
      "text/plain": [
       "   store_number         city  2015_q1_sales_sum  2015_q1_sales_mean  county  \\\n",
       "0          2106  CEDAR FALLS           39287.29          304.552636     7.0   \n",
       "1          2113       GOWRIE            2833.25           67.458333    94.0   \n",
       "2          2130     WATERLOO           24272.57          278.995057     7.0   \n",
       "3          2152     ROCKWELL            2003.46           62.608125    17.0   \n",
       "4          2178       WAUKON            5856.41          122.008542     3.0   \n",
       "\n",
       "   2015_q1_price_per_liter_sum  2015_q1_price_per_liter_mean  zip_code  \\\n",
       "0                  2302.212381                     17.846608   50613.0   \n",
       "1                   813.041905                     19.358141   50543.0   \n",
       "2                  1528.192381                     17.565430   50703.0   \n",
       "3                   447.712381                     13.991012   50469.0   \n",
       "4                   802.786190                     16.724712   52172.0   \n",
       "\n",
       "   2015_q1_volume_sold_liters_sum  2015_q1_volume_sold_liters_mean  \\\n",
       "0                         2526.10                        19.582171   \n",
       "1                          177.11                         4.216905   \n",
       "2                         1447.25                        16.635057   \n",
       "3                          151.74                         4.741875   \n",
       "4                          409.81                         8.537708   \n",
       "\n",
       "   2015_q1_margin_sum  2015_q1_margin_mean  \n",
       "0              649.35             5.033721  \n",
       "1              221.55             5.275000  \n",
       "2              447.26             5.140920  \n",
       "3              154.78             4.836875  \n",
       "4              236.74             4.932083  "
      ]
     },
     "execution_count": 21,
     "metadata": {},
     "output_type": "execute_result"
    }
   ],
   "source": [
    "iowa_sales_Q1_2015.head()"
   ]
  },
  {
   "cell_type": "code",
   "execution_count": 22,
   "metadata": {
    "collapsed": false
   },
   "outputs": [
    {
     "data": {
      "text/plain": [
       "6153795.89"
      ]
     },
     "execution_count": 22,
     "metadata": {},
     "output_type": "execute_result"
    }
   ],
   "source": [
    "iowa_sales_Q1_2015['2015_q1_sales_sum'].sum()"
   ]
  },
  {
   "cell_type": "code",
   "execution_count": 23,
   "metadata": {
    "collapsed": true
   },
   "outputs": [],
   "source": [
    "#Merging Q1 2015 sales and 2015 sales together using pd.merge into one dataframe\n",
    "merge_2015 = pd.merge(iowa_sales_Q1_2015, iowa_sales_2015, on=['store_number','city','county'])"
   ]
  },
  {
   "cell_type": "code",
   "execution_count": 24,
   "metadata": {
    "collapsed": false
   },
   "outputs": [
    {
     "data": {
      "text/html": [
       "<div>\n",
       "<table border=\"1\" class=\"dataframe\">\n",
       "  <thead>\n",
       "    <tr style=\"text-align: right;\">\n",
       "      <th></th>\n",
       "      <th>store_number</th>\n",
       "      <th>city</th>\n",
       "      <th>2015_q1_sales_sum</th>\n",
       "      <th>2015_q1_sales_mean</th>\n",
       "      <th>county</th>\n",
       "      <th>2015_q1_price_per_liter_sum</th>\n",
       "      <th>2015_q1_price_per_liter_mean</th>\n",
       "      <th>zip_code_x</th>\n",
       "      <th>2015_q1_volume_sold_liters_sum</th>\n",
       "      <th>2015_q1_volume_sold_liters_mean</th>\n",
       "      <th>...</th>\n",
       "      <th>2015_q1_margin_mean</th>\n",
       "      <th>2015_sales_sum</th>\n",
       "      <th>2015_sales_mean</th>\n",
       "      <th>2015_price_per_liter_sum</th>\n",
       "      <th>2015_price_per_liter_mean</th>\n",
       "      <th>zip_code_y</th>\n",
       "      <th>2015_volume_sold_liters_sum</th>\n",
       "      <th>2015_volume_sold_liters_mean</th>\n",
       "      <th>2015_margin_sum</th>\n",
       "      <th>2015_margin_mean</th>\n",
       "    </tr>\n",
       "  </thead>\n",
       "  <tbody>\n",
       "    <tr>\n",
       "      <th>0</th>\n",
       "      <td>2106</td>\n",
       "      <td>CEDAR FALLS</td>\n",
       "      <td>39287.29</td>\n",
       "      <td>304.552636</td>\n",
       "      <td>7.0</td>\n",
       "      <td>2302.212381</td>\n",
       "      <td>17.846608</td>\n",
       "      <td>50613.0</td>\n",
       "      <td>2526.10</td>\n",
       "      <td>19.582171</td>\n",
       "      <td>...</td>\n",
       "      <td>5.033721</td>\n",
       "      <td>146326.22</td>\n",
       "      <td>277.658861</td>\n",
       "      <td>9410.428571</td>\n",
       "      <td>17.856601</td>\n",
       "      <td>50613.0</td>\n",
       "      <td>9731.85</td>\n",
       "      <td>18.466509</td>\n",
       "      <td>2722.65</td>\n",
       "      <td>5.166319</td>\n",
       "    </tr>\n",
       "    <tr>\n",
       "      <th>1</th>\n",
       "      <td>2113</td>\n",
       "      <td>GOWRIE</td>\n",
       "      <td>2833.25</td>\n",
       "      <td>67.458333</td>\n",
       "      <td>94.0</td>\n",
       "      <td>813.041905</td>\n",
       "      <td>19.358141</td>\n",
       "      <td>50543.0</td>\n",
       "      <td>177.11</td>\n",
       "      <td>4.216905</td>\n",
       "      <td>...</td>\n",
       "      <td>5.275000</td>\n",
       "      <td>9310.22</td>\n",
       "      <td>63.334830</td>\n",
       "      <td>2720.130952</td>\n",
       "      <td>18.504292</td>\n",
       "      <td>50543.0</td>\n",
       "      <td>659.85</td>\n",
       "      <td>4.488776</td>\n",
       "      <td>800.43</td>\n",
       "      <td>5.445102</td>\n",
       "    </tr>\n",
       "    <tr>\n",
       "      <th>2</th>\n",
       "      <td>2130</td>\n",
       "      <td>WATERLOO</td>\n",
       "      <td>24272.57</td>\n",
       "      <td>278.995057</td>\n",
       "      <td>7.0</td>\n",
       "      <td>1528.192381</td>\n",
       "      <td>17.565430</td>\n",
       "      <td>50703.0</td>\n",
       "      <td>1447.25</td>\n",
       "      <td>16.635057</td>\n",
       "      <td>...</td>\n",
       "      <td>5.140920</td>\n",
       "      <td>111871.43</td>\n",
       "      <td>285.386301</td>\n",
       "      <td>6599.582381</td>\n",
       "      <td>16.835669</td>\n",
       "      <td>50703.0</td>\n",
       "      <td>6891.37</td>\n",
       "      <td>17.580026</td>\n",
       "      <td>1930.93</td>\n",
       "      <td>4.925842</td>\n",
       "    </tr>\n",
       "    <tr>\n",
       "      <th>3</th>\n",
       "      <td>2152</td>\n",
       "      <td>ROCKWELL</td>\n",
       "      <td>2003.46</td>\n",
       "      <td>62.608125</td>\n",
       "      <td>17.0</td>\n",
       "      <td>447.712381</td>\n",
       "      <td>13.991012</td>\n",
       "      <td>50469.0</td>\n",
       "      <td>151.74</td>\n",
       "      <td>4.741875</td>\n",
       "      <td>...</td>\n",
       "      <td>4.836875</td>\n",
       "      <td>7721.08</td>\n",
       "      <td>54.759433</td>\n",
       "      <td>1835.958571</td>\n",
       "      <td>13.020983</td>\n",
       "      <td>50469.0</td>\n",
       "      <td>633.37</td>\n",
       "      <td>4.491986</td>\n",
       "      <td>609.49</td>\n",
       "      <td>4.322624</td>\n",
       "    </tr>\n",
       "    <tr>\n",
       "      <th>4</th>\n",
       "      <td>2178</td>\n",
       "      <td>WAUKON</td>\n",
       "      <td>5856.41</td>\n",
       "      <td>122.008542</td>\n",
       "      <td>3.0</td>\n",
       "      <td>802.786190</td>\n",
       "      <td>16.724712</td>\n",
       "      <td>52172.0</td>\n",
       "      <td>409.81</td>\n",
       "      <td>8.537708</td>\n",
       "      <td>...</td>\n",
       "      <td>4.932083</td>\n",
       "      <td>24324.18</td>\n",
       "      <td>102.633671</td>\n",
       "      <td>3806.726190</td>\n",
       "      <td>16.062136</td>\n",
       "      <td>52172.0</td>\n",
       "      <td>1917.12</td>\n",
       "      <td>8.089114</td>\n",
       "      <td>1153.92</td>\n",
       "      <td>4.868861</td>\n",
       "    </tr>\n",
       "  </tbody>\n",
       "</table>\n",
       "<p>5 rows × 21 columns</p>\n",
       "</div>"
      ],
      "text/plain": [
       "   store_number         city  2015_q1_sales_sum  2015_q1_sales_mean  county  \\\n",
       "0          2106  CEDAR FALLS           39287.29          304.552636     7.0   \n",
       "1          2113       GOWRIE            2833.25           67.458333    94.0   \n",
       "2          2130     WATERLOO           24272.57          278.995057     7.0   \n",
       "3          2152     ROCKWELL            2003.46           62.608125    17.0   \n",
       "4          2178       WAUKON            5856.41          122.008542     3.0   \n",
       "\n",
       "   2015_q1_price_per_liter_sum  2015_q1_price_per_liter_mean  zip_code_x  \\\n",
       "0                  2302.212381                     17.846608     50613.0   \n",
       "1                   813.041905                     19.358141     50543.0   \n",
       "2                  1528.192381                     17.565430     50703.0   \n",
       "3                   447.712381                     13.991012     50469.0   \n",
       "4                   802.786190                     16.724712     52172.0   \n",
       "\n",
       "   2015_q1_volume_sold_liters_sum  2015_q1_volume_sold_liters_mean  \\\n",
       "0                         2526.10                        19.582171   \n",
       "1                          177.11                         4.216905   \n",
       "2                         1447.25                        16.635057   \n",
       "3                          151.74                         4.741875   \n",
       "4                          409.81                         8.537708   \n",
       "\n",
       "         ...         2015_q1_margin_mean  2015_sales_sum  2015_sales_mean  \\\n",
       "0        ...                    5.033721       146326.22       277.658861   \n",
       "1        ...                    5.275000         9310.22        63.334830   \n",
       "2        ...                    5.140920       111871.43       285.386301   \n",
       "3        ...                    4.836875         7721.08        54.759433   \n",
       "4        ...                    4.932083        24324.18       102.633671   \n",
       "\n",
       "   2015_price_per_liter_sum  2015_price_per_liter_mean  zip_code_y  \\\n",
       "0               9410.428571                  17.856601     50613.0   \n",
       "1               2720.130952                  18.504292     50543.0   \n",
       "2               6599.582381                  16.835669     50703.0   \n",
       "3               1835.958571                  13.020983     50469.0   \n",
       "4               3806.726190                  16.062136     52172.0   \n",
       "\n",
       "   2015_volume_sold_liters_sum  2015_volume_sold_liters_mean  2015_margin_sum  \\\n",
       "0                      9731.85                     18.466509          2722.65   \n",
       "1                       659.85                      4.488776           800.43   \n",
       "2                      6891.37                     17.580026          1930.93   \n",
       "3                       633.37                      4.491986           609.49   \n",
       "4                      1917.12                      8.089114          1153.92   \n",
       "\n",
       "   2015_margin_mean  \n",
       "0          5.166319  \n",
       "1          5.445102  \n",
       "2          4.925842  \n",
       "3          4.322624  \n",
       "4          4.868861  \n",
       "\n",
       "[5 rows x 21 columns]"
      ]
     },
     "execution_count": 24,
     "metadata": {},
     "output_type": "execute_result"
    }
   ],
   "source": [
    "merge_2015.head()"
   ]
  },
  {
   "cell_type": "code",
   "execution_count": 25,
   "metadata": {
    "collapsed": false
   },
   "outputs": [],
   "source": [
    "merged_sales_2015 = merge_2015[['store_number','city','2015_q1_sales_sum','2015_q1_price_per_liter_mean'\n",
    "                               ,'zip_code_x','2015_q1_volume_sold_liters_mean','2015_q1_margin_mean','2015_sales_sum']]"
   ]
  },
  {
   "cell_type": "code",
   "execution_count": 26,
   "metadata": {
    "collapsed": false
   },
   "outputs": [
    {
     "data": {
      "text/html": [
       "<div>\n",
       "<table border=\"1\" class=\"dataframe\">\n",
       "  <thead>\n",
       "    <tr style=\"text-align: right;\">\n",
       "      <th></th>\n",
       "      <th>store_number</th>\n",
       "      <th>city</th>\n",
       "      <th>2015_q1_sales_sum</th>\n",
       "      <th>2015_q1_price_per_liter_mean</th>\n",
       "      <th>zip_code_x</th>\n",
       "      <th>2015_q1_volume_sold_liters_mean</th>\n",
       "      <th>2015_q1_margin_mean</th>\n",
       "      <th>2015_sales_sum</th>\n",
       "    </tr>\n",
       "  </thead>\n",
       "  <tbody>\n",
       "    <tr>\n",
       "      <th>0</th>\n",
       "      <td>2106</td>\n",
       "      <td>CEDAR FALLS</td>\n",
       "      <td>39287.29</td>\n",
       "      <td>17.846608</td>\n",
       "      <td>50613.0</td>\n",
       "      <td>19.582171</td>\n",
       "      <td>5.033721</td>\n",
       "      <td>146326.22</td>\n",
       "    </tr>\n",
       "    <tr>\n",
       "      <th>1</th>\n",
       "      <td>2113</td>\n",
       "      <td>GOWRIE</td>\n",
       "      <td>2833.25</td>\n",
       "      <td>19.358141</td>\n",
       "      <td>50543.0</td>\n",
       "      <td>4.216905</td>\n",
       "      <td>5.275000</td>\n",
       "      <td>9310.22</td>\n",
       "    </tr>\n",
       "    <tr>\n",
       "      <th>2</th>\n",
       "      <td>2130</td>\n",
       "      <td>WATERLOO</td>\n",
       "      <td>24272.57</td>\n",
       "      <td>17.565430</td>\n",
       "      <td>50703.0</td>\n",
       "      <td>16.635057</td>\n",
       "      <td>5.140920</td>\n",
       "      <td>111871.43</td>\n",
       "    </tr>\n",
       "    <tr>\n",
       "      <th>3</th>\n",
       "      <td>2152</td>\n",
       "      <td>ROCKWELL</td>\n",
       "      <td>2003.46</td>\n",
       "      <td>13.991012</td>\n",
       "      <td>50469.0</td>\n",
       "      <td>4.741875</td>\n",
       "      <td>4.836875</td>\n",
       "      <td>7721.08</td>\n",
       "    </tr>\n",
       "    <tr>\n",
       "      <th>4</th>\n",
       "      <td>2178</td>\n",
       "      <td>WAUKON</td>\n",
       "      <td>5856.41</td>\n",
       "      <td>16.724712</td>\n",
       "      <td>52172.0</td>\n",
       "      <td>8.537708</td>\n",
       "      <td>4.932083</td>\n",
       "      <td>24324.18</td>\n",
       "    </tr>\n",
       "  </tbody>\n",
       "</table>\n",
       "</div>"
      ],
      "text/plain": [
       "   store_number         city  2015_q1_sales_sum  2015_q1_price_per_liter_mean  \\\n",
       "0          2106  CEDAR FALLS           39287.29                     17.846608   \n",
       "1          2113       GOWRIE            2833.25                     19.358141   \n",
       "2          2130     WATERLOO           24272.57                     17.565430   \n",
       "3          2152     ROCKWELL            2003.46                     13.991012   \n",
       "4          2178       WAUKON            5856.41                     16.724712   \n",
       "\n",
       "   zip_code_x  2015_q1_volume_sold_liters_mean  2015_q1_margin_mean  \\\n",
       "0     50613.0                        19.582171             5.033721   \n",
       "1     50543.0                         4.216905             5.275000   \n",
       "2     50703.0                        16.635057             5.140920   \n",
       "3     50469.0                         4.741875             4.836875   \n",
       "4     52172.0                         8.537708             4.932083   \n",
       "\n",
       "   2015_sales_sum  \n",
       "0       146326.22  \n",
       "1         9310.22  \n",
       "2       111871.43  \n",
       "3         7721.08  \n",
       "4        24324.18  "
      ]
     },
     "execution_count": 26,
     "metadata": {},
     "output_type": "execute_result"
    }
   ],
   "source": [
    "merged_sales_2015.head()"
   ]
  },
  {
   "cell_type": "code",
   "execution_count": 27,
   "metadata": {
    "collapsed": false
   },
   "outputs": [],
   "source": [
    "# 2016 Q1 by store\n",
    "\n",
    "iowa.sort_values([\"Store Number\", \"Date\"], inplace=True)\n",
    "start_date = pd.Timestamp(\"20160101\")\n",
    "end_date = pd.Timestamp(\"20160331\")\n",
    "mask = (iowa['Date'] >= start_date) & (iowa['Date'] <= end_date)\n",
    "sales_Q1_2016 = iowa[mask]"
   ]
  },
  {
   "cell_type": "code",
   "execution_count": 28,
   "metadata": {
    "collapsed": true
   },
   "outputs": [],
   "source": [
    "# Group by store \n",
    "sales_Q1_2016 = sales_Q1_2016.groupby([\"Store Number\"], as_index=False)"
   ]
  },
  {
   "cell_type": "code",
   "execution_count": 29,
   "metadata": {
    "collapsed": true
   },
   "outputs": [],
   "source": [
    "# Calculate the sum and mean\n",
    "sales_Q1_2016 = sales_Q1_2016.agg({\"Sale (Dollars)\": [np.sum, np.mean],\n",
    "                   \"Volume Sold (Liters)\": [np.sum, np.mean],\n",
    "                   \"Margin\": [np.sum, np.mean],\n",
    "                   \"Price per Liter\": [np.sum, np.mean],\n",
    "                   \"Zip Code\": lambda x: x.iloc[0], \n",
    "                   \"City\": lambda x: x.iloc[0],\n",
    "                   \"County Number\": lambda x: x.iloc[0]})"
   ]
  },
  {
   "cell_type": "code",
   "execution_count": 30,
   "metadata": {
    "collapsed": false
   },
   "outputs": [],
   "source": [
    "# Collapsing the column indexes\n",
    "sales_Q1_2016.columns = sales_Q1_2016.columns.get_level_values(0)"
   ]
  },
  {
   "cell_type": "code",
   "execution_count": 31,
   "metadata": {
    "collapsed": false
   },
   "outputs": [],
   "source": [
    "# Rename columns\n",
    "sales_Q1_2016.columns = ['store_number','city','2016_q1_sales_sum','2016_q1_sales_mean','county','2016_q1_price_per_liter_sum','2016_q1_price_per_liter_mean'\n",
    "                     ,'zip_code','2016_q1_volume_sold_liters_sum','2016_q1_volume_sold_liters_mean','2016_q1_margin_sum','2016_q1_margin_mean']"
   ]
  },
  {
   "cell_type": "code",
   "execution_count": 32,
   "metadata": {
    "collapsed": false
   },
   "outputs": [
    {
     "data": {
      "text/html": [
       "<div>\n",
       "<table border=\"1\" class=\"dataframe\">\n",
       "  <thead>\n",
       "    <tr style=\"text-align: right;\">\n",
       "      <th></th>\n",
       "      <th>store_number</th>\n",
       "      <th>city</th>\n",
       "      <th>2016_q1_sales_sum</th>\n",
       "      <th>2016_q1_sales_mean</th>\n",
       "      <th>county</th>\n",
       "      <th>2016_q1_price_per_liter_sum</th>\n",
       "      <th>2016_q1_price_per_liter_mean</th>\n",
       "      <th>zip_code</th>\n",
       "      <th>2016_q1_volume_sold_liters_sum</th>\n",
       "      <th>2016_q1_volume_sold_liters_mean</th>\n",
       "      <th>2016_q1_margin_sum</th>\n",
       "      <th>2016_q1_margin_mean</th>\n",
       "    </tr>\n",
       "  </thead>\n",
       "  <tbody>\n",
       "    <tr>\n",
       "      <th>0</th>\n",
       "      <td>2106</td>\n",
       "      <td>CEDAR FALLS</td>\n",
       "      <td>30523.75</td>\n",
       "      <td>240.344488</td>\n",
       "      <td>7.0</td>\n",
       "      <td>2294.190952</td>\n",
       "      <td>18.064496</td>\n",
       "      <td>50613.0</td>\n",
       "      <td>2117.75</td>\n",
       "      <td>16.675197</td>\n",
       "      <td>662.26</td>\n",
       "      <td>5.214646</td>\n",
       "    </tr>\n",
       "    <tr>\n",
       "      <th>1</th>\n",
       "      <td>2113</td>\n",
       "      <td>GOWRIE</td>\n",
       "      <td>2065.90</td>\n",
       "      <td>55.835135</td>\n",
       "      <td>94.0</td>\n",
       "      <td>646.871905</td>\n",
       "      <td>17.483024</td>\n",
       "      <td>50543.0</td>\n",
       "      <td>177.00</td>\n",
       "      <td>4.783784</td>\n",
       "      <td>198.61</td>\n",
       "      <td>5.367838</td>\n",
       "    </tr>\n",
       "    <tr>\n",
       "      <th>2</th>\n",
       "      <td>2130</td>\n",
       "      <td>WATERLOO</td>\n",
       "      <td>27856.11</td>\n",
       "      <td>238.086410</td>\n",
       "      <td>7.0</td>\n",
       "      <td>2041.902381</td>\n",
       "      <td>17.452157</td>\n",
       "      <td>50703.0</td>\n",
       "      <td>1556.90</td>\n",
       "      <td>13.306838</td>\n",
       "      <td>621.53</td>\n",
       "      <td>5.312222</td>\n",
       "    </tr>\n",
       "    <tr>\n",
       "      <th>3</th>\n",
       "      <td>2152</td>\n",
       "      <td>ROCKWELL</td>\n",
       "      <td>1376.43</td>\n",
       "      <td>45.881000</td>\n",
       "      <td>17.0</td>\n",
       "      <td>375.764762</td>\n",
       "      <td>12.525492</td>\n",
       "      <td>50469.0</td>\n",
       "      <td>140.13</td>\n",
       "      <td>4.671000</td>\n",
       "      <td>127.56</td>\n",
       "      <td>4.252000</td>\n",
       "    </tr>\n",
       "    <tr>\n",
       "      <th>4</th>\n",
       "      <td>2178</td>\n",
       "      <td>WAUKON</td>\n",
       "      <td>5588.50</td>\n",
       "      <td>96.353448</td>\n",
       "      <td>3.0</td>\n",
       "      <td>875.911905</td>\n",
       "      <td>15.101929</td>\n",
       "      <td>52172.0</td>\n",
       "      <td>520.80</td>\n",
       "      <td>8.979310</td>\n",
       "      <td>269.64</td>\n",
       "      <td>4.648966</td>\n",
       "    </tr>\n",
       "  </tbody>\n",
       "</table>\n",
       "</div>"
      ],
      "text/plain": [
       "   store_number         city  2016_q1_sales_sum  2016_q1_sales_mean  county  \\\n",
       "0          2106  CEDAR FALLS           30523.75          240.344488     7.0   \n",
       "1          2113       GOWRIE            2065.90           55.835135    94.0   \n",
       "2          2130     WATERLOO           27856.11          238.086410     7.0   \n",
       "3          2152     ROCKWELL            1376.43           45.881000    17.0   \n",
       "4          2178       WAUKON            5588.50           96.353448     3.0   \n",
       "\n",
       "   2016_q1_price_per_liter_sum  2016_q1_price_per_liter_mean  zip_code  \\\n",
       "0                  2294.190952                     18.064496   50613.0   \n",
       "1                   646.871905                     17.483024   50543.0   \n",
       "2                  2041.902381                     17.452157   50703.0   \n",
       "3                   375.764762                     12.525492   50469.0   \n",
       "4                   875.911905                     15.101929   52172.0   \n",
       "\n",
       "   2016_q1_volume_sold_liters_sum  2016_q1_volume_sold_liters_mean  \\\n",
       "0                         2117.75                        16.675197   \n",
       "1                          177.00                         4.783784   \n",
       "2                         1556.90                        13.306838   \n",
       "3                          140.13                         4.671000   \n",
       "4                          520.80                         8.979310   \n",
       "\n",
       "   2016_q1_margin_sum  2016_q1_margin_mean  \n",
       "0              662.26             5.214646  \n",
       "1              198.61             5.367838  \n",
       "2              621.53             5.312222  \n",
       "3              127.56             4.252000  \n",
       "4              269.64             4.648966  "
      ]
     },
     "execution_count": 32,
     "metadata": {},
     "output_type": "execute_result"
    }
   ],
   "source": [
    "sales_Q1_2016.head()"
   ]
  },
  {
   "cell_type": "code",
   "execution_count": 33,
   "metadata": {
    "collapsed": false
   },
   "outputs": [
    {
     "data": {
      "text/plain": [
       "6399497.559999977"
      ]
     },
     "execution_count": 33,
     "metadata": {},
     "output_type": "execute_result"
    }
   ],
   "source": [
    "#Q1 2016 Sales sum\n",
    "sales_Q1_2016['2016_q1_sales_sum'].sum()"
   ]
  },
  {
   "cell_type": "code",
   "execution_count": 34,
   "metadata": {
    "collapsed": false
   },
   "outputs": [
    {
     "data": {
      "text/html": [
       "<div>\n",
       "<table border=\"1\" class=\"dataframe\">\n",
       "  <thead>\n",
       "    <tr style=\"text-align: right;\">\n",
       "      <th></th>\n",
       "      <th>store_number</th>\n",
       "      <th>city</th>\n",
       "      <th>2015_q1_sales_sum</th>\n",
       "      <th>2015_q1_price_per_liter_mean</th>\n",
       "      <th>zip_code_x</th>\n",
       "      <th>2015_q1_volume_sold_liters_mean</th>\n",
       "      <th>2015_q1_margin_mean</th>\n",
       "      <th>2015_sales_sum</th>\n",
       "    </tr>\n",
       "  </thead>\n",
       "  <tbody>\n",
       "    <tr>\n",
       "      <th>0</th>\n",
       "      <td>2106</td>\n",
       "      <td>CEDAR FALLS</td>\n",
       "      <td>39287.29</td>\n",
       "      <td>17.846608</td>\n",
       "      <td>50613.0</td>\n",
       "      <td>19.582171</td>\n",
       "      <td>5.033721</td>\n",
       "      <td>146326.22</td>\n",
       "    </tr>\n",
       "    <tr>\n",
       "      <th>1</th>\n",
       "      <td>2113</td>\n",
       "      <td>GOWRIE</td>\n",
       "      <td>2833.25</td>\n",
       "      <td>19.358141</td>\n",
       "      <td>50543.0</td>\n",
       "      <td>4.216905</td>\n",
       "      <td>5.275000</td>\n",
       "      <td>9310.22</td>\n",
       "    </tr>\n",
       "    <tr>\n",
       "      <th>2</th>\n",
       "      <td>2130</td>\n",
       "      <td>WATERLOO</td>\n",
       "      <td>24272.57</td>\n",
       "      <td>17.565430</td>\n",
       "      <td>50703.0</td>\n",
       "      <td>16.635057</td>\n",
       "      <td>5.140920</td>\n",
       "      <td>111871.43</td>\n",
       "    </tr>\n",
       "    <tr>\n",
       "      <th>3</th>\n",
       "      <td>2152</td>\n",
       "      <td>ROCKWELL</td>\n",
       "      <td>2003.46</td>\n",
       "      <td>13.991012</td>\n",
       "      <td>50469.0</td>\n",
       "      <td>4.741875</td>\n",
       "      <td>4.836875</td>\n",
       "      <td>7721.08</td>\n",
       "    </tr>\n",
       "    <tr>\n",
       "      <th>4</th>\n",
       "      <td>2178</td>\n",
       "      <td>WAUKON</td>\n",
       "      <td>5856.41</td>\n",
       "      <td>16.724712</td>\n",
       "      <td>52172.0</td>\n",
       "      <td>8.537708</td>\n",
       "      <td>4.932083</td>\n",
       "      <td>24324.18</td>\n",
       "    </tr>\n",
       "  </tbody>\n",
       "</table>\n",
       "</div>"
      ],
      "text/plain": [
       "   store_number         city  2015_q1_sales_sum  2015_q1_price_per_liter_mean  \\\n",
       "0          2106  CEDAR FALLS           39287.29                     17.846608   \n",
       "1          2113       GOWRIE            2833.25                     19.358141   \n",
       "2          2130     WATERLOO           24272.57                     17.565430   \n",
       "3          2152     ROCKWELL            2003.46                     13.991012   \n",
       "4          2178       WAUKON            5856.41                     16.724712   \n",
       "\n",
       "   zip_code_x  2015_q1_volume_sold_liters_mean  2015_q1_margin_mean  \\\n",
       "0     50613.0                        19.582171             5.033721   \n",
       "1     50543.0                         4.216905             5.275000   \n",
       "2     50703.0                        16.635057             5.140920   \n",
       "3     50469.0                         4.741875             4.836875   \n",
       "4     52172.0                         8.537708             4.932083   \n",
       "\n",
       "   2015_sales_sum  \n",
       "0       146326.22  \n",
       "1         9310.22  \n",
       "2       111871.43  \n",
       "3         7721.08  \n",
       "4        24324.18  "
      ]
     },
     "execution_count": 34,
     "metadata": {},
     "output_type": "execute_result"
    }
   ],
   "source": [
    "merged_sales_2015.head()"
   ]
  },
  {
   "cell_type": "markdown",
   "metadata": {},
   "source": [
    "# Explore the data\n",
    "\n",
    "Perform some exploratory statistical analysis and make some plots, such as histograms of transaction totals, bottles sold, etc."
   ]
  },
  {
   "cell_type": "code",
   "execution_count": 35,
   "metadata": {
    "collapsed": true
   },
   "outputs": [],
   "source": [
    "import seaborn as sns\n",
    "import matplotlib.pyplot as plt"
   ]
  },
  {
   "cell_type": "code",
   "execution_count": 36,
   "metadata": {
    "collapsed": false
   },
   "outputs": [
    {
     "name": "stdout",
     "output_type": "stream",
     "text": [
      "2015:  0.963302404197\n"
     ]
    }
   ],
   "source": [
    "# Linear Regression that runs Q! 2016 values to give 2016 Year End predicted values\n",
    "\n",
    "X = merged_sales_2015[['2015_q1_sales_sum','2015_q1_price_per_liter_mean','2015_q1_margin_mean']]\n",
    "y = merged_sales_2015['2015_sales_sum']\n",
    "\n",
    "X_2016 = sales_Q1_2016[['2016_q1_sales_sum','2016_q1_price_per_liter_mean','2016_q1_margin_mean']]\n",
    "\n",
    "# Predicting 2016 sales\n",
    "lm = linear_model.LinearRegression()\n",
    "model = lm.fit(X, y)\n",
    "predictions = lm.predict(X)\n",
    "predictions2016 = lm.predict(X_2016)\n",
    "\n",
    "sales_Q1_2016['2016_year_predicted_sales'] = lm.predict(X_2016)\n",
    "\n",
    "print \"2015: \", lm.score(X,y)"
   ]
  },
  {
   "cell_type": "code",
   "execution_count": 37,
   "metadata": {
    "collapsed": false
   },
   "outputs": [
    {
     "data": {
      "text/plain": [
       "28998197.074487437"
      ]
     },
     "execution_count": 37,
     "metadata": {},
     "output_type": "execute_result"
    }
   ],
   "source": [
    "sales_Q1_2016['2016_year_predicted_sales'].sum()"
   ]
  },
  {
   "cell_type": "code",
   "execution_count": 38,
   "metadata": {
    "collapsed": false
   },
   "outputs": [
    {
     "data": {
      "text/html": [
       "<div>\n",
       "<table border=\"1\" class=\"dataframe\">\n",
       "  <thead>\n",
       "    <tr style=\"text-align: right;\">\n",
       "      <th></th>\n",
       "      <th>store_number</th>\n",
       "      <th>city</th>\n",
       "      <th>2015_q1_sales_sum</th>\n",
       "      <th>2015_q1_sales_mean</th>\n",
       "      <th>county</th>\n",
       "      <th>2015_q1_price_per_liter_sum</th>\n",
       "      <th>2015_q1_price_per_liter_mean</th>\n",
       "      <th>zip_code_x</th>\n",
       "      <th>2015_q1_volume_sold_liters_sum</th>\n",
       "      <th>2015_q1_volume_sold_liters_mean</th>\n",
       "      <th>...</th>\n",
       "      <th>2015_q1_margin_mean</th>\n",
       "      <th>2015_sales_sum</th>\n",
       "      <th>2015_sales_mean</th>\n",
       "      <th>2015_price_per_liter_sum</th>\n",
       "      <th>2015_price_per_liter_mean</th>\n",
       "      <th>zip_code_y</th>\n",
       "      <th>2015_volume_sold_liters_sum</th>\n",
       "      <th>2015_volume_sold_liters_mean</th>\n",
       "      <th>2015_margin_sum</th>\n",
       "      <th>2015_margin_mean</th>\n",
       "    </tr>\n",
       "  </thead>\n",
       "  <tbody>\n",
       "    <tr>\n",
       "      <th>0</th>\n",
       "      <td>2106</td>\n",
       "      <td>CEDAR FALLS</td>\n",
       "      <td>39287.29</td>\n",
       "      <td>304.552636</td>\n",
       "      <td>7.0</td>\n",
       "      <td>2302.212381</td>\n",
       "      <td>17.846608</td>\n",
       "      <td>50613.0</td>\n",
       "      <td>2526.10</td>\n",
       "      <td>19.582171</td>\n",
       "      <td>...</td>\n",
       "      <td>5.033721</td>\n",
       "      <td>146326.22</td>\n",
       "      <td>277.658861</td>\n",
       "      <td>9410.428571</td>\n",
       "      <td>17.856601</td>\n",
       "      <td>50613.0</td>\n",
       "      <td>9731.85</td>\n",
       "      <td>18.466509</td>\n",
       "      <td>2722.65</td>\n",
       "      <td>5.166319</td>\n",
       "    </tr>\n",
       "    <tr>\n",
       "      <th>1</th>\n",
       "      <td>2113</td>\n",
       "      <td>GOWRIE</td>\n",
       "      <td>2833.25</td>\n",
       "      <td>67.458333</td>\n",
       "      <td>94.0</td>\n",
       "      <td>813.041905</td>\n",
       "      <td>19.358141</td>\n",
       "      <td>50543.0</td>\n",
       "      <td>177.11</td>\n",
       "      <td>4.216905</td>\n",
       "      <td>...</td>\n",
       "      <td>5.275000</td>\n",
       "      <td>9310.22</td>\n",
       "      <td>63.334830</td>\n",
       "      <td>2720.130952</td>\n",
       "      <td>18.504292</td>\n",
       "      <td>50543.0</td>\n",
       "      <td>659.85</td>\n",
       "      <td>4.488776</td>\n",
       "      <td>800.43</td>\n",
       "      <td>5.445102</td>\n",
       "    </tr>\n",
       "    <tr>\n",
       "      <th>2</th>\n",
       "      <td>2130</td>\n",
       "      <td>WATERLOO</td>\n",
       "      <td>24272.57</td>\n",
       "      <td>278.995057</td>\n",
       "      <td>7.0</td>\n",
       "      <td>1528.192381</td>\n",
       "      <td>17.565430</td>\n",
       "      <td>50703.0</td>\n",
       "      <td>1447.25</td>\n",
       "      <td>16.635057</td>\n",
       "      <td>...</td>\n",
       "      <td>5.140920</td>\n",
       "      <td>111871.43</td>\n",
       "      <td>285.386301</td>\n",
       "      <td>6599.582381</td>\n",
       "      <td>16.835669</td>\n",
       "      <td>50703.0</td>\n",
       "      <td>6891.37</td>\n",
       "      <td>17.580026</td>\n",
       "      <td>1930.93</td>\n",
       "      <td>4.925842</td>\n",
       "    </tr>\n",
       "    <tr>\n",
       "      <th>3</th>\n",
       "      <td>2152</td>\n",
       "      <td>ROCKWELL</td>\n",
       "      <td>2003.46</td>\n",
       "      <td>62.608125</td>\n",
       "      <td>17.0</td>\n",
       "      <td>447.712381</td>\n",
       "      <td>13.991012</td>\n",
       "      <td>50469.0</td>\n",
       "      <td>151.74</td>\n",
       "      <td>4.741875</td>\n",
       "      <td>...</td>\n",
       "      <td>4.836875</td>\n",
       "      <td>7721.08</td>\n",
       "      <td>54.759433</td>\n",
       "      <td>1835.958571</td>\n",
       "      <td>13.020983</td>\n",
       "      <td>50469.0</td>\n",
       "      <td>633.37</td>\n",
       "      <td>4.491986</td>\n",
       "      <td>609.49</td>\n",
       "      <td>4.322624</td>\n",
       "    </tr>\n",
       "    <tr>\n",
       "      <th>4</th>\n",
       "      <td>2178</td>\n",
       "      <td>WAUKON</td>\n",
       "      <td>5856.41</td>\n",
       "      <td>122.008542</td>\n",
       "      <td>3.0</td>\n",
       "      <td>802.786190</td>\n",
       "      <td>16.724712</td>\n",
       "      <td>52172.0</td>\n",
       "      <td>409.81</td>\n",
       "      <td>8.537708</td>\n",
       "      <td>...</td>\n",
       "      <td>4.932083</td>\n",
       "      <td>24324.18</td>\n",
       "      <td>102.633671</td>\n",
       "      <td>3806.726190</td>\n",
       "      <td>16.062136</td>\n",
       "      <td>52172.0</td>\n",
       "      <td>1917.12</td>\n",
       "      <td>8.089114</td>\n",
       "      <td>1153.92</td>\n",
       "      <td>4.868861</td>\n",
       "    </tr>\n",
       "  </tbody>\n",
       "</table>\n",
       "<p>5 rows × 21 columns</p>\n",
       "</div>"
      ],
      "text/plain": [
       "   store_number         city  2015_q1_sales_sum  2015_q1_sales_mean  county  \\\n",
       "0          2106  CEDAR FALLS           39287.29          304.552636     7.0   \n",
       "1          2113       GOWRIE            2833.25           67.458333    94.0   \n",
       "2          2130     WATERLOO           24272.57          278.995057     7.0   \n",
       "3          2152     ROCKWELL            2003.46           62.608125    17.0   \n",
       "4          2178       WAUKON            5856.41          122.008542     3.0   \n",
       "\n",
       "   2015_q1_price_per_liter_sum  2015_q1_price_per_liter_mean  zip_code_x  \\\n",
       "0                  2302.212381                     17.846608     50613.0   \n",
       "1                   813.041905                     19.358141     50543.0   \n",
       "2                  1528.192381                     17.565430     50703.0   \n",
       "3                   447.712381                     13.991012     50469.0   \n",
       "4                   802.786190                     16.724712     52172.0   \n",
       "\n",
       "   2015_q1_volume_sold_liters_sum  2015_q1_volume_sold_liters_mean  \\\n",
       "0                         2526.10                        19.582171   \n",
       "1                          177.11                         4.216905   \n",
       "2                         1447.25                        16.635057   \n",
       "3                          151.74                         4.741875   \n",
       "4                          409.81                         8.537708   \n",
       "\n",
       "         ...         2015_q1_margin_mean  2015_sales_sum  2015_sales_mean  \\\n",
       "0        ...                    5.033721       146326.22       277.658861   \n",
       "1        ...                    5.275000         9310.22        63.334830   \n",
       "2        ...                    5.140920       111871.43       285.386301   \n",
       "3        ...                    4.836875         7721.08        54.759433   \n",
       "4        ...                    4.932083        24324.18       102.633671   \n",
       "\n",
       "   2015_price_per_liter_sum  2015_price_per_liter_mean  zip_code_y  \\\n",
       "0               9410.428571                  17.856601     50613.0   \n",
       "1               2720.130952                  18.504292     50543.0   \n",
       "2               6599.582381                  16.835669     50703.0   \n",
       "3               1835.958571                  13.020983     50469.0   \n",
       "4               3806.726190                  16.062136     52172.0   \n",
       "\n",
       "   2015_volume_sold_liters_sum  2015_volume_sold_liters_mean  2015_margin_sum  \\\n",
       "0                      9731.85                     18.466509          2722.65   \n",
       "1                       659.85                      4.488776           800.43   \n",
       "2                      6891.37                     17.580026          1930.93   \n",
       "3                       633.37                      4.491986           609.49   \n",
       "4                      1917.12                      8.089114          1153.92   \n",
       "\n",
       "   2015_margin_mean  \n",
       "0          5.166319  \n",
       "1          5.445102  \n",
       "2          4.925842  \n",
       "3          4.322624  \n",
       "4          4.868861  \n",
       "\n",
       "[5 rows x 21 columns]"
      ]
     },
     "execution_count": 38,
     "metadata": {},
     "output_type": "execute_result"
    }
   ],
   "source": [
    "merge_2015.head()"
   ]
  },
  {
   "cell_type": "code",
   "execution_count": 39,
   "metadata": {
    "collapsed": false
   },
   "outputs": [
    {
     "name": "stdout",
     "output_type": "stream",
     "text": [
      "       X Shape  Y Shape\n",
      "Train (845, 3) (845,)\n",
      "Test  (417, 3) (417,)\n"
     ]
    }
   ],
   "source": [
    "# Cross Validating to get 2016 Year End predicted values using 2016 Q1 values\n",
    "\n",
    "from sklearn.cross_validation import train_test_split\n",
    "from sklearn.cross_validation import cross_val_score, cross_val_predict\n",
    "from sklearn import metrics\n",
    "\n",
    "model = merged_sales_2015[['2015_q1_sales_sum','2015_q1_price_per_liter_mean','2015_q1_margin_mean']]\n",
    "y = merged_sales_2015['2015_sales_sum']\n",
    "\n",
    "X_train, X_test, y_train, y_test = train_test_split(model, y, test_size=0.33)\n",
    "\n",
    "print \"       X Shape  Y Shape\"\n",
    "print \"Train\", X_train.shape, y_train.shape\n",
    "print \"Test \", X_test.shape, y_test.shape"
   ]
  },
  {
   "cell_type": "code",
   "execution_count": 40,
   "metadata": {
    "collapsed": false
   },
   "outputs": [
    {
     "name": "stdout",
     "output_type": "stream",
     "text": [
      "Cross-validated scores: [ 0.90706697  0.96487158  0.87524845  0.9502183   0.8580145   0.73670892\n",
      "  0.80563683  0.89144673  0.64180651  0.99632654  0.85163012  0.81506064]\n"
     ]
    }
   ],
   "source": [
    "# Performing 6-fold cross validation\n",
    "\n",
    "model_2016 = sales_Q1_2016[['2016_q1_sales_sum','2016_q1_price_per_liter_mean','2016_q1_margin_mean']]\n",
    "\n",
    "lm2 = linear_model.LinearRegression()\n",
    "model2 = lm2.fit(X_train, y_train)\n",
    "predictions2 = lm2.predict(X_test)\n",
    "\n",
    "scores = cross_val_score(model2, model, y, cv=12)\n",
    "print \"Cross-validated scores:\", scores"
   ]
  },
  {
   "cell_type": "code",
   "execution_count": 41,
   "metadata": {
    "collapsed": false
   },
   "outputs": [
    {
     "name": "stdout",
     "output_type": "stream",
     "text": [
      "Cross-Predicted Accuracy: 0.960884356948\n"
     ]
    }
   ],
   "source": [
    "# Make cross validated predictions\n",
    "predictions3 = cross_val_predict(model2, model, y, cv=12)\n",
    "accuracy = metrics.r2_score(y, predictions3)\n",
    "print \"Cross-Predicted Accuracy:\", accuracy"
   ]
  },
  {
   "cell_type": "code",
   "execution_count": 42,
   "metadata": {
    "collapsed": false
   },
   "outputs": [
    {
     "name": "stdout",
     "output_type": "stream",
     "text": [
      "2015:  0.963302404197\n"
     ]
    }
   ],
   "source": [
    "sales_Q1_2016['2016_year_predicted_sales'] = lm.predict(X_2016)\n",
    "print \"2015: \", lm.score(X,y)"
   ]
  },
  {
   "cell_type": "code",
   "execution_count": 43,
   "metadata": {
    "collapsed": false
   },
   "outputs": [
    {
     "data": {
      "text/plain": [
       "array([ 135864.46985494,   10095.2404328 ,  124143.00478153, ...,\n",
       "          1396.60237117,    1316.2751428 ,    5780.12631704])"
      ]
     },
     "execution_count": 43,
     "metadata": {},
     "output_type": "execute_result"
    }
   ],
   "source": [
    "y_2016_2 = lm2.predict(model_2016)\n",
    "y_2016_2"
   ]
  },
  {
   "cell_type": "code",
   "execution_count": 44,
   "metadata": {
    "collapsed": false
   },
   "outputs": [],
   "source": [
    "# Combining the predicted 2016 year end totals from both model, cv and no cv\n",
    "# and checking for a difference between the two models\n",
    "\n",
    "dif = pd.DataFrame(sales_Q1_2016['store_number'])\n",
    "dif['2016_model1'] = predictions2016\n",
    "dif['2016_model2'] = y_2016_2\n",
    "dif['diff'] = dif['2016_model1'] - dif['2016_model2']"
   ]
  },
  {
   "cell_type": "code",
   "execution_count": 45,
   "metadata": {
    "collapsed": false
   },
   "outputs": [
    {
     "name": "stdout",
     "output_type": "stream",
     "text": [
      "   store_number    2016_model1    2016_model2        diff\n",
      "0          2106  136781.739034  135864.469855  917.269180\n",
      "1          2113    9808.785757   10095.240433 -286.454676\n",
      "2          2130  124914.791071  124143.004782  771.786289\n",
      "3          2152    6433.106121    6372.505656   60.600465\n",
      "4          2178   25329.579972   25228.608028  100.971945\n"
     ]
    }
   ],
   "source": [
    "print dif.head()"
   ]
  },
  {
   "cell_type": "code",
   "execution_count": 46,
   "metadata": {
    "collapsed": false
   },
   "outputs": [
    {
     "name": "stdout",
     "output_type": "stream",
     "text": [
      "Max:  8284.44180275\n",
      "Min:  -2937.53665554\n"
     ]
    }
   ],
   "source": [
    "print \"Max: \",np.max(dif['diff'])\n",
    "print \"Min: \",np.min(dif['diff'])"
   ]
  },
  {
   "cell_type": "code",
   "execution_count": 47,
   "metadata": {
    "collapsed": false
   },
   "outputs": [],
   "source": [
    "# Doing the same entire process for Zip Code as I did for Store code\n",
    "# 2015 sales by Zip Code\n",
    "\n",
    "iowa.sort_values([\"Zip Code\", \"Date\"], inplace=True)\n",
    "start_date = pd.Timestamp(\"20150101\")\n",
    "end_date = pd.Timestamp(\"20151231\")\n",
    "mask = (iowa['Date'] >= start_date) & (iowa['Date'] <= end_date)\n",
    "zip_2015_sales = iowa[mask]\n",
    "\n",
    "\n",
    "\n",
    "zip_2015_sales = zip_2015_sales.groupby([\"Zip Code\"], as_index=False)\n",
    "\n",
    "zip_2015_sales = zip_2015_sales.agg({\"Sale (Dollars)\": [np.sum, np.mean],\n",
    "                   \"Volume Sold (Liters)\": [np.sum, np.mean],\n",
    "                   \"Margin\": [np.sum, np.mean],\n",
    "                   \"Price per Liter\": [np.sum, np.mean],\n",
    "                   \"Store Number\": lambda x: x.iloc[0],\n",
    "                   \"City\": lambda x: x.iloc[0],\n",
    "                   \"County Number\": lambda x: x.iloc[0]})\n",
    "\n",
    "zip_2015_sales.columns = zip_2015_sales.columns.get_level_values(0)\n",
    "\n",
    "\n",
    "zip_2015_sales.columns = ['zip_code','city','2015_sales_sum','2015_sales_mean','2015_price_per_liter_sum','2015_price_per_liter_mean'\n",
    "     ,'county','2015_volume_sold_liters_sum','2015_volume_sold_liters_mean','store_number','2015_margin_sum','2015_margin_mean']"
   ]
  },
  {
   "cell_type": "code",
   "execution_count": 48,
   "metadata": {
    "collapsed": false
   },
   "outputs": [
    {
     "data": {
      "text/html": [
       "<div>\n",
       "<table border=\"1\" class=\"dataframe\">\n",
       "  <thead>\n",
       "    <tr style=\"text-align: right;\">\n",
       "      <th></th>\n",
       "      <th>zip_code</th>\n",
       "      <th>city</th>\n",
       "      <th>2015_sales_sum</th>\n",
       "      <th>2015_sales_mean</th>\n",
       "      <th>2015_price_per_liter_sum</th>\n",
       "      <th>2015_price_per_liter_mean</th>\n",
       "      <th>county</th>\n",
       "      <th>2015_volume_sold_liters_sum</th>\n",
       "      <th>2015_volume_sold_liters_mean</th>\n",
       "      <th>store_number</th>\n",
       "      <th>2015_margin_sum</th>\n",
       "      <th>2015_margin_mean</th>\n",
       "    </tr>\n",
       "  </thead>\n",
       "  <tbody>\n",
       "    <tr>\n",
       "      <th>0</th>\n",
       "      <td>50002.0</td>\n",
       "      <td>ADAIR</td>\n",
       "      <td>4958.04</td>\n",
       "      <td>134.001081</td>\n",
       "      <td>602.601905</td>\n",
       "      <td>16.286538</td>\n",
       "      <td>1.0</td>\n",
       "      <td>335.85</td>\n",
       "      <td>9.077027</td>\n",
       "      <td>4753</td>\n",
       "      <td>146.10</td>\n",
       "      <td>3.948649</td>\n",
       "    </tr>\n",
       "    <tr>\n",
       "      <th>1</th>\n",
       "      <td>50003.0</td>\n",
       "      <td>ADEL</td>\n",
       "      <td>38095.16</td>\n",
       "      <td>151.171270</td>\n",
       "      <td>3973.039048</td>\n",
       "      <td>15.766028</td>\n",
       "      <td>25.0</td>\n",
       "      <td>2737.52</td>\n",
       "      <td>10.863175</td>\n",
       "      <td>4384</td>\n",
       "      <td>1025.73</td>\n",
       "      <td>4.070357</td>\n",
       "    </tr>\n",
       "    <tr>\n",
       "      <th>2</th>\n",
       "      <td>50006.0</td>\n",
       "      <td>ALDEN</td>\n",
       "      <td>10086.97</td>\n",
       "      <td>103.989381</td>\n",
       "      <td>1592.324762</td>\n",
       "      <td>16.415719</td>\n",
       "      <td>42.0</td>\n",
       "      <td>719.24</td>\n",
       "      <td>7.414845</td>\n",
       "      <td>4172</td>\n",
       "      <td>569.99</td>\n",
       "      <td>5.876186</td>\n",
       "    </tr>\n",
       "    <tr>\n",
       "      <th>3</th>\n",
       "      <td>50009.0</td>\n",
       "      <td>ALTOONA</td>\n",
       "      <td>241028.59</td>\n",
       "      <td>139.726719</td>\n",
       "      <td>32180.363690</td>\n",
       "      <td>18.655283</td>\n",
       "      <td>77.0</td>\n",
       "      <td>16284.00</td>\n",
       "      <td>9.440000</td>\n",
       "      <td>2478</td>\n",
       "      <td>8505.54</td>\n",
       "      <td>4.930748</td>\n",
       "    </tr>\n",
       "    <tr>\n",
       "      <th>4</th>\n",
       "      <td>50010.0</td>\n",
       "      <td>AMES</td>\n",
       "      <td>772044.25</td>\n",
       "      <td>136.091001</td>\n",
       "      <td>108959.942287</td>\n",
       "      <td>19.206759</td>\n",
       "      <td>85.0</td>\n",
       "      <td>52520.63</td>\n",
       "      <td>9.257999</td>\n",
       "      <td>4015</td>\n",
       "      <td>29869.58</td>\n",
       "      <td>5.265218</td>\n",
       "    </tr>\n",
       "  </tbody>\n",
       "</table>\n",
       "</div>"
      ],
      "text/plain": [
       "   zip_code     city  2015_sales_sum  2015_sales_mean  \\\n",
       "0   50002.0    ADAIR         4958.04       134.001081   \n",
       "1   50003.0     ADEL        38095.16       151.171270   \n",
       "2   50006.0    ALDEN        10086.97       103.989381   \n",
       "3   50009.0  ALTOONA       241028.59       139.726719   \n",
       "4   50010.0     AMES       772044.25       136.091001   \n",
       "\n",
       "   2015_price_per_liter_sum  2015_price_per_liter_mean  county  \\\n",
       "0                602.601905                  16.286538     1.0   \n",
       "1               3973.039048                  15.766028    25.0   \n",
       "2               1592.324762                  16.415719    42.0   \n",
       "3              32180.363690                  18.655283    77.0   \n",
       "4             108959.942287                  19.206759    85.0   \n",
       "\n",
       "   2015_volume_sold_liters_sum  2015_volume_sold_liters_mean  store_number  \\\n",
       "0                       335.85                      9.077027          4753   \n",
       "1                      2737.52                     10.863175          4384   \n",
       "2                       719.24                      7.414845          4172   \n",
       "3                     16284.00                      9.440000          2478   \n",
       "4                     52520.63                      9.257999          4015   \n",
       "\n",
       "   2015_margin_sum  2015_margin_mean  \n",
       "0           146.10          3.948649  \n",
       "1          1025.73          4.070357  \n",
       "2           569.99          5.876186  \n",
       "3          8505.54          4.930748  \n",
       "4         29869.58          5.265218  "
      ]
     },
     "execution_count": 48,
     "metadata": {},
     "output_type": "execute_result"
    }
   ],
   "source": [
    "zip_2015_sales.head()"
   ]
  },
  {
   "cell_type": "code",
   "execution_count": 49,
   "metadata": {
    "collapsed": false
   },
   "outputs": [],
   "source": [
    "# Q1 2015 sales by County\n",
    "\n",
    "iowa.sort_values([\"Zip Code\", \"Date\"], inplace=True)\n",
    "start_date = pd.Timestamp(\"20150101\")\n",
    "end_date = pd.Timestamp(\"20150331\")\n",
    "mask = (iowa['Date'] >= start_date) & (iowa['Date'] <= end_date)\n",
    "zip_Q1_2015_sales = iowa[mask]\n",
    "\n",
    "\n",
    "\n",
    "zip_Q1_2015_sales = zip_Q1_2015_sales.groupby([\"Zip Code\"], as_index=False)\n",
    "\n",
    "zip_Q1_2015_sales = zip_Q1_2015_sales.agg({\"Sale (Dollars)\": [np.sum, np.mean],\n",
    "                   \"Volume Sold (Liters)\": [np.sum, np.mean],\n",
    "                   \"Margin\": [np.sum, np.mean],\n",
    "                   \"Price per Liter\": [np.sum, np.mean],\n",
    "                   \"Store Number\": lambda x: x.iloc[0], \n",
    "                   \"City\": lambda x: x.iloc[0],\n",
    "                   \"County Number\": lambda x: x.iloc[0]})\n",
    "\n",
    "zip_Q1_2015_sales.columns = zip_Q1_2015_sales.columns.get_level_values(0)\n",
    "\n",
    "\n",
    "zip_Q1_2015_sales.columns = ['zip_code','city','2015_q1_sales_sum','2015_q1_sales_mean','2015_q1_price_per_liter_sum','2015_q1_price_per_liter_mean'\n",
    "     ,'county','2015_q1_volume_sold_liters_sum','2015_q1_volume_sold_liters_mean','store_number','2015_q1_margin_sum','2015_q1_margin_mean']"
   ]
  },
  {
   "cell_type": "code",
   "execution_count": 50,
   "metadata": {
    "collapsed": false
   },
   "outputs": [
    {
     "data": {
      "text/html": [
       "<div>\n",
       "<table border=\"1\" class=\"dataframe\">\n",
       "  <thead>\n",
       "    <tr style=\"text-align: right;\">\n",
       "      <th></th>\n",
       "      <th>zip_code</th>\n",
       "      <th>city</th>\n",
       "      <th>2015_q1_sales_sum</th>\n",
       "      <th>2015_q1_sales_mean</th>\n",
       "      <th>2015_q1_price_per_liter_sum</th>\n",
       "      <th>2015_q1_price_per_liter_mean</th>\n",
       "      <th>county</th>\n",
       "      <th>2015_q1_volume_sold_liters_sum</th>\n",
       "      <th>2015_q1_volume_sold_liters_mean</th>\n",
       "      <th>store_number</th>\n",
       "      <th>2015_q1_margin_sum</th>\n",
       "      <th>2015_q1_margin_mean</th>\n",
       "    </tr>\n",
       "  </thead>\n",
       "  <tbody>\n",
       "    <tr>\n",
       "      <th>0</th>\n",
       "      <td>50002.0</td>\n",
       "      <td>ADAIR</td>\n",
       "      <td>1379.04</td>\n",
       "      <td>125.367273</td>\n",
       "      <td>162.560000</td>\n",
       "      <td>14.778182</td>\n",
       "      <td>1.0</td>\n",
       "      <td>93.60</td>\n",
       "      <td>8.509091</td>\n",
       "      <td>4753</td>\n",
       "      <td>26.13</td>\n",
       "      <td>2.375455</td>\n",
       "    </tr>\n",
       "    <tr>\n",
       "      <th>1</th>\n",
       "      <td>50003.0</td>\n",
       "      <td>ADEL</td>\n",
       "      <td>11657.81</td>\n",
       "      <td>155.437467</td>\n",
       "      <td>1165.717619</td>\n",
       "      <td>15.542902</td>\n",
       "      <td>25.0</td>\n",
       "      <td>830.07</td>\n",
       "      <td>11.067600</td>\n",
       "      <td>4384</td>\n",
       "      <td>295.57</td>\n",
       "      <td>3.940933</td>\n",
       "    </tr>\n",
       "    <tr>\n",
       "      <th>2</th>\n",
       "      <td>50006.0</td>\n",
       "      <td>ALDEN</td>\n",
       "      <td>2448.60</td>\n",
       "      <td>94.176923</td>\n",
       "      <td>403.298571</td>\n",
       "      <td>15.511484</td>\n",
       "      <td>42.0</td>\n",
       "      <td>176.12</td>\n",
       "      <td>6.773846</td>\n",
       "      <td>4172</td>\n",
       "      <td>145.80</td>\n",
       "      <td>5.607692</td>\n",
       "    </tr>\n",
       "    <tr>\n",
       "      <th>3</th>\n",
       "      <td>50009.0</td>\n",
       "      <td>ALTOONA</td>\n",
       "      <td>42674.32</td>\n",
       "      <td>115.648564</td>\n",
       "      <td>6770.190476</td>\n",
       "      <td>18.347400</td>\n",
       "      <td>77.0</td>\n",
       "      <td>2986.26</td>\n",
       "      <td>8.092846</td>\n",
       "      <td>2478</td>\n",
       "      <td>1733.20</td>\n",
       "      <td>4.697019</td>\n",
       "    </tr>\n",
       "    <tr>\n",
       "      <th>4</th>\n",
       "      <td>50010.0</td>\n",
       "      <td>AMES</td>\n",
       "      <td>176338.60</td>\n",
       "      <td>136.908851</td>\n",
       "      <td>24076.459167</td>\n",
       "      <td>18.692903</td>\n",
       "      <td>85.0</td>\n",
       "      <td>12381.30</td>\n",
       "      <td>9.612811</td>\n",
       "      <td>4015</td>\n",
       "      <td>6698.70</td>\n",
       "      <td>5.200854</td>\n",
       "    </tr>\n",
       "  </tbody>\n",
       "</table>\n",
       "</div>"
      ],
      "text/plain": [
       "   zip_code     city  2015_q1_sales_sum  2015_q1_sales_mean  \\\n",
       "0   50002.0    ADAIR            1379.04          125.367273   \n",
       "1   50003.0     ADEL           11657.81          155.437467   \n",
       "2   50006.0    ALDEN            2448.60           94.176923   \n",
       "3   50009.0  ALTOONA           42674.32          115.648564   \n",
       "4   50010.0     AMES          176338.60          136.908851   \n",
       "\n",
       "   2015_q1_price_per_liter_sum  2015_q1_price_per_liter_mean  county  \\\n",
       "0                   162.560000                     14.778182     1.0   \n",
       "1                  1165.717619                     15.542902    25.0   \n",
       "2                   403.298571                     15.511484    42.0   \n",
       "3                  6770.190476                     18.347400    77.0   \n",
       "4                 24076.459167                     18.692903    85.0   \n",
       "\n",
       "   2015_q1_volume_sold_liters_sum  2015_q1_volume_sold_liters_mean  \\\n",
       "0                           93.60                         8.509091   \n",
       "1                          830.07                        11.067600   \n",
       "2                          176.12                         6.773846   \n",
       "3                         2986.26                         8.092846   \n",
       "4                        12381.30                         9.612811   \n",
       "\n",
       "   store_number  2015_q1_margin_sum  2015_q1_margin_mean  \n",
       "0          4753               26.13             2.375455  \n",
       "1          4384              295.57             3.940933  \n",
       "2          4172              145.80             5.607692  \n",
       "3          2478             1733.20             4.697019  \n",
       "4          4015             6698.70             5.200854  "
      ]
     },
     "execution_count": 50,
     "metadata": {},
     "output_type": "execute_result"
    }
   ],
   "source": [
    "zip_Q1_2015_sales.head()"
   ]
  },
  {
   "cell_type": "code",
   "execution_count": 51,
   "metadata": {
    "collapsed": true
   },
   "outputs": [],
   "source": [
    "# Q1 2016 by Zipcode\n",
    "\n",
    "iowa.sort_values([\"Zip Code\", \"Date\"], inplace=True)\n",
    "start_date = pd.Timestamp(\"20150101\")\n",
    "end_date = pd.Timestamp(\"20150331\")\n",
    "mask = (iowa['Date'] >= start_date) & (iowa['Date'] <= end_date)\n",
    "zip_Q1_2016_sales = iowa[mask]\n",
    "\n",
    "\n",
    "\n",
    "zip_Q1_2016_sales = zip_Q1_2016_sales.groupby([\"Zip Code\"], as_index=False)\n",
    "\n",
    "zip_Q1_2016_sales = zip_Q1_2016_sales.agg({\"Sale (Dollars)\": [np.sum, np.mean],\n",
    "                   \"Volume Sold (Liters)\": [np.sum, np.mean],\n",
    "                   \"Margin\": [np.sum, np.mean],\n",
    "                   \"Price per Liter\": [np.sum, np.mean],\n",
    "                   \"Store Number\": lambda x: x.iloc[0], \n",
    "                   \"City\": lambda x: x.iloc[0],\n",
    "                   \"County Number\": lambda x: x.iloc[0]})\n",
    "\n",
    "zip_Q1_2016_sales.columns = zip_Q1_2016_sales.columns.get_level_values(0)\n",
    "\n",
    "\n",
    "zip_Q1_2016_sales.columns = ['zip_code','city','2016_q1_sales_sum','2016_q1_sales_mean','2016_q1_price_per_liter_sum','2016_q1_price_per_liter_mean'\n",
    "     ,'county','2016_q1_volume_sold_liters_sum','2016_q1_volume_sold_liters_mean','store_number','2016_q1_margin_sum','2016_q1_margin_mean']"
   ]
  },
  {
   "cell_type": "code",
   "execution_count": 52,
   "metadata": {
    "collapsed": true
   },
   "outputs": [],
   "source": [
    "zip_2015_merge = pd.merge(zip_Q1_2015_sales, zip_2015_sales, on=['zip_code'])"
   ]
  },
  {
   "cell_type": "code",
   "execution_count": 53,
   "metadata": {
    "collapsed": true
   },
   "outputs": [],
   "source": [
    "zip_sales_2015_mod = zip_2015_merge[['zip_code','2015_q1_sales_sum','2015_q1_price_per_liter_mean','2015_q1_volume_sold_liters_mean','2015_q1_margin_mean','2015_sales_sum']]"
   ]
  },
  {
   "cell_type": "code",
   "execution_count": 54,
   "metadata": {
    "collapsed": false
   },
   "outputs": [],
   "source": [
    "X = zip_sales_2015_mod[['2015_q1_sales_sum','2015_q1_price_per_liter_mean','2015_q1_margin_mean']]\n",
    "y = zip_sales_2015_mod['2015_sales_sum']\n",
    "\n",
    "X_2016 = zip_Q1_2016_sales[['2016_q1_sales_sum','2016_q1_price_per_liter_mean','2016_q1_margin_mean']]"
   ]
  },
  {
   "cell_type": "code",
   "execution_count": 55,
   "metadata": {
    "collapsed": false
   },
   "outputs": [
    {
     "data": {
      "text/html": [
       "<div>\n",
       "<table border=\"1\" class=\"dataframe\">\n",
       "  <thead>\n",
       "    <tr style=\"text-align: right;\">\n",
       "      <th></th>\n",
       "      <th>2016_q1_sales_sum</th>\n",
       "      <th>2016_q1_price_per_liter_mean</th>\n",
       "      <th>2016_q1_margin_mean</th>\n",
       "    </tr>\n",
       "  </thead>\n",
       "  <tbody>\n",
       "    <tr>\n",
       "      <th>0</th>\n",
       "      <td>1379.04</td>\n",
       "      <td>14.778182</td>\n",
       "      <td>2.375455</td>\n",
       "    </tr>\n",
       "    <tr>\n",
       "      <th>1</th>\n",
       "      <td>11657.81</td>\n",
       "      <td>15.542902</td>\n",
       "      <td>3.940933</td>\n",
       "    </tr>\n",
       "    <tr>\n",
       "      <th>2</th>\n",
       "      <td>2448.60</td>\n",
       "      <td>15.511484</td>\n",
       "      <td>5.607692</td>\n",
       "    </tr>\n",
       "    <tr>\n",
       "      <th>3</th>\n",
       "      <td>42674.32</td>\n",
       "      <td>18.347400</td>\n",
       "      <td>4.697019</td>\n",
       "    </tr>\n",
       "    <tr>\n",
       "      <th>4</th>\n",
       "      <td>176338.60</td>\n",
       "      <td>18.692903</td>\n",
       "      <td>5.200854</td>\n",
       "    </tr>\n",
       "  </tbody>\n",
       "</table>\n",
       "</div>"
      ],
      "text/plain": [
       "   2016_q1_sales_sum  2016_q1_price_per_liter_mean  2016_q1_margin_mean\n",
       "0            1379.04                     14.778182             2.375455\n",
       "1           11657.81                     15.542902             3.940933\n",
       "2            2448.60                     15.511484             5.607692\n",
       "3           42674.32                     18.347400             4.697019\n",
       "4          176338.60                     18.692903             5.200854"
      ]
     },
     "execution_count": 55,
     "metadata": {},
     "output_type": "execute_result"
    }
   ],
   "source": [
    "X_2016.head()"
   ]
  },
  {
   "cell_type": "code",
   "execution_count": 56,
   "metadata": {
    "collapsed": false
   },
   "outputs": [
    {
     "name": "stdout",
     "output_type": "stream",
     "text": [
      "2015:  0.986480251916\n"
     ]
    }
   ],
   "source": [
    "# Linear Regression, by Zip Code\n",
    "\n",
    "lm = linear_model.LinearRegression()\n",
    "model = lm.fit(X, y)\n",
    "predictions = lm.predict(X)\n",
    "predictions_zip2016 = lm.predict(X_2016)\n",
    "\n",
    "zip_Q1_2016_sales['2016_year_predicted_sales'] = lm.predict(X_2016)\n",
    "\n",
    "print \"2015: \", lm.score(X,y)"
   ]
  },
  {
   "cell_type": "code",
   "execution_count": 57,
   "metadata": {
    "collapsed": false
   },
   "outputs": [
    {
     "name": "stdout",
     "output_type": "stream",
     "text": [
      "Cross-validated scores: [ 0.98124206  0.94878009  0.98730983  0.97875996  0.99356465  0.99129802\n",
      "  0.96390566  0.98991125  0.98270979  0.97829515  0.99425878  0.97728065]\n",
      "Cross-Predicted Accuracy: 0.985869399119\n"
     ]
    },
    {
     "data": {
      "text/plain": [
       "28823597.097769774"
      ]
     },
     "execution_count": 57,
     "metadata": {},
     "output_type": "execute_result"
    }
   ],
   "source": [
    "from sklearn.cross_validation import train_test_split\n",
    "from sklearn.cross_validation import cross_val_score, cross_val_predict\n",
    "from sklearn import metrics\n",
    "\n",
    "model = zip_sales_2015_mod[['2015_q1_sales_sum','2015_q1_price_per_liter_mean','2015_q1_margin_mean']]\n",
    "y = zip_sales_2015_mod['2015_sales_sum']\n",
    "\n",
    "X_train, X_test, y_train, y_test = train_test_split(model, y, test_size=0.33)\n",
    "\n",
    "\n",
    "model_zip2016 = zip_Q1_2016_sales[['2016_q1_sales_sum','2016_q1_price_per_liter_mean','2016_q1_margin_mean']]\n",
    "\n",
    "lm2 = linear_model.LinearRegression()\n",
    "model2 = lm2.fit(X_train, y_train)\n",
    "predictions2 = lm2.predict(X_test)\n",
    "\n",
    "\n",
    "scores = cross_val_score(model2, model, y, cv=12)\n",
    "print \"Cross-validated scores:\", scores\n",
    "\n",
    "predictions3 = cross_val_predict(model2, model, y, cv=12)\n",
    "accuracy = metrics.r2_score(y, predictions3)\n",
    "print \"Cross-Predicted Accuracy:\", accuracy\n",
    "\n",
    "\n",
    "zip_Q1_2016_sales['2016_year_predicted_sales'] = lm2.predict(X_2016)\n",
    "\n",
    "sum(zip_Q1_2016_sales['2016_year_predicted_sales'])"
   ]
  },
  {
   "cell_type": "code",
   "execution_count": 58,
   "metadata": {
    "collapsed": true
   },
   "outputs": [],
   "source": [
    "iowa_2016 = pd.DataFrame(zip_Q1_2016_sales)\n",
    "iowa_2016.sort_values('2016_year_predicted_sales', inplace=True)"
   ]
  },
  {
   "cell_type": "code",
   "execution_count": 59,
   "metadata": {
    "collapsed": false
   },
   "outputs": [
    {
     "data": {
      "text/html": [
       "<div>\n",
       "<table border=\"1\" class=\"dataframe\">\n",
       "  <thead>\n",
       "    <tr style=\"text-align: right;\">\n",
       "      <th></th>\n",
       "      <th>zip_code</th>\n",
       "      <th>city</th>\n",
       "      <th>2016_q1_sales_sum</th>\n",
       "      <th>2016_q1_sales_mean</th>\n",
       "      <th>2016_q1_price_per_liter_sum</th>\n",
       "      <th>2016_q1_price_per_liter_mean</th>\n",
       "      <th>county</th>\n",
       "      <th>2016_q1_volume_sold_liters_sum</th>\n",
       "      <th>2016_q1_volume_sold_liters_mean</th>\n",
       "      <th>store_number</th>\n",
       "      <th>2016_q1_margin_sum</th>\n",
       "      <th>2016_q1_margin_mean</th>\n",
       "      <th>2016_year_predicted_sales</th>\n",
       "    </tr>\n",
       "  </thead>\n",
       "  <tbody>\n",
       "    <tr>\n",
       "      <th>110</th>\n",
       "      <td>50452.0</td>\n",
       "      <td>LATIMER</td>\n",
       "      <td>95.94</td>\n",
       "      <td>95.94</td>\n",
       "      <td>9.137143</td>\n",
       "      <td>9.137143</td>\n",
       "      <td>35.0</td>\n",
       "      <td>10.5</td>\n",
       "      <td>10.5</td>\n",
       "      <td>5055</td>\n",
       "      <td>5.50</td>\n",
       "      <td>5.50</td>\n",
       "      <td>-3382.491576</td>\n",
       "    </tr>\n",
       "    <tr>\n",
       "      <th>178</th>\n",
       "      <td>50680.0</td>\n",
       "      <td>WELLSBURG</td>\n",
       "      <td>194.40</td>\n",
       "      <td>194.40</td>\n",
       "      <td>6.171429</td>\n",
       "      <td>6.171429</td>\n",
       "      <td>38.0</td>\n",
       "      <td>31.5</td>\n",
       "      <td>31.5</td>\n",
       "      <td>4657</td>\n",
       "      <td>3.60</td>\n",
       "      <td>3.60</td>\n",
       "      <td>-2545.206562</td>\n",
       "    </tr>\n",
       "    <tr>\n",
       "      <th>296</th>\n",
       "      <td>52146.0</td>\n",
       "      <td>HARPERS FERRY</td>\n",
       "      <td>60.12</td>\n",
       "      <td>60.12</td>\n",
       "      <td>6.680000</td>\n",
       "      <td>6.680000</td>\n",
       "      <td>3.0</td>\n",
       "      <td>9.0</td>\n",
       "      <td>9.0</td>\n",
       "      <td>4896</td>\n",
       "      <td>1.67</td>\n",
       "      <td>1.67</td>\n",
       "      <td>-1567.277054</td>\n",
       "    </tr>\n",
       "    <tr>\n",
       "      <th>75</th>\n",
       "      <td>50251.0</td>\n",
       "      <td>SULLY</td>\n",
       "      <td>60.84</td>\n",
       "      <td>60.84</td>\n",
       "      <td>6.760000</td>\n",
       "      <td>6.760000</td>\n",
       "      <td>50.0</td>\n",
       "      <td>9.0</td>\n",
       "      <td>9.0</td>\n",
       "      <td>4627</td>\n",
       "      <td>1.69</td>\n",
       "      <td>1.69</td>\n",
       "      <td>-1550.658550</td>\n",
       "    </tr>\n",
       "    <tr>\n",
       "      <th>196</th>\n",
       "      <td>51005.0</td>\n",
       "      <td>AURELIA</td>\n",
       "      <td>79.20</td>\n",
       "      <td>79.20</td>\n",
       "      <td>8.800000</td>\n",
       "      <td>8.800000</td>\n",
       "      <td>18.0</td>\n",
       "      <td>9.0</td>\n",
       "      <td>9.0</td>\n",
       "      <td>4923</td>\n",
       "      <td>2.42</td>\n",
       "      <td>2.42</td>\n",
       "      <td>-1290.429288</td>\n",
       "    </tr>\n",
       "  </tbody>\n",
       "</table>\n",
       "</div>"
      ],
      "text/plain": [
       "     zip_code           city  2016_q1_sales_sum  2016_q1_sales_mean  \\\n",
       "110   50452.0        LATIMER              95.94               95.94   \n",
       "178   50680.0      WELLSBURG             194.40              194.40   \n",
       "296   52146.0  HARPERS FERRY              60.12               60.12   \n",
       "75    50251.0          SULLY              60.84               60.84   \n",
       "196   51005.0        AURELIA              79.20               79.20   \n",
       "\n",
       "     2016_q1_price_per_liter_sum  2016_q1_price_per_liter_mean  county  \\\n",
       "110                     9.137143                      9.137143    35.0   \n",
       "178                     6.171429                      6.171429    38.0   \n",
       "296                     6.680000                      6.680000     3.0   \n",
       "75                      6.760000                      6.760000    50.0   \n",
       "196                     8.800000                      8.800000    18.0   \n",
       "\n",
       "     2016_q1_volume_sold_liters_sum  2016_q1_volume_sold_liters_mean  \\\n",
       "110                            10.5                             10.5   \n",
       "178                            31.5                             31.5   \n",
       "296                             9.0                              9.0   \n",
       "75                              9.0                              9.0   \n",
       "196                             9.0                              9.0   \n",
       "\n",
       "     store_number  2016_q1_margin_sum  2016_q1_margin_mean  \\\n",
       "110          5055                5.50                 5.50   \n",
       "178          4657                3.60                 3.60   \n",
       "296          4896                1.67                 1.67   \n",
       "75           4627                1.69                 1.69   \n",
       "196          4923                2.42                 2.42   \n",
       "\n",
       "     2016_year_predicted_sales  \n",
       "110               -3382.491576  \n",
       "178               -2545.206562  \n",
       "296               -1567.277054  \n",
       "75                -1550.658550  \n",
       "196               -1290.429288  "
      ]
     },
     "execution_count": 59,
     "metadata": {},
     "output_type": "execute_result"
    }
   ],
   "source": [
    "iowa_2016.head()"
   ]
  },
  {
   "cell_type": "code",
   "execution_count": 60,
   "metadata": {
    "collapsed": false
   },
   "outputs": [
    {
     "data": {
      "text/html": [
       "<div>\n",
       "<table border=\"1\" class=\"dataframe\">\n",
       "  <thead>\n",
       "    <tr style=\"text-align: right;\">\n",
       "      <th></th>\n",
       "      <th>zip_code</th>\n",
       "      <th>city</th>\n",
       "      <th>2016_q1_sales_sum</th>\n",
       "      <th>2016_q1_sales_mean</th>\n",
       "      <th>2016_q1_price_per_liter_sum</th>\n",
       "      <th>2016_q1_price_per_liter_mean</th>\n",
       "      <th>county</th>\n",
       "      <th>2016_q1_volume_sold_liters_sum</th>\n",
       "      <th>2016_q1_volume_sold_liters_mean</th>\n",
       "      <th>store_number</th>\n",
       "      <th>2016_q1_margin_sum</th>\n",
       "      <th>2016_q1_margin_mean</th>\n",
       "      <th>2016_year_predicted_sales</th>\n",
       "    </tr>\n",
       "  </thead>\n",
       "  <tbody>\n",
       "    <tr>\n",
       "      <th>4</th>\n",
       "      <td>50010.0</td>\n",
       "      <td>AMES</td>\n",
       "      <td>176338.60</td>\n",
       "      <td>136.908851</td>\n",
       "      <td>24076.459167</td>\n",
       "      <td>18.692903</td>\n",
       "      <td>85.0</td>\n",
       "      <td>12381.30</td>\n",
       "      <td>9.612811</td>\n",
       "      <td>4015</td>\n",
       "      <td>6698.70</td>\n",
       "      <td>5.200854</td>\n",
       "      <td>8.340145e+05</td>\n",
       "    </tr>\n",
       "    <tr>\n",
       "      <th>314</th>\n",
       "      <td>52240.0</td>\n",
       "      <td>IOWA CITY</td>\n",
       "      <td>176632.44</td>\n",
       "      <td>153.326771</td>\n",
       "      <td>22104.012024</td>\n",
       "      <td>19.187510</td>\n",
       "      <td>52.0</td>\n",
       "      <td>11236.65</td>\n",
       "      <td>9.754036</td>\n",
       "      <td>2512</td>\n",
       "      <td>5732.71</td>\n",
       "      <td>4.976311</td>\n",
       "      <td>8.357452e+05</td>\n",
       "    </tr>\n",
       "    <tr>\n",
       "      <th>345</th>\n",
       "      <td>52402.0</td>\n",
       "      <td>CEDAR RAPIDS</td>\n",
       "      <td>221419.48</td>\n",
       "      <td>165.981619</td>\n",
       "      <td>24879.513690</td>\n",
       "      <td>18.650310</td>\n",
       "      <td>57.0</td>\n",
       "      <td>13903.21</td>\n",
       "      <td>10.422196</td>\n",
       "      <td>2569</td>\n",
       "      <td>6192.19</td>\n",
       "      <td>4.641822</td>\n",
       "      <td>1.047697e+06</td>\n",
       "    </tr>\n",
       "    <tr>\n",
       "      <th>92</th>\n",
       "      <td>50320.0</td>\n",
       "      <td>DES MOINES</td>\n",
       "      <td>222116.53</td>\n",
       "      <td>360.578782</td>\n",
       "      <td>12948.907857</td>\n",
       "      <td>21.020954</td>\n",
       "      <td>77.0</td>\n",
       "      <td>13959.40</td>\n",
       "      <td>22.661364</td>\n",
       "      <td>2633</td>\n",
       "      <td>3530.85</td>\n",
       "      <td>5.731899</td>\n",
       "      <td>1.051017e+06</td>\n",
       "    </tr>\n",
       "    <tr>\n",
       "      <th>88</th>\n",
       "      <td>50314.0</td>\n",
       "      <td>DES MOINES</td>\n",
       "      <td>246480.89</td>\n",
       "      <td>271.156095</td>\n",
       "      <td>19982.028333</td>\n",
       "      <td>21.982429</td>\n",
       "      <td>77.0</td>\n",
       "      <td>13941.10</td>\n",
       "      <td>15.336744</td>\n",
       "      <td>2190</td>\n",
       "      <td>5229.46</td>\n",
       "      <td>5.752981</td>\n",
       "      <td>1.166608e+06</td>\n",
       "    </tr>\n",
       "  </tbody>\n",
       "</table>\n",
       "</div>"
      ],
      "text/plain": [
       "     zip_code          city  2016_q1_sales_sum  2016_q1_sales_mean  \\\n",
       "4     50010.0          AMES          176338.60          136.908851   \n",
       "314   52240.0     IOWA CITY          176632.44          153.326771   \n",
       "345   52402.0  CEDAR RAPIDS          221419.48          165.981619   \n",
       "92    50320.0    DES MOINES          222116.53          360.578782   \n",
       "88    50314.0    DES MOINES          246480.89          271.156095   \n",
       "\n",
       "     2016_q1_price_per_liter_sum  2016_q1_price_per_liter_mean  county  \\\n",
       "4                   24076.459167                     18.692903    85.0   \n",
       "314                 22104.012024                     19.187510    52.0   \n",
       "345                 24879.513690                     18.650310    57.0   \n",
       "92                  12948.907857                     21.020954    77.0   \n",
       "88                  19982.028333                     21.982429    77.0   \n",
       "\n",
       "     2016_q1_volume_sold_liters_sum  2016_q1_volume_sold_liters_mean  \\\n",
       "4                          12381.30                         9.612811   \n",
       "314                        11236.65                         9.754036   \n",
       "345                        13903.21                        10.422196   \n",
       "92                         13959.40                        22.661364   \n",
       "88                         13941.10                        15.336744   \n",
       "\n",
       "     store_number  2016_q1_margin_sum  2016_q1_margin_mean  \\\n",
       "4            4015             6698.70             5.200854   \n",
       "314          2512             5732.71             4.976311   \n",
       "345          2569             6192.19             4.641822   \n",
       "92           2633             3530.85             5.731899   \n",
       "88           2190             5229.46             5.752981   \n",
       "\n",
       "     2016_year_predicted_sales  \n",
       "4                 8.340145e+05  \n",
       "314               8.357452e+05  \n",
       "345               1.047697e+06  \n",
       "92                1.051017e+06  \n",
       "88                1.166608e+06  "
      ]
     },
     "execution_count": 60,
     "metadata": {},
     "output_type": "execute_result"
    }
   ],
   "source": [
    "iowa_2016.tail()"
   ]
  },
  {
   "cell_type": "code",
   "execution_count": 70,
   "metadata": {
    "collapsed": false
   },
   "outputs": [
    {
     "data": {
      "text/plain": [
       "28823597.097769786"
      ]
     },
     "execution_count": 70,
     "metadata": {},
     "output_type": "execute_result"
    }
   ],
   "source": [
    "# Sum of 2016 sales\n",
    "iowa_2016['2016_year_predicted_sales'].sum()"
   ]
  },
  {
   "cell_type": "code",
   "execution_count": null,
   "metadata": {
    "collapsed": true
   },
   "outputs": [],
   "source": []
  },
  {
   "cell_type": "code",
   "execution_count": 62,
   "metadata": {
    "collapsed": false
   },
   "outputs": [],
   "source": [
    "dif2 = pd.DataFrame(zip_Q1_2016_sales['zip_code'])\n",
    "dif2['2016_zip_model1'] = predictions_zip2016\n",
    "dif2['2016_zip_model2'] = zip_Q1_2016_sales['2016_year_predicted_sales']\n",
    "dif2['diff'] = dif2['2016_zip_model1'] - dif2['2016_zip_model2']"
   ]
  },
  {
   "cell_type": "code",
   "execution_count": 63,
   "metadata": {
    "collapsed": false
   },
   "outputs": [
    {
     "data": {
      "text/html": [
       "<div>\n",
       "<table border=\"1\" class=\"dataframe\">\n",
       "  <thead>\n",
       "    <tr style=\"text-align: right;\">\n",
       "      <th></th>\n",
       "      <th>zip_code</th>\n",
       "      <th>2016_zip_model1</th>\n",
       "      <th>2016_zip_model2</th>\n",
       "      <th>diff</th>\n",
       "    </tr>\n",
       "  </thead>\n",
       "  <tbody>\n",
       "    <tr>\n",
       "      <th>0</th>\n",
       "      <td>50002.0</td>\n",
       "      <td>8001.972488</td>\n",
       "      <td>6990.663626</td>\n",
       "      <td>1011.308862</td>\n",
       "    </tr>\n",
       "    <tr>\n",
       "      <th>1</th>\n",
       "      <td>50003.0</td>\n",
       "      <td>54369.922015</td>\n",
       "      <td>54725.164139</td>\n",
       "      <td>-355.242124</td>\n",
       "    </tr>\n",
       "    <tr>\n",
       "      <th>2</th>\n",
       "      <td>50006.0</td>\n",
       "      <td>10868.318173</td>\n",
       "      <td>9905.471691</td>\n",
       "      <td>962.846482</td>\n",
       "    </tr>\n",
       "    <tr>\n",
       "      <th>3</th>\n",
       "      <td>50009.0</td>\n",
       "      <td>197407.486746</td>\n",
       "      <td>201889.495284</td>\n",
       "      <td>-4482.008537</td>\n",
       "    </tr>\n",
       "    <tr>\n",
       "      <th>4</th>\n",
       "      <td>50010.0</td>\n",
       "      <td>810683.392933</td>\n",
       "      <td>834014.485136</td>\n",
       "      <td>-23331.092203</td>\n",
       "    </tr>\n",
       "  </tbody>\n",
       "</table>\n",
       "</div>"
      ],
      "text/plain": [
       "   zip_code  2016_zip_model1  2016_zip_model2          diff\n",
       "0   50002.0      8001.972488      6990.663626   1011.308862\n",
       "1   50003.0     54369.922015     54725.164139   -355.242124\n",
       "2   50006.0     10868.318173      9905.471691    962.846482\n",
       "3   50009.0    197407.486746    201889.495284  -4482.008537\n",
       "4   50010.0    810683.392933    834014.485136 -23331.092203"
      ]
     },
     "execution_count": 63,
     "metadata": {},
     "output_type": "execute_result"
    }
   ],
   "source": [
    "dif2.head()"
   ]
  },
  {
   "cell_type": "code",
   "execution_count": 64,
   "metadata": {
    "collapsed": false
   },
   "outputs": [
    {
     "data": {
      "text/plain": [
       "<matplotlib.axes._subplots.AxesSubplot at 0x1194272d0>"
      ]
     },
     "execution_count": 64,
     "metadata": {},
     "output_type": "execute_result"
    },
    {
     "data": {
      "image/png": "[encoded data removed]",
      "text/plain": [
       "<matplotlib.figure.Figure at 0x1193d8e90>"
      ]
     },
     "metadata": {},
     "output_type": "display_data"
    }
   ],
   "source": [
    "# Top Results\n",
    "sns.regplot(model_zip2016['2016_q1_sales_sum'],zip_Q1_2016_sales['2016_year_predicted_sales'])"
   ]
  },
  {
   "cell_type": "code",
   "execution_count": 65,
   "metadata": {
    "collapsed": false
   },
   "outputs": [
    {
     "name": "stdout",
     "output_type": "stream",
     "text": [
      "Sum of 2016 Sales:\n",
      "28823597.0978 \n",
      "\n",
      "Zip  - 2016 Sales\n",
      "52001 $537602.17\n",
      "50613 $538091.58\n",
      "51501 $593755.12\n",
      "52722 $621992.15\n",
      "50311 $631547.89\n",
      "50010 $834014.49\n",
      "52240 $835745.19\n",
      "52402 $1047696.98\n",
      "50320 $1051016.54\n",
      "50314 $1166608.42\n"
     ]
    }
   ],
   "source": [
    "# Top 10 by Zipcode\n",
    "\n",
    "print \"Sum of 2016 Sales:\"\n",
    "print np.sum(dif2['2016_zip_model2']),'\\n'\n",
    "\n",
    "top10 = dif2.sort_values(by='2016_zip_model2').tail(10)\n",
    "\n",
    "print 'Zip',' -','2016 Sales'\n",
    "for x,row in top10.iterrows():\n",
    "      print '%i $%0.2f' % (row['zip_code'],row['2016_zip_model2'])"
   ]
  },
  {
   "cell_type": "code",
   "execution_count": 69,
   "metadata": {
    "collapsed": false
   },
   "outputs": [
    {
     "data": {
      "text/plain": [
       "0      6990.663626\n",
       "1     54725.164139\n",
       "2      9905.471691\n",
       "3    201889.495284\n",
       "4    834014.485136\n",
       "Name: 2016_zip_model2, dtype: float64"
      ]
     },
     "execution_count": 69,
     "metadata": {},
     "output_type": "execute_result"
    }
   ],
   "source": [
    "(dif2['2016_zip_model2']).head()"
   ]
  },
  {
   "cell_type": "code",
   "execution_count": 66,
   "metadata": {
    "collapsed": false
   },
   "outputs": [
    {
     "name": "stdout",
     "output_type": "stream",
     "text": [
      "Sum of 2016 Sales:\n",
      "28856911.5223 \n",
      "\n",
      "Store  - 2016 Sales\n",
      "2670 $242875.99\n",
      "3354 $245511.26\n",
      "3952 $263435.46\n",
      "3814 $281993.76\n",
      "3385 $286820.66\n",
      "3773 $294877.66\n",
      "3447 $335300.93\n",
      "2512 $498737.04\n",
      "4829 $932098.29\n",
      "2633 $972495.94\n"
     ]
    }
   ],
   "source": [
    "# Top 10 by store number\n",
    "\n",
    "print \"Sum of 2016 Sales:\"\n",
    "print np.sum(dif['2016_model2']),'\\n'\n",
    "\n",
    "top10 = dif.sort_values(by='2016_model2').tail(10)\n",
    "\n",
    "print 'Store',' -','2016 Sales'\n",
    "for x,row in top10.iterrows():\n",
    "      print '%i $%0.2f' % (row['store_number'],row['2016_model2'])"
   ]
  },
  {
   "cell_type": "code",
   "execution_count": null,
   "metadata": {
    "collapsed": true
   },
   "outputs": [],
   "source": []
  },
  {
   "cell_type": "code",
   "execution_count": null,
   "metadata": {
    "collapsed": true
   },
   "outputs": [],
   "source": []
  }
 ],
 "metadata": {
  "kernelspec": {
   "display_name": "Python 2",
   "language": "python",
   "name": "python2"
  },
  "language_info": {
   "codemirror_mode": {
    "name": "ipython",
    "version": 2
   },
   "file_extension": ".py",
   "mimetype": "text/x-python",
   "name": "python",
   "nbconvert_exporter": "python",
   "pygments_lexer": "ipython2",
   "version": "2.7.11"
  }
 },
 "nbformat": 4,
 "nbformat_minor": 0
}
