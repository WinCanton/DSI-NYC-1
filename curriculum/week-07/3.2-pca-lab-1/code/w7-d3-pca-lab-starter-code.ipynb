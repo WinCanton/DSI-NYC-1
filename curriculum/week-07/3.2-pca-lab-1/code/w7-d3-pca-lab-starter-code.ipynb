{
 "cells": [
  {
   "cell_type": "code",
   "execution_count": 7,
   "metadata": {
    "collapsed": true
   },
   "outputs": [],
   "source": [
    "import pandas as pd\n",
    "import numpy as np\n",
    "import os\n",
    "from matplotlib import pyplot as plt\n",
    "import numpy as np\n",
    "import math\n",
    "from sklearn.preprocessing import StandardScaler\n",
    "from sklearn.decomposition import PCA \n",
    "\n",
    "votes_file = '../assets/datasets/votes.csv'\n",
    "airport_file = '../assets/datasets/Airport_operations.csv'"
   ]
  },
  {
   "cell_type": "markdown",
   "metadata": {},
   "source": [
    "# Case #1: Congressional Voting Data"
   ]
  },
  {
   "cell_type": "markdown",
   "metadata": {},
   "source": [
    "After you've downloaded the data from the repository, go ahead and load it with Pandas"
   ]
  },
  {
   "cell_type": "code",
   "execution_count": 9,
   "metadata": {
    "collapsed": false
   },
   "outputs": [],
   "source": [
    "votes = pd.read_csv('../assets/datasets/votes.csv')"
   ]
  },
  {
   "cell_type": "code",
   "execution_count": 10,
   "metadata": {
    "collapsed": false
   },
   "outputs": [
    {
     "data": {
      "text/html": [
       "<div>\n",
       "<table border=\"1\" class=\"dataframe\">\n",
       "  <thead>\n",
       "    <tr style=\"text-align: right;\">\n",
       "      <th></th>\n",
       "      <th>Unnamed: 0</th>\n",
       "      <th>Class</th>\n",
       "      <th>V1</th>\n",
       "      <th>V2</th>\n",
       "      <th>V3</th>\n",
       "      <th>V4</th>\n",
       "      <th>V5</th>\n",
       "      <th>V6</th>\n",
       "      <th>V7</th>\n",
       "      <th>V8</th>\n",
       "      <th>V9</th>\n",
       "      <th>V10</th>\n",
       "      <th>V11</th>\n",
       "      <th>V12</th>\n",
       "      <th>V13</th>\n",
       "      <th>V14</th>\n",
       "      <th>V15</th>\n",
       "      <th>V16</th>\n",
       "    </tr>\n",
       "  </thead>\n",
       "  <tbody>\n",
       "    <tr>\n",
       "      <th>0</th>\n",
       "      <td>1</td>\n",
       "      <td>republican</td>\n",
       "      <td>n</td>\n",
       "      <td>y</td>\n",
       "      <td>n</td>\n",
       "      <td>y</td>\n",
       "      <td>y</td>\n",
       "      <td>y</td>\n",
       "      <td>n</td>\n",
       "      <td>n</td>\n",
       "      <td>n</td>\n",
       "      <td>y</td>\n",
       "      <td>NaN</td>\n",
       "      <td>y</td>\n",
       "      <td>y</td>\n",
       "      <td>y</td>\n",
       "      <td>n</td>\n",
       "      <td>y</td>\n",
       "    </tr>\n",
       "    <tr>\n",
       "      <th>1</th>\n",
       "      <td>2</td>\n",
       "      <td>republican</td>\n",
       "      <td>n</td>\n",
       "      <td>y</td>\n",
       "      <td>n</td>\n",
       "      <td>y</td>\n",
       "      <td>y</td>\n",
       "      <td>y</td>\n",
       "      <td>n</td>\n",
       "      <td>n</td>\n",
       "      <td>n</td>\n",
       "      <td>n</td>\n",
       "      <td>n</td>\n",
       "      <td>y</td>\n",
       "      <td>y</td>\n",
       "      <td>y</td>\n",
       "      <td>n</td>\n",
       "      <td>NaN</td>\n",
       "    </tr>\n",
       "    <tr>\n",
       "      <th>2</th>\n",
       "      <td>3</td>\n",
       "      <td>democrat</td>\n",
       "      <td>NaN</td>\n",
       "      <td>y</td>\n",
       "      <td>y</td>\n",
       "      <td>NaN</td>\n",
       "      <td>y</td>\n",
       "      <td>y</td>\n",
       "      <td>n</td>\n",
       "      <td>n</td>\n",
       "      <td>n</td>\n",
       "      <td>n</td>\n",
       "      <td>y</td>\n",
       "      <td>n</td>\n",
       "      <td>y</td>\n",
       "      <td>y</td>\n",
       "      <td>n</td>\n",
       "      <td>n</td>\n",
       "    </tr>\n",
       "    <tr>\n",
       "      <th>3</th>\n",
       "      <td>4</td>\n",
       "      <td>democrat</td>\n",
       "      <td>n</td>\n",
       "      <td>y</td>\n",
       "      <td>y</td>\n",
       "      <td>n</td>\n",
       "      <td>NaN</td>\n",
       "      <td>y</td>\n",
       "      <td>n</td>\n",
       "      <td>n</td>\n",
       "      <td>n</td>\n",
       "      <td>n</td>\n",
       "      <td>y</td>\n",
       "      <td>n</td>\n",
       "      <td>y</td>\n",
       "      <td>n</td>\n",
       "      <td>n</td>\n",
       "      <td>y</td>\n",
       "    </tr>\n",
       "    <tr>\n",
       "      <th>4</th>\n",
       "      <td>5</td>\n",
       "      <td>democrat</td>\n",
       "      <td>y</td>\n",
       "      <td>y</td>\n",
       "      <td>y</td>\n",
       "      <td>n</td>\n",
       "      <td>y</td>\n",
       "      <td>y</td>\n",
       "      <td>n</td>\n",
       "      <td>n</td>\n",
       "      <td>n</td>\n",
       "      <td>n</td>\n",
       "      <td>y</td>\n",
       "      <td>NaN</td>\n",
       "      <td>y</td>\n",
       "      <td>y</td>\n",
       "      <td>y</td>\n",
       "      <td>y</td>\n",
       "    </tr>\n",
       "  </tbody>\n",
       "</table>\n",
       "</div>"
      ],
      "text/plain": [
       "   Unnamed: 0       Class   V1 V2 V3   V4   V5 V6 V7 V8 V9 V10  V11  V12 V13  \\\n",
       "0           1  republican    n  y  n    y    y  y  n  n  n   y  NaN    y   y   \n",
       "1           2  republican    n  y  n    y    y  y  n  n  n   n    n    y   y   \n",
       "2           3    democrat  NaN  y  y  NaN    y  y  n  n  n   n    y    n   y   \n",
       "3           4    democrat    n  y  y    n  NaN  y  n  n  n   n    y    n   y   \n",
       "4           5    democrat    y  y  y    n    y  y  n  n  n   n    y  NaN   y   \n",
       "\n",
       "  V14 V15  V16  \n",
       "0   y   n    y  \n",
       "1   y   n  NaN  \n",
       "2   y   n    n  \n",
       "3   n   n    y  \n",
       "4   y   y    y  "
      ]
     },
     "execution_count": 10,
     "metadata": {},
     "output_type": "execute_result"
    }
   ],
   "source": [
    "votes.head()"
   ]
  },
  {
   "cell_type": "markdown",
   "metadata": {},
   "source": [
    "Next, let's define the x and y variables: "
   ]
  },
  {
   "cell_type": "code",
   "execution_count": 21,
   "metadata": {
    "collapsed": false
   },
   "outputs": [
    {
     "data": {
      "text/plain": [
       "array([['n', 'y', 'n', ..., 'y', nan, 'y'],\n",
       "       ['n', 'y', 'n', ..., 'n', 'n', 'y'],\n",
       "       [nan, 'y', 'y', ..., 'n', 'y', 'n'],\n",
       "       ..., \n",
       "       ['n', nan, 'n', ..., 'n', 'y', 'y'],\n",
       "       ['n', 'n', 'n', ..., nan, 'n', 'y'],\n",
       "       ['n', 'y', 'n', ..., 'y', 'n', 'y']], dtype=object)"
      ]
     },
     "execution_count": 21,
     "metadata": {},
     "output_type": "execute_result"
    }
   ],
   "source": [
    "x = votes.ix[:,2:14].values\n",
    "x"
   ]
  },
  {
   "cell_type": "code",
   "execution_count": 14,
   "metadata": {
    "collapsed": false
   },
   "outputs": [
    {
     "data": {
      "text/plain": [
       "array(['republican', 'republican', 'democrat', 'democrat', 'democrat',\n",
       "       'democrat', 'democrat', 'republican', 'republican', 'democrat',\n",
       "       'republican', 'republican', 'democrat', 'democrat', 'republican',\n",
       "       'republican', 'democrat', 'democrat', 'republican', 'democrat',\n",
       "       'democrat', 'democrat', 'democrat', 'democrat', 'democrat',\n",
       "       'democrat', 'democrat', 'democrat', 'republican', 'democrat',\n",
       "       'republican', 'democrat', 'democrat', 'republican', 'democrat',\n",
       "       'republican', 'republican', 'republican', 'republican', 'democrat',\n",
       "       'democrat', 'democrat', 'democrat', 'democrat', 'democrat',\n",
       "       'democrat', 'democrat', 'democrat', 'democrat', 'republican',\n",
       "       'democrat', 'republican', 'democrat', 'republican', 'democrat',\n",
       "       'republican', 'republican', 'republican', 'republican',\n",
       "       'republican', 'democrat', 'republican', 'democrat', 'democrat',\n",
       "       'democrat', 'republican', 'republican', 'republican', 'democrat',\n",
       "       'democrat', 'democrat', 'republican', 'democrat', 'republican',\n",
       "       'democrat', 'democrat', 'democrat', 'democrat', 'democrat',\n",
       "       'republican', 'democrat', 'democrat', 'republican', 'republican',\n",
       "       'republican', 'democrat', 'republican', 'republican', 'democrat',\n",
       "       'republican', 'democrat', 'democrat', 'democrat', 'democrat',\n",
       "       'democrat', 'democrat', 'democrat', 'democrat', 'democrat',\n",
       "       'republican', 'democrat', 'democrat', 'democrat', 'democrat',\n",
       "       'democrat', 'democrat', 'republican', 'republican', 'democrat',\n",
       "       'democrat', 'democrat', 'republican', 'democrat', 'republican',\n",
       "       'democrat', 'democrat', 'democrat', 'republican', 'democrat',\n",
       "       'republican', 'republican', 'republican', 'republican',\n",
       "       'republican', 'democrat', 'republican', 'republican', 'democrat',\n",
       "       'democrat', 'democrat', 'democrat', 'democrat', 'republican',\n",
       "       'republican', 'republican', 'republican', 'republican', 'democrat',\n",
       "       'democrat', 'democrat', 'republican', 'republican', 'republican',\n",
       "       'democrat', 'democrat', 'democrat', 'republican', 'democrat',\n",
       "       'republican', 'democrat', 'republican', 'democrat', 'democrat',\n",
       "       'democrat', 'republican', 'republican', 'republican', 'democrat',\n",
       "       'republican', 'democrat', 'democrat', 'democrat', 'democrat',\n",
       "       'republican', 'democrat', 'democrat', 'republican', 'republican',\n",
       "       'democrat', 'democrat', 'democrat', 'republican', 'democrat',\n",
       "       'democrat', 'democrat', 'democrat', 'republican', 'democrat',\n",
       "       'democrat', 'democrat', 'democrat', 'democrat', 'democrat',\n",
       "       'democrat', 'democrat', 'democrat', 'democrat', 'democrat',\n",
       "       'republican', 'democrat', 'republican', 'republican', 'democrat',\n",
       "       'democrat', 'democrat', 'republican', 'democrat', 'republican',\n",
       "       'democrat', 'democrat', 'democrat', 'democrat', 'democrat',\n",
       "       'democrat', 'republican', 'democrat', 'republican', 'republican',\n",
       "       'democrat', 'democrat', 'democrat', 'republican', 'democrat',\n",
       "       'democrat', 'republican', 'democrat', 'democrat', 'republican',\n",
       "       'democrat', 'democrat', 'democrat', 'democrat', 'democrat',\n",
       "       'republican', 'republican', 'republican', 'democrat', 'democrat',\n",
       "       'republican', 'republican', 'republican', 'republican', 'democrat',\n",
       "       'republican', 'democrat', 'republican', 'democrat', 'democrat',\n",
       "       'democrat', 'republican', 'republican', 'democrat', 'republican',\n",
       "       'democrat', 'democrat', 'democrat', 'democrat', 'republican',\n",
       "       'republican', 'democrat', 'republican', 'republican', 'democrat',\n",
       "       'republican', 'democrat', 'democrat', 'republican', 'republican',\n",
       "       'democrat', 'democrat', 'democrat', 'democrat', 'democrat',\n",
       "       'democrat', 'democrat', 'democrat', 'republican', 'republican',\n",
       "       'democrat', 'democrat', 'democrat', 'democrat', 'democrat',\n",
       "       'republican', 'republican', 'democrat', 'republican', 'republican',\n",
       "       'republican', 'republican', 'democrat', 'republican', 'republican',\n",
       "       'republican', 'democrat', 'democrat', 'democrat', 'democrat',\n",
       "       'democrat', 'democrat', 'democrat', 'democrat', 'democrat',\n",
       "       'democrat', 'democrat', 'republican', 'republican', 'democrat',\n",
       "       'democrat', 'democrat', 'republican', 'democrat', 'republican',\n",
       "       'republican', 'republican', 'republican', 'republican', 'democrat',\n",
       "       'republican', 'democrat', 'republican', 'democrat', 'democrat',\n",
       "       'republican', 'republican', 'republican', 'democrat', 'democrat',\n",
       "       'democrat', 'democrat', 'democrat', 'democrat', 'democrat',\n",
       "       'democrat', 'republican', 'democrat', 'democrat', 'republican',\n",
       "       'democrat', 'democrat', 'republican', 'democrat', 'democrat',\n",
       "       'democrat', 'democrat', 'republican', 'democrat', 'democrat',\n",
       "       'democrat', 'republican', 'republican', 'democrat', 'democrat',\n",
       "       'republican', 'democrat', 'republican', 'republican', 'republican',\n",
       "       'democrat', 'republican', 'democrat', 'republican', 'democrat',\n",
       "       'republican', 'democrat', 'republican', 'republican', 'republican',\n",
       "       'democrat', 'republican', 'democrat', 'democrat', 'democrat',\n",
       "       'republican', 'republican', 'democrat', 'democrat', 'democrat',\n",
       "       'democrat', 'republican', 'democrat', 'democrat', 'democrat',\n",
       "       'democrat', 'republican', 'democrat', 'democrat', 'republican',\n",
       "       'republican', 'republican', 'democrat', 'democrat', 'democrat',\n",
       "       'democrat', 'democrat', 'democrat', 'democrat', 'democrat',\n",
       "       'democrat', 'democrat', 'democrat', 'democrat', 'republican',\n",
       "       'republican', 'democrat', 'democrat', 'democrat', 'democrat',\n",
       "       'democrat', 'republican', 'republican', 'republican', 'republican',\n",
       "       'republican', 'republican', 'republican', 'democrat', 'democrat',\n",
       "       'democrat', 'republican', 'republican', 'democrat', 'republican',\n",
       "       'republican', 'democrat', 'democrat', 'republican', 'democrat',\n",
       "       'democrat', 'democrat', 'republican', 'democrat', 'democrat',\n",
       "       'democrat', 'democrat', 'democrat', 'democrat', 'republican',\n",
       "       'democrat', 'democrat', 'republican', 'democrat', 'republican',\n",
       "       'republican', 'republican'], dtype=object)"
      ]
     },
     "execution_count": 14,
     "metadata": {},
     "output_type": "execute_result"
    }
   ],
   "source": [
    "y = votes.ix[:,1].values\n",
    "y"
   ]
  },
  {
   "cell_type": "markdown",
   "metadata": {},
   "source": [
    "Next, create the covariance matrix from the standardized x-values and decompose these values to find the eigenvalues and eigenvectors"
   ]
  },
  {
   "cell_type": "code",
   "execution_count": null,
   "metadata": {
    "collapsed": false
   },
   "outputs": [],
   "source": []
  },
  {
   "cell_type": "markdown",
   "metadata": {},
   "source": [
    "Now, let's check the eigenvalues: "
   ]
  },
  {
   "cell_type": "code",
   "execution_count": null,
   "metadata": {
    "collapsed": true
   },
   "outputs": [],
   "source": []
  },
  {
   "cell_type": "markdown",
   "metadata": {},
   "source": [
    "And the eigenvectors: "
   ]
  },
  {
   "cell_type": "code",
   "execution_count": null,
   "metadata": {
    "collapsed": true
   },
   "outputs": [],
   "source": []
  },
  {
   "cell_type": "markdown",
   "metadata": {},
   "source": [
    "To find the principal componants, find the eigenpairs, and sort them from highest to lowest. "
   ]
  },
  {
   "cell_type": "code",
   "execution_count": null,
   "metadata": {
    "collapsed": true
   },
   "outputs": [],
   "source": []
  },
  {
   "cell_type": "markdown",
   "metadata": {
    "collapsed": true
   },
   "source": [
    "Now, calculate the explained variance. Recall the methods we learned in lesson 2.2!"
   ]
  },
  {
   "cell_type": "code",
   "execution_count": 12,
   "metadata": {
    "collapsed": true
   },
   "outputs": [],
   "source": []
  },
  {
   "cell_type": "markdown",
   "metadata": {},
   "source": [
    "Now, calculate the explained variance and the Cumulative explained variance"
   ]
  },
  {
   "cell_type": "code",
   "execution_count": 43,
   "metadata": {
    "collapsed": true
   },
   "outputs": [],
   "source": []
  },
  {
   "cell_type": "markdown",
   "metadata": {},
   "source": [
    "Now, conduct a PCA using scikit learn\n",
    "\n",
    "http://scikit-learn.org/stable/modules/generated/sklearn.decomposition.PCA.html"
   ]
  },
  {
   "cell_type": "code",
   "execution_count": null,
   "metadata": {
    "collapsed": true
   },
   "outputs": [],
   "source": []
  },
  {
   "cell_type": "markdown",
   "metadata": {},
   "source": [
    "# Case #2: Airport Delays"
   ]
  },
  {
   "cell_type": "code",
   "execution_count": 34,
   "metadata": {
    "collapsed": true
   },
   "outputs": [],
   "source": []
  },
  {
   "cell_type": "markdown",
   "metadata": {},
   "source": [
    "First, let's define the x and y variables: Airport is going to be our target variable"
   ]
  },
  {
   "cell_type": "code",
   "execution_count": 36,
   "metadata": {
    "collapsed": true
   },
   "outputs": [],
   "source": []
  },
  {
   "cell_type": "markdown",
   "metadata": {},
   "source": [
    "Then, standardize the x variable for analysis"
   ]
  },
  {
   "cell_type": "code",
   "execution_count": 37,
   "metadata": {
    "collapsed": false
   },
   "outputs": [],
   "source": []
  },
  {
   "cell_type": "markdown",
   "metadata": {},
   "source": [
    "Next, create the covariance matrix from the standardized x-values and decompose these values to find the eigenvalues and eigenvectors"
   ]
  },
  {
   "cell_type": "code",
   "execution_count": 38,
   "metadata": {
    "collapsed": false
   },
   "outputs": [],
   "source": []
  },
  {
   "cell_type": "markdown",
   "metadata": {},
   "source": [
    "Then, check your eigenvalues and eigenvectors:"
   ]
  },
  {
   "cell_type": "code",
   "execution_count": null,
   "metadata": {
    "collapsed": true
   },
   "outputs": [],
   "source": []
  },
  {
   "cell_type": "markdown",
   "metadata": {},
   "source": [
    "To find the principal components, find the eigenpairs, and sort them from highest to lowest. "
   ]
  },
  {
   "cell_type": "code",
   "execution_count": null,
   "metadata": {
    "collapsed": true
   },
   "outputs": [],
   "source": []
  },
  {
   "cell_type": "markdown",
   "metadata": {},
   "source": [
    "Next, Calculate the explained variance"
   ]
  },
  {
   "cell_type": "code",
   "execution_count": 41,
   "metadata": {
    "collapsed": false
   },
   "outputs": [],
   "source": []
  },
  {
   "cell_type": "markdown",
   "metadata": {},
   "source": [
    "Finally, conduct the PCA - use the results above to guide your selection of n components"
   ]
  },
  {
   "cell_type": "code",
   "execution_count": null,
   "metadata": {
    "collapsed": true
   },
   "outputs": [],
   "source": []
  },
  {
   "cell_type": "markdown",
   "metadata": {
    "collapsed": false
   },
   "source": [
    "**Bonus**: build and contrast classification models to predict the target classes for each problem, using both the original (or n-best) features and the principal components. If you arrive at <= 3-dimensional feature space, try plotting your data!"
   ]
  }
 ],
 "metadata": {
  "kernelspec": {
   "display_name": "Python 2",
   "language": "python",
   "name": "python2"
  },
  "language_info": {
   "codemirror_mode": {
    "name": "ipython",
    "version": 2
   },
   "file_extension": ".py",
   "mimetype": "text/x-python",
   "name": "python",
   "nbconvert_exporter": "python",
   "pygments_lexer": "ipython2",
   "version": "2.7.11"
  }
 },
 "nbformat": 4,
 "nbformat_minor": 0
}
