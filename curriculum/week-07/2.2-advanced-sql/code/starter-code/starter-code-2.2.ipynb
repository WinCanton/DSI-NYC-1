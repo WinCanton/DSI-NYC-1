{
 "cells": [
  {
   "cell_type": "markdown",
   "metadata": {},
   "source": [
    "## Lesson 2.2 - Advanced SQL"
   ]
  },
  {
   "cell_type": "markdown",
   "metadata": {},
   "source": [
    "Here's the situation - your working with a Postgre Database at a large wine distributor who needs you to maintain their database. You'll use some of your advanced SQl skills to take care of customer cases. Let's begin! \n",
    "\n",
    "First, let's load in the ipython sql extension so that we can use sql within the ipython notebook. "
   ]
  },
  {
   "cell_type": "code",
   "execution_count": 1,
   "metadata": {
    "collapsed": true
   },
   "outputs": [],
   "source": [
    "# !pip uninstall psycopg2\n",
    "# !conda install psycopg2\n",
    "# !pip install ipython-sql"
   ]
  },
  {
   "cell_type": "code",
   "execution_count": 2,
   "metadata": {
    "collapsed": false
   },
   "outputs": [],
   "source": [
    "import pandas as pd\n",
    "import numpy as np\n",
    "from sqlalchemy import create_engine\n",
    "from sqlalchemy.engine.url import URL\n",
    "import psycopg2"
   ]
  },
  {
   "cell_type": "code",
   "execution_count": 3,
   "metadata": {
    "collapsed": false
   },
   "outputs": [],
   "source": [
    "PATH = '../../assets/datasets/'\n",
    "df = pd.read_csv(PATH + 'wine.csv')\n",
    "df.columns = [c.lower().replace(' ','') for c in df.columns] #postgres doesn't like capitals or spaces\n"
   ]
  },
  {
   "cell_type": "code",
   "execution_count": 12,
   "metadata": {
    "collapsed": false
   },
   "outputs": [],
   "source": [
    "%reload_ext sql"
   ]
  },
  {
   "cell_type": "code",
   "execution_count": 13,
   "metadata": {
    "collapsed": false
   },
   "outputs": [
    {
     "data": {
      "text/plain": [
       "Index([u'fixedacidity', u'volatileacidity', u'citricacid', u'residualsugar',\n",
       "       u'chlorides', u'freesulfurdioxide', u'totalsulfurdioxide', u'density',\n",
       "       u'ph', u'sulphates', u'alcohol', u'quality'],\n",
       "      dtype='object')"
      ]
     },
     "execution_count": 13,
     "metadata": {},
     "output_type": "execute_result"
    }
   ],
   "source": [
    "df.columns"
   ]
  },
  {
   "cell_type": "markdown",
   "metadata": {},
   "source": [
    "Connect to the database. Note - enter your own connection string. For help on how to load the raw CSV file into a Postgre database, please refer to the documenatation in the lesson plan on previous SQL lessons. "
   ]
  },
  {
   "cell_type": "markdown",
   "metadata": {},
   "source": [
    "Create your database in postrgres. From **this folder**, launch psql in your terminal:\n",
    "```bash\n",
    "psql\n",
    "```\n",
    "```\n",
    "user=# create database wine\n",
    "user=# \\quit\n",
    "```\n"
   ]
  },
  {
   "cell_type": "code",
   "execution_count": 14,
   "metadata": {
    "collapsed": false
   },
   "outputs": [],
   "source": [
    "engine = create_engine('postgresql://localhost:5432')"
   ]
  },
  {
   "cell_type": "code",
   "execution_count": 15,
   "metadata": {
    "collapsed": false
   },
   "outputs": [
    {
     "ename": "ValueError",
     "evalue": "Table 'wine' already exists.",
     "output_type": "error",
     "traceback": [
      "\u001b[0;31m---------------------------------------------------------------------------\u001b[0m",
      "\u001b[0;31mValueError\u001b[0m                                Traceback (most recent call last)",
      "\u001b[0;32m<ipython-input-15-2061ac4dac20>\u001b[0m in \u001b[0;36m<module>\u001b[0;34m()\u001b[0m\n\u001b[0;32m----> 1\u001b[0;31m \u001b[0mdf\u001b[0m\u001b[0;34m.\u001b[0m\u001b[0mto_sql\u001b[0m\u001b[0;34m(\u001b[0m\u001b[0;34m'wine'\u001b[0m\u001b[0;34m,\u001b[0m \u001b[0mengine\u001b[0m\u001b[0;34m)\u001b[0m\u001b[0;34m\u001b[0m\u001b[0m\n\u001b[0m",
      "\u001b[0;32m/Users/Tamara/anaconda/lib/python2.7/site-packages/pandas/core/generic.pyc\u001b[0m in \u001b[0;36mto_sql\u001b[0;34m(self, name, con, flavor, schema, if_exists, index, index_label, chunksize, dtype)\u001b[0m\n\u001b[1;32m   1163\u001b[0m         sql.to_sql(self, name, con, flavor=flavor, schema=schema,\n\u001b[1;32m   1164\u001b[0m                    \u001b[0mif_exists\u001b[0m\u001b[0;34m=\u001b[0m\u001b[0mif_exists\u001b[0m\u001b[0;34m,\u001b[0m \u001b[0mindex\u001b[0m\u001b[0;34m=\u001b[0m\u001b[0mindex\u001b[0m\u001b[0;34m,\u001b[0m \u001b[0mindex_label\u001b[0m\u001b[0;34m=\u001b[0m\u001b[0mindex_label\u001b[0m\u001b[0;34m,\u001b[0m\u001b[0;34m\u001b[0m\u001b[0m\n\u001b[0;32m-> 1165\u001b[0;31m                    chunksize=chunksize, dtype=dtype)\n\u001b[0m\u001b[1;32m   1166\u001b[0m \u001b[0;34m\u001b[0m\u001b[0m\n\u001b[1;32m   1167\u001b[0m     \u001b[0;32mdef\u001b[0m \u001b[0mto_pickle\u001b[0m\u001b[0;34m(\u001b[0m\u001b[0mself\u001b[0m\u001b[0;34m,\u001b[0m \u001b[0mpath\u001b[0m\u001b[0;34m)\u001b[0m\u001b[0;34m:\u001b[0m\u001b[0;34m\u001b[0m\u001b[0m\n",
      "\u001b[0;32m/Users/Tamara/anaconda/lib/python2.7/site-packages/pandas/io/sql.pyc\u001b[0m in \u001b[0;36mto_sql\u001b[0;34m(frame, name, con, flavor, schema, if_exists, index, index_label, chunksize, dtype)\u001b[0m\n\u001b[1;32m    569\u001b[0m     pandas_sql.to_sql(frame, name, if_exists=if_exists, index=index,\n\u001b[1;32m    570\u001b[0m                       \u001b[0mindex_label\u001b[0m\u001b[0;34m=\u001b[0m\u001b[0mindex_label\u001b[0m\u001b[0;34m,\u001b[0m \u001b[0mschema\u001b[0m\u001b[0;34m=\u001b[0m\u001b[0mschema\u001b[0m\u001b[0;34m,\u001b[0m\u001b[0;34m\u001b[0m\u001b[0m\n\u001b[0;32m--> 571\u001b[0;31m                       chunksize=chunksize, dtype=dtype)\n\u001b[0m\u001b[1;32m    572\u001b[0m \u001b[0;34m\u001b[0m\u001b[0m\n\u001b[1;32m    573\u001b[0m \u001b[0;34m\u001b[0m\u001b[0m\n",
      "\u001b[0;32m/Users/Tamara/anaconda/lib/python2.7/site-packages/pandas/io/sql.pyc\u001b[0m in \u001b[0;36mto_sql\u001b[0;34m(self, frame, name, if_exists, index, index_label, schema, chunksize, dtype)\u001b[0m\n\u001b[1;32m   1247\u001b[0m                          \u001b[0mif_exists\u001b[0m\u001b[0;34m=\u001b[0m\u001b[0mif_exists\u001b[0m\u001b[0;34m,\u001b[0m \u001b[0mindex_label\u001b[0m\u001b[0;34m=\u001b[0m\u001b[0mindex_label\u001b[0m\u001b[0;34m,\u001b[0m\u001b[0;34m\u001b[0m\u001b[0m\n\u001b[1;32m   1248\u001b[0m                          schema=schema, dtype=dtype)\n\u001b[0;32m-> 1249\u001b[0;31m         \u001b[0mtable\u001b[0m\u001b[0;34m.\u001b[0m\u001b[0mcreate\u001b[0m\u001b[0;34m(\u001b[0m\u001b[0;34m)\u001b[0m\u001b[0;34m\u001b[0m\u001b[0m\n\u001b[0m\u001b[1;32m   1250\u001b[0m         \u001b[0mtable\u001b[0m\u001b[0;34m.\u001b[0m\u001b[0minsert\u001b[0m\u001b[0;34m(\u001b[0m\u001b[0mchunksize\u001b[0m\u001b[0;34m)\u001b[0m\u001b[0;34m\u001b[0m\u001b[0m\n\u001b[1;32m   1251\u001b[0m         \u001b[0;32mif\u001b[0m \u001b[0;34m(\u001b[0m\u001b[0;32mnot\u001b[0m \u001b[0mname\u001b[0m\u001b[0;34m.\u001b[0m\u001b[0misdigit\u001b[0m\u001b[0;34m(\u001b[0m\u001b[0;34m)\u001b[0m \u001b[0;32mand\u001b[0m \u001b[0;32mnot\u001b[0m \u001b[0mname\u001b[0m\u001b[0;34m.\u001b[0m\u001b[0mislower\u001b[0m\u001b[0;34m(\u001b[0m\u001b[0;34m)\u001b[0m\u001b[0;34m)\u001b[0m\u001b[0;34m:\u001b[0m\u001b[0;34m\u001b[0m\u001b[0m\n",
      "\u001b[0;32m/Users/Tamara/anaconda/lib/python2.7/site-packages/pandas/io/sql.pyc\u001b[0m in \u001b[0;36mcreate\u001b[0;34m(self)\u001b[0m\n\u001b[1;32m    690\u001b[0m         \u001b[0;32mif\u001b[0m \u001b[0mself\u001b[0m\u001b[0;34m.\u001b[0m\u001b[0mexists\u001b[0m\u001b[0;34m(\u001b[0m\u001b[0;34m)\u001b[0m\u001b[0;34m:\u001b[0m\u001b[0;34m\u001b[0m\u001b[0m\n\u001b[1;32m    691\u001b[0m             \u001b[0;32mif\u001b[0m \u001b[0mself\u001b[0m\u001b[0;34m.\u001b[0m\u001b[0mif_exists\u001b[0m \u001b[0;34m==\u001b[0m \u001b[0;34m'fail'\u001b[0m\u001b[0;34m:\u001b[0m\u001b[0;34m\u001b[0m\u001b[0m\n\u001b[0;32m--> 692\u001b[0;31m                 \u001b[0;32mraise\u001b[0m \u001b[0mValueError\u001b[0m\u001b[0;34m(\u001b[0m\u001b[0;34m\"Table '%s' already exists.\"\u001b[0m \u001b[0;34m%\u001b[0m \u001b[0mself\u001b[0m\u001b[0;34m.\u001b[0m\u001b[0mname\u001b[0m\u001b[0;34m)\u001b[0m\u001b[0;34m\u001b[0m\u001b[0m\n\u001b[0m\u001b[1;32m    693\u001b[0m             \u001b[0;32melif\u001b[0m \u001b[0mself\u001b[0m\u001b[0;34m.\u001b[0m\u001b[0mif_exists\u001b[0m \u001b[0;34m==\u001b[0m \u001b[0;34m'replace'\u001b[0m\u001b[0;34m:\u001b[0m\u001b[0;34m\u001b[0m\u001b[0m\n\u001b[1;32m    694\u001b[0m                 \u001b[0mself\u001b[0m\u001b[0;34m.\u001b[0m\u001b[0mpd_sql\u001b[0m\u001b[0;34m.\u001b[0m\u001b[0mdrop_table\u001b[0m\u001b[0;34m(\u001b[0m\u001b[0mself\u001b[0m\u001b[0;34m.\u001b[0m\u001b[0mname\u001b[0m\u001b[0;34m,\u001b[0m \u001b[0mself\u001b[0m\u001b[0;34m.\u001b[0m\u001b[0mschema\u001b[0m\u001b[0;34m)\u001b[0m\u001b[0;34m\u001b[0m\u001b[0m\n",
      "\u001b[0;31mValueError\u001b[0m: Table 'wine' already exists."
     ]
    }
   ],
   "source": [
    "df.to_sql('wine', engine)"
   ]
  },
  {
   "cell_type": "code",
   "execution_count": 16,
   "metadata": {
    "collapsed": false
   },
   "outputs": [
    {
     "name": "stdout",
     "output_type": "stream",
     "text": [
      "5 rows affected.\n"
     ]
    },
    {
     "data": {
      "text/html": [
       "<table>\n",
       "    <tr>\n",
       "        <th>index</th>\n",
       "        <th>fixedacidity</th>\n",
       "        <th>volatileacidity</th>\n",
       "        <th>citricacid</th>\n",
       "        <th>residualsugar</th>\n",
       "        <th>chlorides</th>\n",
       "        <th>freesulfurdioxide</th>\n",
       "        <th>totalsulfurdioxide</th>\n",
       "        <th>density</th>\n",
       "        <th>ph</th>\n",
       "        <th>sulphates</th>\n",
       "        <th>alcohol</th>\n",
       "        <th>quality</th>\n",
       "    </tr>\n",
       "    <tr>\n",
       "        <td>0</td>\n",
       "        <td>7.4</td>\n",
       "        <td>0.7</td>\n",
       "        <td>0.0</td>\n",
       "        <td>1.9</td>\n",
       "        <td>0.076</td>\n",
       "        <td>11.0</td>\n",
       "        <td>34.0</td>\n",
       "        <td>0.9978</td>\n",
       "        <td>3.51</td>\n",
       "        <td>0.56</td>\n",
       "        <td>9.4</td>\n",
       "        <td>5</td>\n",
       "    </tr>\n",
       "    <tr>\n",
       "        <td>1</td>\n",
       "        <td>7.8</td>\n",
       "        <td>0.88</td>\n",
       "        <td>0.0</td>\n",
       "        <td>2.6</td>\n",
       "        <td>0.098</td>\n",
       "        <td>25.0</td>\n",
       "        <td>67.0</td>\n",
       "        <td>0.9968</td>\n",
       "        <td>3.2</td>\n",
       "        <td>0.68</td>\n",
       "        <td>9.8</td>\n",
       "        <td>5</td>\n",
       "    </tr>\n",
       "    <tr>\n",
       "        <td>2</td>\n",
       "        <td>7.8</td>\n",
       "        <td>0.76</td>\n",
       "        <td>0.04</td>\n",
       "        <td>2.3</td>\n",
       "        <td>0.092</td>\n",
       "        <td>15.0</td>\n",
       "        <td>54.0</td>\n",
       "        <td>0.997</td>\n",
       "        <td>3.26</td>\n",
       "        <td>0.65</td>\n",
       "        <td>9.8</td>\n",
       "        <td>5</td>\n",
       "    </tr>\n",
       "    <tr>\n",
       "        <td>3</td>\n",
       "        <td>11.2</td>\n",
       "        <td>0.28</td>\n",
       "        <td>0.56</td>\n",
       "        <td>1.9</td>\n",
       "        <td>0.075</td>\n",
       "        <td>17.0</td>\n",
       "        <td>60.0</td>\n",
       "        <td>0.998</td>\n",
       "        <td>3.16</td>\n",
       "        <td>0.58</td>\n",
       "        <td>9.8</td>\n",
       "        <td>6</td>\n",
       "    </tr>\n",
       "    <tr>\n",
       "        <td>4</td>\n",
       "        <td>7.4</td>\n",
       "        <td>0.7</td>\n",
       "        <td>0.0</td>\n",
       "        <td>1.9</td>\n",
       "        <td>0.076</td>\n",
       "        <td>11.0</td>\n",
       "        <td>34.0</td>\n",
       "        <td>0.9978</td>\n",
       "        <td>3.51</td>\n",
       "        <td>0.56</td>\n",
       "        <td>9.4</td>\n",
       "        <td>5</td>\n",
       "    </tr>\n",
       "</table>"
      ],
      "text/plain": [
       "[(0L, 7.4, 0.7, 0.0, 1.9, 0.076, 11.0, 34.0, 0.9978, 3.51, 0.56, 9.4, 5L),\n",
       " (1L, 7.8, 0.88, 0.0, 2.6, 0.098, 25.0, 67.0, 0.9968, 3.2, 0.68, 9.8, 5L),\n",
       " (2L, 7.8, 0.76, 0.04, 2.3, 0.092, 15.0, 54.0, 0.997, 3.26, 0.65, 9.8, 5L),\n",
       " (3L, 11.2, 0.28, 0.56, 1.9, 0.075, 17.0, 60.0, 0.998, 3.16, 0.58, 9.8, 6L),\n",
       " (4L, 7.4, 0.7, 0.0, 1.9, 0.076, 11.0, 34.0, 0.9978, 3.51, 0.56, 9.4, 5L)]"
      ]
     },
     "execution_count": 16,
     "metadata": {},
     "output_type": "execute_result"
    }
   ],
   "source": [
    "%%sql postgresql://localhost:5432/\n",
    "        \n",
    "SELECT * FROM wine LIMIT 5"
   ]
  },
  {
   "cell_type": "markdown",
   "metadata": {},
   "source": [
    "Select all of the wines that have an alcohol content above 10 and create a new column `high_alc` where 1 denotes an alcohol content > 10. Otherwise the value should be `NULL`"
   ]
  },
  {
   "cell_type": "code",
   "execution_count": 25,
   "metadata": {
    "collapsed": false
   },
   "outputs": [
    {
     "name": "stdout",
     "output_type": "stream",
     "text": [
      "5 rows affected.\n"
     ]
    },
    {
     "data": {
      "text/html": [
       "<table>\n",
       "    <tr>\n",
       "        <th>index</th>\n",
       "        <th>fixedacidity</th>\n",
       "        <th>volatileacidity</th>\n",
       "        <th>citricacid</th>\n",
       "        <th>residualsugar</th>\n",
       "        <th>chlorides</th>\n",
       "        <th>freesulfurdioxide</th>\n",
       "        <th>totalsulfurdioxide</th>\n",
       "        <th>density</th>\n",
       "        <th>ph</th>\n",
       "        <th>sulphates</th>\n",
       "        <th>alcohol</th>\n",
       "        <th>quality</th>\n",
       "        <th>high_alc</th>\n",
       "    </tr>\n",
       "    <tr>\n",
       "        <td>0</td>\n",
       "        <td>7.4</td>\n",
       "        <td>0.7</td>\n",
       "        <td>0.0</td>\n",
       "        <td>1.9</td>\n",
       "        <td>0.076</td>\n",
       "        <td>11.0</td>\n",
       "        <td>34.0</td>\n",
       "        <td>0.9978</td>\n",
       "        <td>3.51</td>\n",
       "        <td>0.56</td>\n",
       "        <td>9.4</td>\n",
       "        <td>5</td>\n",
       "        <td>None</td>\n",
       "    </tr>\n",
       "    <tr>\n",
       "        <td>1</td>\n",
       "        <td>7.8</td>\n",
       "        <td>0.88</td>\n",
       "        <td>0.0</td>\n",
       "        <td>2.6</td>\n",
       "        <td>0.098</td>\n",
       "        <td>25.0</td>\n",
       "        <td>67.0</td>\n",
       "        <td>0.9968</td>\n",
       "        <td>3.2</td>\n",
       "        <td>0.68</td>\n",
       "        <td>9.8</td>\n",
       "        <td>5</td>\n",
       "        <td>None</td>\n",
       "    </tr>\n",
       "    <tr>\n",
       "        <td>2</td>\n",
       "        <td>7.8</td>\n",
       "        <td>0.76</td>\n",
       "        <td>0.04</td>\n",
       "        <td>2.3</td>\n",
       "        <td>0.092</td>\n",
       "        <td>15.0</td>\n",
       "        <td>54.0</td>\n",
       "        <td>0.997</td>\n",
       "        <td>3.26</td>\n",
       "        <td>0.65</td>\n",
       "        <td>9.8</td>\n",
       "        <td>5</td>\n",
       "        <td>None</td>\n",
       "    </tr>\n",
       "    <tr>\n",
       "        <td>3</td>\n",
       "        <td>11.2</td>\n",
       "        <td>0.28</td>\n",
       "        <td>0.56</td>\n",
       "        <td>1.9</td>\n",
       "        <td>0.075</td>\n",
       "        <td>17.0</td>\n",
       "        <td>60.0</td>\n",
       "        <td>0.998</td>\n",
       "        <td>3.16</td>\n",
       "        <td>0.58</td>\n",
       "        <td>9.8</td>\n",
       "        <td>6</td>\n",
       "        <td>None</td>\n",
       "    </tr>\n",
       "    <tr>\n",
       "        <td>4</td>\n",
       "        <td>7.4</td>\n",
       "        <td>0.7</td>\n",
       "        <td>0.0</td>\n",
       "        <td>1.9</td>\n",
       "        <td>0.076</td>\n",
       "        <td>11.0</td>\n",
       "        <td>34.0</td>\n",
       "        <td>0.9978</td>\n",
       "        <td>3.51</td>\n",
       "        <td>0.56</td>\n",
       "        <td>9.4</td>\n",
       "        <td>5</td>\n",
       "        <td>None</td>\n",
       "    </tr>\n",
       "</table>"
      ],
      "text/plain": [
       "[(0L, 7.4, 0.7, 0.0, 1.9, 0.076, 11.0, 34.0, 0.9978, 3.51, 0.56, 9.4, 5L, None),\n",
       " (1L, 7.8, 0.88, 0.0, 2.6, 0.098, 25.0, 67.0, 0.9968, 3.2, 0.68, 9.8, 5L, None),\n",
       " (2L, 7.8, 0.76, 0.04, 2.3, 0.092, 15.0, 54.0, 0.997, 3.26, 0.65, 9.8, 5L, None),\n",
       " (3L, 11.2, 0.28, 0.56, 1.9, 0.075, 17.0, 60.0, 0.998, 3.16, 0.58, 9.8, 6L, None),\n",
       " (4L, 7.4, 0.7, 0.0, 1.9, 0.076, 11.0, 34.0, 0.9978, 3.51, 0.56, 9.4, 5L, None)]"
      ]
     },
     "execution_count": 25,
     "metadata": {},
     "output_type": "execute_result"
    }
   ],
   "source": [
    "%%sql \n",
    "\n",
    "SELECT *, CASE WHEN alcohol > 10 THEN '1' ELSE NULL END AS high_alc FROM wine limit 5;"
   ]
  },
  {
   "cell_type": "markdown",
   "metadata": {},
   "source": [
    "Someone decided that they wanted to purchase *all* of these high alcohol wines for their resteraunts, so make sure to mark them as *sold*. Your predicesor forgot to add a column for *sales date*, so you will have to add this in to the database table as well. "
   ]
  },
  {
   "cell_type": "code",
   "execution_count": 35,
   "metadata": {
    "collapsed": false
   },
   "outputs": [
    {
     "name": "stdout",
     "output_type": "stream",
     "text": [
      "(psycopg2.ProgrammingError) column \"sale_date\" of relation \"wine\" already exists\n",
      " [SQL: 'ALTER table wine\\nADD sale_date date']\n"
     ]
    }
   ],
   "source": [
    "%%sql\n",
    "ALTER table wine\n",
    "ADD sale_date date"
   ]
  },
  {
   "cell_type": "markdown",
   "metadata": {},
   "source": [
    "Set their sale date to today"
   ]
  },
  {
   "cell_type": "code",
   "execution_count": 36,
   "metadata": {
    "collapsed": false
   },
   "outputs": [
    {
     "name": "stdout",
     "output_type": "stream",
     "text": [
      "852 rows affected.\n"
     ]
    },
    {
     "data": {
      "text/plain": [
       "[]"
      ]
     },
     "execution_count": 36,
     "metadata": {},
     "output_type": "execute_result"
    }
   ],
   "source": [
    "%%sql\n",
    "\n",
    "UPDATE wine SET sale_date = CURRENT_DATE WHERE alcohol >10"
   ]
  },
  {
   "cell_type": "code",
   "execution_count": null,
   "metadata": {
    "collapsed": false
   },
   "outputs": [],
   "source": []
  },
  {
   "cell_type": "markdown",
   "metadata": {},
   "source": [
    "Select all of the wines with high alcohol"
   ]
  },
  {
   "cell_type": "code",
   "execution_count": 46,
   "metadata": {
    "collapsed": false
   },
   "outputs": [
    {
     "name": "stdout",
     "output_type": "stream",
     "text": [
      "5 rows affected.\n"
     ]
    },
    {
     "data": {
      "text/html": [
       "<table>\n",
       "    <tr>\n",
       "        <th>index</th>\n",
       "        <th>fixedacidity</th>\n",
       "        <th>volatileacidity</th>\n",
       "        <th>citricacid</th>\n",
       "        <th>residualsugar</th>\n",
       "        <th>chlorides</th>\n",
       "        <th>freesulfurdioxide</th>\n",
       "        <th>totalsulfurdioxide</th>\n",
       "        <th>density</th>\n",
       "        <th>ph</th>\n",
       "        <th>sulphates</th>\n",
       "        <th>alcohol</th>\n",
       "        <th>quality</th>\n",
       "        <th>high_alc</th>\n",
       "        <th>sale_date</th>\n",
       "    </tr>\n",
       "    <tr>\n",
       "        <td>9</td>\n",
       "        <td>7.5</td>\n",
       "        <td>0.5</td>\n",
       "        <td>0.36</td>\n",
       "        <td>6.1</td>\n",
       "        <td>0.071</td>\n",
       "        <td>17.0</td>\n",
       "        <td>102.0</td>\n",
       "        <td>0.9978</td>\n",
       "        <td>3.35</td>\n",
       "        <td>0.8</td>\n",
       "        <td>10.5</td>\n",
       "        <td>5</td>\n",
       "        <td>None</td>\n",
       "        <td>2016-07-19</td>\n",
       "    </tr>\n",
       "    <tr>\n",
       "        <td>11</td>\n",
       "        <td>7.5</td>\n",
       "        <td>0.5</td>\n",
       "        <td>0.36</td>\n",
       "        <td>6.1</td>\n",
       "        <td>0.071</td>\n",
       "        <td>17.0</td>\n",
       "        <td>102.0</td>\n",
       "        <td>0.9978</td>\n",
       "        <td>3.35</td>\n",
       "        <td>0.8</td>\n",
       "        <td>10.5</td>\n",
       "        <td>5</td>\n",
       "        <td>None</td>\n",
       "        <td>2016-07-19</td>\n",
       "    </tr>\n",
       "    <tr>\n",
       "        <td>16</td>\n",
       "        <td>8.5</td>\n",
       "        <td>0.28</td>\n",
       "        <td>0.56</td>\n",
       "        <td>1.8</td>\n",
       "        <td>0.092</td>\n",
       "        <td>35.0</td>\n",
       "        <td>103.0</td>\n",
       "        <td>0.9969</td>\n",
       "        <td>3.3</td>\n",
       "        <td>0.75</td>\n",
       "        <td>10.5</td>\n",
       "        <td>7</td>\n",
       "        <td>None</td>\n",
       "        <td>2016-07-19</td>\n",
       "    </tr>\n",
       "    <tr>\n",
       "        <td>30</td>\n",
       "        <td>6.7</td>\n",
       "        <td>0.675</td>\n",
       "        <td>0.07</td>\n",
       "        <td>2.4</td>\n",
       "        <td>0.089</td>\n",
       "        <td>17.0</td>\n",
       "        <td>82.0</td>\n",
       "        <td>0.9958</td>\n",
       "        <td>3.35</td>\n",
       "        <td>0.54</td>\n",
       "        <td>10.1</td>\n",
       "        <td>5</td>\n",
       "        <td>None</td>\n",
       "        <td>2016-07-19</td>\n",
       "    </tr>\n",
       "    <tr>\n",
       "        <td>31</td>\n",
       "        <td>6.9</td>\n",
       "        <td>0.685</td>\n",
       "        <td>0.0</td>\n",
       "        <td>2.5</td>\n",
       "        <td>0.105</td>\n",
       "        <td>22.0</td>\n",
       "        <td>37.0</td>\n",
       "        <td>0.9966</td>\n",
       "        <td>3.46</td>\n",
       "        <td>0.57</td>\n",
       "        <td>10.6</td>\n",
       "        <td>6</td>\n",
       "        <td>None</td>\n",
       "        <td>2016-07-19</td>\n",
       "    </tr>\n",
       "</table>"
      ],
      "text/plain": [
       "[(9L, 7.5, 0.5, 0.36, 6.1, 0.071, 17.0, 102.0, 0.9978, 3.35, 0.8, 10.5, 5L, None, datetime.date(2016, 7, 19)),\n",
       " (11L, 7.5, 0.5, 0.36, 6.1, 0.071, 17.0, 102.0, 0.9978, 3.35, 0.8, 10.5, 5L, None, datetime.date(2016, 7, 19)),\n",
       " (16L, 8.5, 0.28, 0.56, 1.8, 0.092, 35.0, 103.0, 0.9969, 3.3, 0.75, 10.5, 7L, None, datetime.date(2016, 7, 19)),\n",
       " (30L, 6.7, 0.675, 0.07, 2.4, 0.089, 17.0, 82.0, 0.9958, 3.35, 0.54, 10.1, 5L, None, datetime.date(2016, 7, 19)),\n",
       " (31L, 6.9, 0.685, 0.0, 2.5, 0.105, 22.0, 37.0, 0.9966, 3.46, 0.57, 10.6, 6L, None, datetime.date(2016, 7, 19))]"
      ]
     },
     "execution_count": 46,
     "metadata": {},
     "output_type": "execute_result"
    }
   ],
   "source": [
    "%%sql\n",
    "Select * from wine WHERE alcohol > 10 limit 5;"
   ]
  },
  {
   "cell_type": "markdown",
   "metadata": {},
   "source": [
    "Now, for our analysis we want to take a look at all the high quality wines. Select the wines with ratings above 7 and save the result as a pandas dataframe"
   ]
  },
  {
   "cell_type": "code",
   "execution_count": 48,
   "metadata": {
    "collapsed": false
   },
   "outputs": [
    {
     "name": "stdout",
     "output_type": "stream",
     "text": [
      "18 rows affected.\n"
     ]
    },
    {
     "data": {
      "text/html": [
       "<table>\n",
       "    <tr>\n",
       "        <th>index</th>\n",
       "        <th>fixedacidity</th>\n",
       "        <th>volatileacidity</th>\n",
       "        <th>citricacid</th>\n",
       "        <th>residualsugar</th>\n",
       "        <th>chlorides</th>\n",
       "        <th>freesulfurdioxide</th>\n",
       "        <th>totalsulfurdioxide</th>\n",
       "        <th>density</th>\n",
       "        <th>ph</th>\n",
       "        <th>sulphates</th>\n",
       "        <th>alcohol</th>\n",
       "        <th>quality</th>\n",
       "        <th>high_alc</th>\n",
       "        <th>sale_date</th>\n",
       "    </tr>\n",
       "    <tr>\n",
       "        <td>440</td>\n",
       "        <td>12.6</td>\n",
       "        <td>0.31</td>\n",
       "        <td>0.72</td>\n",
       "        <td>2.2</td>\n",
       "        <td>0.072</td>\n",
       "        <td>6.0</td>\n",
       "        <td>29.0</td>\n",
       "        <td>0.9987</td>\n",
       "        <td>2.88</td>\n",
       "        <td>0.82</td>\n",
       "        <td>9.8</td>\n",
       "        <td>8</td>\n",
       "        <td>None</td>\n",
       "        <td>None</td>\n",
       "    </tr>\n",
       "    <tr>\n",
       "        <td>1403</td>\n",
       "        <td>7.2</td>\n",
       "        <td>0.33</td>\n",
       "        <td>0.33</td>\n",
       "        <td>1.7</td>\n",
       "        <td>0.061</td>\n",
       "        <td>3.0</td>\n",
       "        <td>13.0</td>\n",
       "        <td>0.996</td>\n",
       "        <td>3.23</td>\n",
       "        <td>1.1</td>\n",
       "        <td>10.0</td>\n",
       "        <td>8</td>\n",
       "        <td>None</td>\n",
       "        <td>None</td>\n",
       "    </tr>\n",
       "    <tr>\n",
       "        <td>267</td>\n",
       "        <td>7.9</td>\n",
       "        <td>0.35</td>\n",
       "        <td>0.46</td>\n",
       "        <td>3.6</td>\n",
       "        <td>0.078</td>\n",
       "        <td>15.0</td>\n",
       "        <td>37.0</td>\n",
       "        <td>0.9973</td>\n",
       "        <td>3.35</td>\n",
       "        <td>0.86</td>\n",
       "        <td>12.8</td>\n",
       "        <td>8</td>\n",
       "        <td>None</td>\n",
       "        <td>2016-07-19</td>\n",
       "    </tr>\n",
       "    <tr>\n",
       "        <td>278</td>\n",
       "        <td>10.3</td>\n",
       "        <td>0.32</td>\n",
       "        <td>0.45</td>\n",
       "        <td>6.4</td>\n",
       "        <td>0.073</td>\n",
       "        <td>5.0</td>\n",
       "        <td>13.0</td>\n",
       "        <td>0.9976</td>\n",
       "        <td>3.23</td>\n",
       "        <td>0.82</td>\n",
       "        <td>12.6</td>\n",
       "        <td>8</td>\n",
       "        <td>None</td>\n",
       "        <td>2016-07-19</td>\n",
       "    </tr>\n",
       "    <tr>\n",
       "        <td>390</td>\n",
       "        <td>5.6</td>\n",
       "        <td>0.85</td>\n",
       "        <td>0.05</td>\n",
       "        <td>1.4</td>\n",
       "        <td>0.045</td>\n",
       "        <td>12.0</td>\n",
       "        <td>88.0</td>\n",
       "        <td>0.9924</td>\n",
       "        <td>3.56</td>\n",
       "        <td>0.82</td>\n",
       "        <td>12.9</td>\n",
       "        <td>8</td>\n",
       "        <td>None</td>\n",
       "        <td>2016-07-19</td>\n",
       "    </tr>\n",
       "    <tr>\n",
       "        <td>455</td>\n",
       "        <td>11.3</td>\n",
       "        <td>0.62</td>\n",
       "        <td>0.67</td>\n",
       "        <td>5.2</td>\n",
       "        <td>0.086</td>\n",
       "        <td>6.0</td>\n",
       "        <td>19.0</td>\n",
       "        <td>0.9988</td>\n",
       "        <td>3.22</td>\n",
       "        <td>0.69</td>\n",
       "        <td>13.4</td>\n",
       "        <td>8</td>\n",
       "        <td>None</td>\n",
       "        <td>2016-07-19</td>\n",
       "    </tr>\n",
       "    <tr>\n",
       "        <td>481</td>\n",
       "        <td>9.4</td>\n",
       "        <td>0.3</td>\n",
       "        <td>0.56</td>\n",
       "        <td>2.8</td>\n",
       "        <td>0.08</td>\n",
       "        <td>6.0</td>\n",
       "        <td>17.0</td>\n",
       "        <td>0.9964</td>\n",
       "        <td>3.15</td>\n",
       "        <td>0.92</td>\n",
       "        <td>11.7</td>\n",
       "        <td>8</td>\n",
       "        <td>None</td>\n",
       "        <td>2016-07-19</td>\n",
       "    </tr>\n",
       "    <tr>\n",
       "        <td>495</td>\n",
       "        <td>10.7</td>\n",
       "        <td>0.35</td>\n",
       "        <td>0.53</td>\n",
       "        <td>2.6</td>\n",
       "        <td>0.07</td>\n",
       "        <td>5.0</td>\n",
       "        <td>16.0</td>\n",
       "        <td>0.9972</td>\n",
       "        <td>3.15</td>\n",
       "        <td>0.65</td>\n",
       "        <td>11.0</td>\n",
       "        <td>8</td>\n",
       "        <td>None</td>\n",
       "        <td>2016-07-19</td>\n",
       "    </tr>\n",
       "    <tr>\n",
       "        <td>498</td>\n",
       "        <td>10.7</td>\n",
       "        <td>0.35</td>\n",
       "        <td>0.53</td>\n",
       "        <td>2.6</td>\n",
       "        <td>0.07</td>\n",
       "        <td>5.0</td>\n",
       "        <td>16.0</td>\n",
       "        <td>0.9972</td>\n",
       "        <td>3.15</td>\n",
       "        <td>0.65</td>\n",
       "        <td>11.0</td>\n",
       "        <td>8</td>\n",
       "        <td>None</td>\n",
       "        <td>2016-07-19</td>\n",
       "    </tr>\n",
       "    <tr>\n",
       "        <td>588</td>\n",
       "        <td>5.0</td>\n",
       "        <td>0.42</td>\n",
       "        <td>0.24</td>\n",
       "        <td>2.0</td>\n",
       "        <td>0.06</td>\n",
       "        <td>19.0</td>\n",
       "        <td>50.0</td>\n",
       "        <td>0.9917</td>\n",
       "        <td>3.72</td>\n",
       "        <td>0.74</td>\n",
       "        <td>14.0</td>\n",
       "        <td>8</td>\n",
       "        <td>None</td>\n",
       "        <td>2016-07-19</td>\n",
       "    </tr>\n",
       "    <tr>\n",
       "        <td>828</td>\n",
       "        <td>7.8</td>\n",
       "        <td>0.57</td>\n",
       "        <td>0.09</td>\n",
       "        <td>2.3</td>\n",
       "        <td>0.065</td>\n",
       "        <td>34.0</td>\n",
       "        <td>45.0</td>\n",
       "        <td>0.99417</td>\n",
       "        <td>3.46</td>\n",
       "        <td>0.74</td>\n",
       "        <td>12.7</td>\n",
       "        <td>8</td>\n",
       "        <td>None</td>\n",
       "        <td>2016-07-19</td>\n",
       "    </tr>\n",
       "    <tr>\n",
       "        <td>1061</td>\n",
       "        <td>9.1</td>\n",
       "        <td>0.4</td>\n",
       "        <td>0.5</td>\n",
       "        <td>1.8</td>\n",
       "        <td>0.071</td>\n",
       "        <td>7.0</td>\n",
       "        <td>16.0</td>\n",
       "        <td>0.99462</td>\n",
       "        <td>3.21</td>\n",
       "        <td>0.69</td>\n",
       "        <td>12.5</td>\n",
       "        <td>8</td>\n",
       "        <td>None</td>\n",
       "        <td>2016-07-19</td>\n",
       "    </tr>\n",
       "    <tr>\n",
       "        <td>1090</td>\n",
       "        <td>10.0</td>\n",
       "        <td>0.26</td>\n",
       "        <td>0.54</td>\n",
       "        <td>1.9</td>\n",
       "        <td>0.083</td>\n",
       "        <td>42.0</td>\n",
       "        <td>74.0</td>\n",
       "        <td>0.99451</td>\n",
       "        <td>2.98</td>\n",
       "        <td>0.63</td>\n",
       "        <td>11.8</td>\n",
       "        <td>8</td>\n",
       "        <td>None</td>\n",
       "        <td>2016-07-19</td>\n",
       "    </tr>\n",
       "    <tr>\n",
       "        <td>1120</td>\n",
       "        <td>7.9</td>\n",
       "        <td>0.54</td>\n",
       "        <td>0.34</td>\n",
       "        <td>2.5</td>\n",
       "        <td>0.076</td>\n",
       "        <td>8.0</td>\n",
       "        <td>17.0</td>\n",
       "        <td>0.99235</td>\n",
       "        <td>3.2</td>\n",
       "        <td>0.72</td>\n",
       "        <td>13.1</td>\n",
       "        <td>8</td>\n",
       "        <td>None</td>\n",
       "        <td>2016-07-19</td>\n",
       "    </tr>\n",
       "    <tr>\n",
       "        <td>1202</td>\n",
       "        <td>8.6</td>\n",
       "        <td>0.42</td>\n",
       "        <td>0.39</td>\n",
       "        <td>1.8</td>\n",
       "        <td>0.068</td>\n",
       "        <td>6.0</td>\n",
       "        <td>12.0</td>\n",
       "        <td>0.99516</td>\n",
       "        <td>3.35</td>\n",
       "        <td>0.69</td>\n",
       "        <td>11.7</td>\n",
       "        <td>8</td>\n",
       "        <td>None</td>\n",
       "        <td>2016-07-19</td>\n",
       "    </tr>\n",
       "    <tr>\n",
       "        <td>1269</td>\n",
       "        <td>5.5</td>\n",
       "        <td>0.49</td>\n",
       "        <td>0.03</td>\n",
       "        <td>1.8</td>\n",
       "        <td>0.044</td>\n",
       "        <td>28.0</td>\n",
       "        <td>87.0</td>\n",
       "        <td>0.9908</td>\n",
       "        <td>3.5</td>\n",
       "        <td>0.82</td>\n",
       "        <td>14.0</td>\n",
       "        <td>8</td>\n",
       "        <td>None</td>\n",
       "        <td>2016-07-19</td>\n",
       "    </tr>\n",
       "    <tr>\n",
       "        <td>1449</td>\n",
       "        <td>7.2</td>\n",
       "        <td>0.38</td>\n",
       "        <td>0.31</td>\n",
       "        <td>2.0</td>\n",
       "        <td>0.056</td>\n",
       "        <td>15.0</td>\n",
       "        <td>29.0</td>\n",
       "        <td>0.99472</td>\n",
       "        <td>3.23</td>\n",
       "        <td>0.76</td>\n",
       "        <td>11.3</td>\n",
       "        <td>8</td>\n",
       "        <td>None</td>\n",
       "        <td>2016-07-19</td>\n",
       "    </tr>\n",
       "    <tr>\n",
       "        <td>1549</td>\n",
       "        <td>7.4</td>\n",
       "        <td>0.36</td>\n",
       "        <td>0.3</td>\n",
       "        <td>1.8</td>\n",
       "        <td>0.074</td>\n",
       "        <td>17.0</td>\n",
       "        <td>24.0</td>\n",
       "        <td>0.99419</td>\n",
       "        <td>3.24</td>\n",
       "        <td>0.7</td>\n",
       "        <td>11.4</td>\n",
       "        <td>8</td>\n",
       "        <td>None</td>\n",
       "        <td>2016-07-19</td>\n",
       "    </tr>\n",
       "</table>"
      ],
      "text/plain": [
       "[(440L, 12.6, 0.31, 0.72, 2.2, 0.072, 6.0, 29.0, 0.9987, 2.88, 0.82, 9.8, 8L, None, None),\n",
       " (1403L, 7.2, 0.33, 0.33, 1.7, 0.061, 3.0, 13.0, 0.996, 3.23, 1.1, 10.0, 8L, None, None),\n",
       " (267L, 7.9, 0.35, 0.46, 3.6, 0.078, 15.0, 37.0, 0.9973, 3.35, 0.86, 12.8, 8L, None, datetime.date(2016, 7, 19)),\n",
       " (278L, 10.3, 0.32, 0.45, 6.4, 0.073, 5.0, 13.0, 0.9976, 3.23, 0.82, 12.6, 8L, None, datetime.date(2016, 7, 19)),\n",
       " (390L, 5.6, 0.85, 0.05, 1.4, 0.045, 12.0, 88.0, 0.9924, 3.56, 0.82, 12.9, 8L, None, datetime.date(2016, 7, 19)),\n",
       " (455L, 11.3, 0.62, 0.67, 5.2, 0.086, 6.0, 19.0, 0.9988, 3.22, 0.69, 13.4, 8L, None, datetime.date(2016, 7, 19)),\n",
       " (481L, 9.4, 0.3, 0.56, 2.8, 0.08, 6.0, 17.0, 0.9964, 3.15, 0.92, 11.7, 8L, None, datetime.date(2016, 7, 19)),\n",
       " (495L, 10.7, 0.35, 0.53, 2.6, 0.07, 5.0, 16.0, 0.9972, 3.15, 0.65, 11.0, 8L, None, datetime.date(2016, 7, 19)),\n",
       " (498L, 10.7, 0.35, 0.53, 2.6, 0.07, 5.0, 16.0, 0.9972, 3.15, 0.65, 11.0, 8L, None, datetime.date(2016, 7, 19)),\n",
       " (588L, 5.0, 0.42, 0.24, 2.0, 0.06, 19.0, 50.0, 0.9917, 3.72, 0.74, 14.0, 8L, None, datetime.date(2016, 7, 19)),\n",
       " (828L, 7.8, 0.57, 0.09, 2.3, 0.065, 34.0, 45.0, 0.99417, 3.46, 0.74, 12.7, 8L, None, datetime.date(2016, 7, 19)),\n",
       " (1061L, 9.1, 0.4, 0.5, 1.8, 0.071, 7.0, 16.0, 0.99462, 3.21, 0.69, 12.5, 8L, None, datetime.date(2016, 7, 19)),\n",
       " (1090L, 10.0, 0.26, 0.54, 1.9, 0.083, 42.0, 74.0, 0.99451, 2.98, 0.63, 11.8, 8L, None, datetime.date(2016, 7, 19)),\n",
       " (1120L, 7.9, 0.54, 0.34, 2.5, 0.076, 8.0, 17.0, 0.99235, 3.2, 0.72, 13.1, 8L, None, datetime.date(2016, 7, 19)),\n",
       " (1202L, 8.6, 0.42, 0.39, 1.8, 0.068, 6.0, 12.0, 0.99516, 3.35, 0.69, 11.7, 8L, None, datetime.date(2016, 7, 19)),\n",
       " (1269L, 5.5, 0.49, 0.03, 1.8, 0.044, 28.0, 87.0, 0.9908, 3.5, 0.82, 14.0, 8L, None, datetime.date(2016, 7, 19)),\n",
       " (1449L, 7.2, 0.38, 0.31, 2.0, 0.056, 15.0, 29.0, 0.99472, 3.23, 0.76, 11.3, 8L, None, datetime.date(2016, 7, 19)),\n",
       " (1549L, 7.4, 0.36, 0.3, 1.8, 0.074, 17.0, 24.0, 0.99419, 3.24, 0.7, 11.4, 8L, None, datetime.date(2016, 7, 19))]"
      ]
     },
     "execution_count": 48,
     "metadata": {},
     "output_type": "execute_result"
    }
   ],
   "source": [
    "%%sql\n",
    "SELECT * from wine WHERE quality > 7"
   ]
  },
  {
   "cell_type": "code",
   "execution_count": 50,
   "metadata": {
    "collapsed": false
   },
   "outputs": [],
   "source": [
    "hQuality = pd.read_sql_query('SELECT * FROM wine WHERE quality >7;', engine)"
   ]
  },
  {
   "cell_type": "code",
   "execution_count": 52,
   "metadata": {
    "collapsed": false
   },
   "outputs": [
    {
     "data": {
      "text/html": [
       "<div>\n",
       "<table border=\"1\" class=\"dataframe\">\n",
       "  <thead>\n",
       "    <tr style=\"text-align: right;\">\n",
       "      <th></th>\n",
       "      <th>index</th>\n",
       "      <th>fixedacidity</th>\n",
       "      <th>volatileacidity</th>\n",
       "      <th>citricacid</th>\n",
       "      <th>residualsugar</th>\n",
       "      <th>chlorides</th>\n",
       "      <th>freesulfurdioxide</th>\n",
       "      <th>totalsulfurdioxide</th>\n",
       "      <th>density</th>\n",
       "      <th>ph</th>\n",
       "      <th>sulphates</th>\n",
       "      <th>alcohol</th>\n",
       "      <th>quality</th>\n",
       "      <th>high_alc</th>\n",
       "      <th>sale_date</th>\n",
       "    </tr>\n",
       "  </thead>\n",
       "  <tbody>\n",
       "    <tr>\n",
       "      <th>0</th>\n",
       "      <td>440</td>\n",
       "      <td>12.6</td>\n",
       "      <td>0.31</td>\n",
       "      <td>0.72</td>\n",
       "      <td>2.2</td>\n",
       "      <td>0.072</td>\n",
       "      <td>6.0</td>\n",
       "      <td>29.0</td>\n",
       "      <td>0.9987</td>\n",
       "      <td>2.88</td>\n",
       "      <td>0.82</td>\n",
       "      <td>9.8</td>\n",
       "      <td>8</td>\n",
       "      <td>None</td>\n",
       "      <td>None</td>\n",
       "    </tr>\n",
       "    <tr>\n",
       "      <th>1</th>\n",
       "      <td>1403</td>\n",
       "      <td>7.2</td>\n",
       "      <td>0.33</td>\n",
       "      <td>0.33</td>\n",
       "      <td>1.7</td>\n",
       "      <td>0.061</td>\n",
       "      <td>3.0</td>\n",
       "      <td>13.0</td>\n",
       "      <td>0.9960</td>\n",
       "      <td>3.23</td>\n",
       "      <td>1.10</td>\n",
       "      <td>10.0</td>\n",
       "      <td>8</td>\n",
       "      <td>None</td>\n",
       "      <td>None</td>\n",
       "    </tr>\n",
       "    <tr>\n",
       "      <th>2</th>\n",
       "      <td>267</td>\n",
       "      <td>7.9</td>\n",
       "      <td>0.35</td>\n",
       "      <td>0.46</td>\n",
       "      <td>3.6</td>\n",
       "      <td>0.078</td>\n",
       "      <td>15.0</td>\n",
       "      <td>37.0</td>\n",
       "      <td>0.9973</td>\n",
       "      <td>3.35</td>\n",
       "      <td>0.86</td>\n",
       "      <td>12.8</td>\n",
       "      <td>8</td>\n",
       "      <td>None</td>\n",
       "      <td>2016-07-19</td>\n",
       "    </tr>\n",
       "    <tr>\n",
       "      <th>3</th>\n",
       "      <td>278</td>\n",
       "      <td>10.3</td>\n",
       "      <td>0.32</td>\n",
       "      <td>0.45</td>\n",
       "      <td>6.4</td>\n",
       "      <td>0.073</td>\n",
       "      <td>5.0</td>\n",
       "      <td>13.0</td>\n",
       "      <td>0.9976</td>\n",
       "      <td>3.23</td>\n",
       "      <td>0.82</td>\n",
       "      <td>12.6</td>\n",
       "      <td>8</td>\n",
       "      <td>None</td>\n",
       "      <td>2016-07-19</td>\n",
       "    </tr>\n",
       "    <tr>\n",
       "      <th>4</th>\n",
       "      <td>390</td>\n",
       "      <td>5.6</td>\n",
       "      <td>0.85</td>\n",
       "      <td>0.05</td>\n",
       "      <td>1.4</td>\n",
       "      <td>0.045</td>\n",
       "      <td>12.0</td>\n",
       "      <td>88.0</td>\n",
       "      <td>0.9924</td>\n",
       "      <td>3.56</td>\n",
       "      <td>0.82</td>\n",
       "      <td>12.9</td>\n",
       "      <td>8</td>\n",
       "      <td>None</td>\n",
       "      <td>2016-07-19</td>\n",
       "    </tr>\n",
       "  </tbody>\n",
       "</table>\n",
       "</div>"
      ],
      "text/plain": [
       "   index  fixedacidity  volatileacidity  citricacid  residualsugar  chlorides  \\\n",
       "0    440          12.6             0.31        0.72            2.2      0.072   \n",
       "1   1403           7.2             0.33        0.33            1.7      0.061   \n",
       "2    267           7.9             0.35        0.46            3.6      0.078   \n",
       "3    278          10.3             0.32        0.45            6.4      0.073   \n",
       "4    390           5.6             0.85        0.05            1.4      0.045   \n",
       "\n",
       "   freesulfurdioxide  totalsulfurdioxide  density    ph  sulphates  alcohol  \\\n",
       "0                6.0                29.0   0.9987  2.88       0.82      9.8   \n",
       "1                3.0                13.0   0.9960  3.23       1.10     10.0   \n",
       "2               15.0                37.0   0.9973  3.35       0.86     12.8   \n",
       "3                5.0                13.0   0.9976  3.23       0.82     12.6   \n",
       "4               12.0                88.0   0.9924  3.56       0.82     12.9   \n",
       "\n",
       "   quality high_alc   sale_date  \n",
       "0        8     None        None  \n",
       "1        8     None        None  \n",
       "2        8     None  2016-07-19  \n",
       "3        8     None  2016-07-19  \n",
       "4        8     None  2016-07-19  "
      ]
     },
     "execution_count": 52,
     "metadata": {},
     "output_type": "execute_result"
    }
   ],
   "source": [
    "hQuality.head()"
   ]
  },
  {
   "cell_type": "markdown",
   "metadata": {},
   "source": [
    "But wait! You just recieved a call that we not only want to view high quality wines, but we want to see high quality wines with low acidity and medium alcohol content. Remember, we cannot include the wines already sold in this query. "
   ]
  },
  {
   "cell_type": "code",
   "execution_count": 56,
   "metadata": {
    "collapsed": false
   },
   "outputs": [
    {
     "name": "stdout",
     "output_type": "stream",
     "text": [
      "1 rows affected.\n"
     ]
    },
    {
     "data": {
      "text/html": [
       "<table>\n",
       "    <tr>\n",
       "        <th>index</th>\n",
       "        <th>fixedacidity</th>\n",
       "        <th>volatileacidity</th>\n",
       "        <th>citricacid</th>\n",
       "        <th>residualsugar</th>\n",
       "        <th>chlorides</th>\n",
       "        <th>freesulfurdioxide</th>\n",
       "        <th>totalsulfurdioxide</th>\n",
       "        <th>density</th>\n",
       "        <th>ph</th>\n",
       "        <th>sulphates</th>\n",
       "        <th>alcohol</th>\n",
       "        <th>quality</th>\n",
       "        <th>high_alc</th>\n",
       "        <th>sale_date</th>\n",
       "    </tr>\n",
       "    <tr>\n",
       "        <td>1403</td>\n",
       "        <td>7.2</td>\n",
       "        <td>0.33</td>\n",
       "        <td>0.33</td>\n",
       "        <td>1.7</td>\n",
       "        <td>0.061</td>\n",
       "        <td>3.0</td>\n",
       "        <td>13.0</td>\n",
       "        <td>0.996</td>\n",
       "        <td>3.23</td>\n",
       "        <td>1.1</td>\n",
       "        <td>10.0</td>\n",
       "        <td>8</td>\n",
       "        <td>None</td>\n",
       "        <td>None</td>\n",
       "    </tr>\n",
       "</table>"
      ],
      "text/plain": [
       "[(1403L, 7.2, 0.33, 0.33, 1.7, 0.061, 3.0, 13.0, 0.996, 3.23, 1.1, 10.0, 8L, None, None)]"
      ]
     },
     "execution_count": 56,
     "metadata": {},
     "output_type": "execute_result"
    }
   ],
   "source": [
    "%%sql\n",
    "SELECT * FROM wine WHERE quality > 7 AND fixedacidity < 7.5 AND sale_date is NULL; "
   ]
  },
  {
   "cell_type": "code",
   "execution_count": 60,
   "metadata": {
    "collapsed": true
   },
   "outputs": [],
   "source": [
    "q = 'SELECT * FROM wine WHERE quality > 7 AND fixedacidity < 7.5 AND sale_date is NULL;'\n",
    "hQuality2 = pd.read_sql_query(q, engine)"
   ]
  },
  {
   "cell_type": "code",
   "execution_count": 61,
   "metadata": {
    "collapsed": false
   },
   "outputs": [
    {
     "data": {
      "text/html": [
       "<div>\n",
       "<table border=\"1\" class=\"dataframe\">\n",
       "  <thead>\n",
       "    <tr style=\"text-align: right;\">\n",
       "      <th></th>\n",
       "      <th>index</th>\n",
       "      <th>fixedacidity</th>\n",
       "      <th>volatileacidity</th>\n",
       "      <th>citricacid</th>\n",
       "      <th>residualsugar</th>\n",
       "      <th>chlorides</th>\n",
       "      <th>freesulfurdioxide</th>\n",
       "      <th>totalsulfurdioxide</th>\n",
       "      <th>density</th>\n",
       "      <th>ph</th>\n",
       "      <th>sulphates</th>\n",
       "      <th>alcohol</th>\n",
       "      <th>quality</th>\n",
       "      <th>high_alc</th>\n",
       "      <th>sale_date</th>\n",
       "    </tr>\n",
       "  </thead>\n",
       "  <tbody>\n",
       "    <tr>\n",
       "      <th>0</th>\n",
       "      <td>1403</td>\n",
       "      <td>7.2</td>\n",
       "      <td>0.33</td>\n",
       "      <td>0.33</td>\n",
       "      <td>1.7</td>\n",
       "      <td>0.061</td>\n",
       "      <td>3.0</td>\n",
       "      <td>13.0</td>\n",
       "      <td>0.996</td>\n",
       "      <td>3.23</td>\n",
       "      <td>1.1</td>\n",
       "      <td>10.0</td>\n",
       "      <td>8</td>\n",
       "      <td>None</td>\n",
       "      <td>None</td>\n",
       "    </tr>\n",
       "  </tbody>\n",
       "</table>\n",
       "</div>"
      ],
      "text/plain": [
       "   index  fixedacidity  volatileacidity  citricacid  residualsugar  chlorides  \\\n",
       "0   1403           7.2             0.33        0.33            1.7      0.061   \n",
       "\n",
       "   freesulfurdioxide  totalsulfurdioxide  density    ph  sulphates  alcohol  \\\n",
       "0                3.0                13.0    0.996  3.23        1.1     10.0   \n",
       "\n",
       "   quality high_alc sale_date  \n",
       "0        8     None      None  "
      ]
     },
     "execution_count": 61,
     "metadata": {},
     "output_type": "execute_result"
    }
   ],
   "source": [
    "hQuality2.head()"
   ]
  },
  {
   "cell_type": "markdown",
   "metadata": {},
   "source": [
    "Lastly, we want to round the density column to two variables within the database."
   ]
  },
  {
   "cell_type": "code",
   "execution_count": 81,
   "metadata": {
    "collapsed": false
   },
   "outputs": [
    {
     "name": "stdout",
     "output_type": "stream",
     "text": [
      "(psycopg2.ProgrammingError) function round(double precision, integer) does not exist\n",
      "LINE 1: SELECT *, ROUND(density, 1) as rounded_density FROM WINE;\n",
      "                  ^\n",
      "HINT:  No function matches the given name and argument types. You might need to add explicit type casts.\n",
      " [SQL: 'SELECT *, ROUND(density, 1) as rounded_density FROM WINE;']\n"
     ]
    }
   ],
   "source": [
    "%%sql\n",
    "SELECT *, ROUND(density, 1) as rounded_density FROM WINE;"
   ]
  }
 ],
 "metadata": {
  "kernelspec": {
   "display_name": "Python 2",
   "language": "python",
   "name": "python2"
  },
  "language_info": {
   "codemirror_mode": {
    "name": "ipython",
    "version": 2
   },
   "file_extension": ".py",
   "mimetype": "text/x-python",
   "name": "python",
   "nbconvert_exporter": "python",
   "pygments_lexer": "ipython2",
   "version": "2.7.11"
  }
 },
 "nbformat": 4,
 "nbformat_minor": 0
}
