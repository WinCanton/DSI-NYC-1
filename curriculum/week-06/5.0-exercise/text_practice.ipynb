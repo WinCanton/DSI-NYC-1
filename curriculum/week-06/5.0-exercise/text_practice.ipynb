{
 "cells": [
  {
   "cell_type": "code",
   "execution_count": 6,
   "metadata": {
    "collapsed": false
   },
   "outputs": [],
   "source": [
    "rosewater = \"Hello babies. Welcome to Earth. \\\n",
    "It's hot in the summer and cold in the winter. \\\n",
    "It's round and wet and crowded. On the outside, \\\n",
    "babies, you've got a hundred years here. \\\n",
    "There's only one rule that I know of, babies- \\\n",
    "'God damn it, you've got to be kind.'\""
   ]
  },
  {
   "cell_type": "markdown",
   "metadata": {},
   "source": [
    "Let's break this text up to make it more readable for machine learning. Split the text so it's a list of sentences. \n",
    "\n",
    "Then, remove punctuation from your sentences and make all your strings lowercase. "
   ]
  },
  {
   "cell_type": "code",
   "execution_count": 10,
   "metadata": {
    "collapsed": false
   },
   "outputs": [
    {
     "data": {
      "text/plain": [
       "['Hello babies',\n",
       " ' Welcome to Earth',\n",
       " \" It's hot in the summer and cold in the winter\",\n",
       " \" It's round and wet and crowded\",\n",
       " \" On the outside, babies, you've got a hundred years here\",\n",
       " \" There's only one rule that I know of, babies- 'God damn it, you've got to be kind\",\n",
       " \"'\"]"
      ]
     },
     "execution_count": 10,
     "metadata": {},
     "output_type": "execute_result"
    }
   ],
   "source": []
  },
  {
   "cell_type": "markdown",
   "metadata": {},
   "source": [
    "Now, vectorize each sentence so that each sentence is a list of words. You should now have a list of lists"
   ]
  },
  {
   "cell_type": "code",
   "execution_count": 14,
   "metadata": {
    "collapsed": false
   },
   "outputs": [],
   "source": []
  },
  {
   "cell_type": "code",
   "execution_count": 15,
   "metadata": {
    "collapsed": false
   },
   "outputs": [
    {
     "data": {
      "text/plain": [
       "[['Hello', 'babies'],\n",
       " ['', 'Welcome', 'to', 'Earth'],\n",
       " ['',\n",
       "  \"It's\",\n",
       "  'hot',\n",
       "  'in',\n",
       "  'the',\n",
       "  'summer',\n",
       "  'and',\n",
       "  'cold',\n",
       "  'in',\n",
       "  'the',\n",
       "  'winter'],\n",
       " ['', \"It's\", 'round', 'and', 'wet', 'and', 'crowded'],\n",
       " ['',\n",
       "  'On',\n",
       "  'the',\n",
       "  'outside,',\n",
       "  'babies,',\n",
       "  \"you've\",\n",
       "  'got',\n",
       "  'a',\n",
       "  'hundred',\n",
       "  'years',\n",
       "  'here'],\n",
       " ['',\n",
       "  \"There's\",\n",
       "  'only',\n",
       "  'one',\n",
       "  'rule',\n",
       "  'that',\n",
       "  'I',\n",
       "  'know',\n",
       "  'of,',\n",
       "  'babies-',\n",
       "  \"'God\",\n",
       "  'damn',\n",
       "  'it,',\n",
       "  \"you've\",\n",
       "  'got',\n",
       "  'to',\n",
       "  'be',\n",
       "  'kind'],\n",
       " [\"'\"]]"
      ]
     },
     "execution_count": 15,
     "metadata": {},
     "output_type": "execute_result"
    }
   ],
   "source": []
  },
  {
   "cell_type": "markdown",
   "metadata": {},
   "source": [
    "Finally, create a count vectorizer. Create a list of dictionaries, where each dictionary represents a sentence, and the key:value pairs are the counts of each word"
   ]
  },
  {
   "cell_type": "markdown",
   "metadata": {},
   "source": [
    "If you sentence is ```\"My purpose? I have no purpose. I just cha cha.\"``` , then your outputs would look like this:\n"
   ]
  },
  {
   "cell_type": "raw",
   "metadata": {},
   "source": [
    "[['my', 'purpose'],\n",
    " ['i', 'have', 'no', 'purpose'],\n",
    " ['i', 'just', 'cha', 'cha']]"
   ]
  },
  {
   "cell_type": "raw",
   "metadata": {},
   "source": [
    "[{'my': 1, 'purpose': 1},\n",
    " {'have': 1, 'i': 1, 'no': 1, 'purpose': 1},\n",
    " {'cha': 2, 'i': 1, 'just': 1}]"
   ]
  },
  {
   "cell_type": "markdown",
   "metadata": {},
   "source": [
    "Do this for the rosewater text:"
   ]
  },
  {
   "cell_type": "code",
   "execution_count": null,
   "metadata": {
    "collapsed": true
   },
   "outputs": [],
   "source": []
  },
  {
   "cell_type": "markdown",
   "metadata": {},
   "source": [
    "Finally, turn your dictionary into a DataFrame"
   ]
  },
  {
   "cell_type": "code",
   "execution_count": null,
   "metadata": {
    "collapsed": true
   },
   "outputs": [],
   "source": []
  }
 ],
 "metadata": {
  "kernelspec": {
   "display_name": "Python 2",
   "language": "python",
   "name": "python2"
  },
  "language_info": {
   "codemirror_mode": {
    "name": "ipython",
    "version": 2
   },
   "file_extension": ".py",
   "mimetype": "text/x-python",
   "name": "python",
   "nbconvert_exporter": "python",
   "pygments_lexer": "ipython2",
   "version": "2.7.12"
  }
 },
 "nbformat": 4,
 "nbformat_minor": 0
}
