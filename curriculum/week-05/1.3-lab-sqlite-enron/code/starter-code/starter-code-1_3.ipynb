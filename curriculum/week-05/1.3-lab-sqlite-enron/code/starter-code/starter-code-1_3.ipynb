{
 "cells": [
  {
   "cell_type": "markdown",
   "metadata": {},
   "source": [
    "# Multi-table Datasets - ENRON Archive"
   ]
  },
  {
   "cell_type": "markdown",
   "metadata": {},
   "source": [
    "## 1. Data import\n",
    "\n",
    "Connect to the file 'assets/datasets/enron.db' using one of these methods:\n",
    "\n",
    "- sqlite3 python package\n",
    "- pandas.read_sql\n",
    "- SQLite Manager Firefox extension\n",
    "\n",
    "Take a look at the database and query the master table. How many Tables are there in the db?\n",
    "\n",
    "> Answer:\n",
    "There are 3 tables:\n",
    "- MessageBase\n",
    "- RecipientBase\n",
    "- EmployeeBase"
   ]
  },
  {
   "cell_type": "code",
   "execution_count": 7,
   "metadata": {
    "collapsed": false
   },
   "outputs": [
    {
     "data": {
      "text/plain": [
       "[(u'MessageBase',), (u'RecipientBase',), (u'EmployeeBase',)]"
      ]
     },
     "execution_count": 7,
     "metadata": {},
     "output_type": "execute_result"
    }
   ],
   "source": [
    "import sqlite3\n",
    "conn = sqlite3.connect('../../assets/datasets/enron.db') \n",
    "c = conn.cursor()\n",
    "c.execute(\"SELECT name FROM sqlite_master WHERE type='table';\").fetchall()"
   ]
  },
  {
   "cell_type": "code",
   "execution_count": null,
   "metadata": {
    "collapsed": false
   },
   "outputs": [],
   "source": []
  },
  {
   "cell_type": "markdown",
   "metadata": {},
   "source": [
    "Query the `sqlite_master` table to retrieve the schema of the `EmployeeBase` table.\n",
    "\n",
    "1. What fields are there?\n",
    "1. What's the type of each of them?"
   ]
  },
  {
   "cell_type": "code",
   "execution_count": 28,
   "metadata": {
    "collapsed": false
   },
   "outputs": [
    {
     "name": "stdout",
     "output_type": "stream",
     "text": [
      "CREATE TABLE RecipientBase (\n",
      "    mid INTEGER,\n",
      "    rno INTEGER,\n",
      "    to_eid INTEGER,\n",
      "    \n",
      "    PRIMARY KEY(mid ASC, rno ASC)\n",
      "    FOREIGN KEY(mid) REFERENCES Message(mid)\n",
      "    FOREIGN KEY(to_eid) REFERENCES Employee(eid)\n",
      ")\n",
      "CREATE TABLE MessageBase (\n",
      "    mid INTEGER,\n",
      "    filename TEXT,\n",
      "    unix_time INTEGER,\n",
      "    subject TEXT,\n",
      "    from_eid INTEGER,\n",
      "    \n",
      "    PRIMARY KEY(mid ASC),\n",
      "    FOREIGN KEY(from_eid) REFERENCES Employee(eid)\n",
      ")\n",
      "CREATE TABLE EmployeeBase (\n",
      "                  [eid] INTEGER,\n",
      "  [name] TEXT,\n",
      "  [department] TEXT,\n",
      "  [longdepartment] TEXT,\n",
      "  [title] TEXT,\n",
      "  [gender] TEXT,\n",
      "  [seniority] TEXT\n",
      "                  \n",
      "                  )\n"
     ]
    }
   ],
   "source": [
    "fields = c.execute(\"SELECT sql FROM sqlite_master WHERE type='table' and name='RecipientBase';\").fetchall()\n",
    "print ''.join(fields[0])\n",
    "fields = c.execute(\"SELECT sql FROM sqlite_master WHERE type='table' and name='MessageBase';\").fetchall()\n",
    "print ''.join(fields[0])\n",
    "fields = c.execute(\"SELECT sql FROM sqlite_master WHERE type='table' and name='EmployeeBase';\").fetchall()\n",
    "print ''.join(fields[0])"
   ]
  },
  {
   "cell_type": "markdown",
   "metadata": {},
   "source": [
    "1. Print the first 5 rows of EmployeeBase table\n",
    "1. Print the first 5 rows of MessageBase table\n",
    "1. Print the first 5 rows of RecipientBase table\n",
    "\n",
    "**Hint**  use `SELECT` and `LIMIT`."
   ]
  },
  {
   "cell_type": "code",
   "execution_count": 33,
   "metadata": {
    "collapsed": false
   },
   "outputs": [
    {
     "name": "stdout",
     "output_type": "stream",
     "text": [
      "(1, 1, 59)\n",
      "(2, 1, 15)\n",
      "(3, 1, 15)\n",
      "(4, 1, 109)\n",
      "(4, 2, 49)\n"
     ]
    }
   ],
   "source": [
    "results = c.execute(\"SELECT * FROM RecipientBase LIMIT 5;\").fetchall()\n",
    "for row in results:\n",
    "    print row"
   ]
  },
  {
   "cell_type": "code",
   "execution_count": 34,
   "metadata": {
    "collapsed": false
   },
   "outputs": [
    {
     "name": "stdout",
     "output_type": "stream",
     "text": [
      "(1, u'John Arnold', u'Forestry', u'ENA Gas Financial', u'VP Trading', u'Male', u'Senior')\n",
      "(2, u'Harry Arora', u'Forestry', u'ENA East Power', u'VP Trading', u'Male', u'Senior')\n",
      "(3, u'Robert Badeer', u'Forestry', u'ENA West Power', u'Mgr Trading', u'Male', u'Junior')\n",
      "(4, u'Susan Bailey', u'Legal', u'ENA Legal', u'Specialist Legal', u'Female', u'Junior')\n",
      "(5, u'Eric Bass', u'Forestry', u'ENA Gas Texas', u'Trader', u'Male', u'Junior')\n"
     ]
    }
   ],
   "source": [
    "results = c.execute(\"SELECT * FROM EmployeeBase LIMIT 5;\").fetchall()\n",
    "for row in results:\n",
    "    print row"
   ]
  },
  {
   "cell_type": "code",
   "execution_count": 35,
   "metadata": {
    "collapsed": false
   },
   "outputs": [
    {
     "name": "stdout",
     "output_type": "stream",
     "text": [
      "(1, u'taylor-m/sent/11', 910930020, u'Cd$ CME letter', 138)\n",
      "(2, u'taylor-m/sent/17', 911459940, u'Indemnification', 138)\n",
      "(3, u'taylor-m/sent/18', 911463840, u'Re: Indemnification', 138)\n",
      "(4, u'taylor-m/sent/23', 911874180, u'Re: Coral Energy, L.P.', 138)\n",
      "(5, u'taylor-m/sent/27', 912396120, u'Bankruptcy Code revisions', 138)\n"
     ]
    }
   ],
   "source": [
    "results = c.execute(\"SELECT * FROM MessageBase LIMIT 5;\").fetchall()\n",
    "for row in results:\n",
    "    print row"
   ]
  },
  {
   "cell_type": "markdown",
   "metadata": {},
   "source": [
    "Import each of the 3 tables to a Pandas Dataframes"
   ]
  },
  {
   "cell_type": "code",
   "execution_count": 45,
   "metadata": {
    "collapsed": false
   },
   "outputs": [],
   "source": [
    "import pandas as pd\n",
    "employees = pd.read_sql(\"SELECT * FROM EmployeeBase;\", conn)\n",
    "recipients = pd.read_sql(\"SELECT * FROM RecipientBase;\", conn)\n",
    "messages = pd.read_sql(\"SELECT * FROM MessageBase;\", conn)"
   ]
  },
  {
   "cell_type": "markdown",
   "metadata": {},
   "source": [
    "## 2. Data Exploration\n",
    "\n",
    "Use the 3 dataframes to answer the following questions:\n",
    "\n",
    "1. How many employees are there in the company?\n",
    "- How many messages are there in the database?\n",
    "- Convert the timestamp column in the messages. When was the oldest message sent? And the newest?\n",
    "- Some messages are sent to more than one recipient. Group the messages by message_id and count the number of recepients. Then look at the distribution of recepient numbers.\n",
    "    - How many messages have only one recepient?\n",
    "    - How many messages have >= 5 recepients?\n",
    "    - What's the highest number of recepients?\n",
    "    - Who sent the message with the highest number of recepients?\n",
    "- Plot the distribution of recepient numbers using Bokeh."
   ]
  },
  {
   "cell_type": "code",
   "execution_count": 106,
   "metadata": {
    "collapsed": false
   },
   "outputs": [
    {
     "data": {
      "text/html": [
       "<div>\n",
       "<table border=\"1\" class=\"dataframe\">\n",
       "  <thead>\n",
       "    <tr style=\"text-align: right;\">\n",
       "      <th></th>\n",
       "      <th>Count(eid)</th>\n",
       "    </tr>\n",
       "  </thead>\n",
       "  <tbody>\n",
       "    <tr>\n",
       "      <th>0</th>\n",
       "      <td>156</td>\n",
       "    </tr>\n",
       "  </tbody>\n",
       "</table>\n",
       "</div>"
      ],
      "text/plain": [
       "   Count(eid)\n",
       "0         156"
      ]
     },
     "execution_count": 106,
     "metadata": {},
     "output_type": "execute_result"
    }
   ],
   "source": [
    "sql.read_sql('SELECT Count(eid) FROM EmployeeBase', con=conn)"
   ]
  },
  {
   "cell_type": "code",
   "execution_count": 107,
   "metadata": {
    "collapsed": false
   },
   "outputs": [
    {
     "data": {
      "text/html": [
       "<div>\n",
       "<table border=\"1\" class=\"dataframe\">\n",
       "  <thead>\n",
       "    <tr style=\"text-align: right;\">\n",
       "      <th></th>\n",
       "      <th>Count(mid)</th>\n",
       "    </tr>\n",
       "  </thead>\n",
       "  <tbody>\n",
       "    <tr>\n",
       "      <th>0</th>\n",
       "      <td>21635</td>\n",
       "    </tr>\n",
       "  </tbody>\n",
       "</table>\n",
       "</div>"
      ],
      "text/plain": [
       "   Count(mid)\n",
       "0       21635"
      ]
     },
     "execution_count": 107,
     "metadata": {},
     "output_type": "execute_result"
    }
   ],
   "source": [
    "sql.read_sql('SELECT Count(mid) FROM MessageBase', con=conn)"
   ]
  },
  {
   "cell_type": "code",
   "execution_count": 108,
   "metadata": {
    "collapsed": false
   },
   "outputs": [
    {
     "data": {
      "text/html": [
       "<div>\n",
       "<table border=\"1\" class=\"dataframe\">\n",
       "  <thead>\n",
       "    <tr style=\"text-align: right;\">\n",
       "      <th></th>\n",
       "      <th>Count(eid)</th>\n",
       "    </tr>\n",
       "  </thead>\n",
       "  <tbody>\n",
       "    <tr>\n",
       "      <th>0</th>\n",
       "      <td>156</td>\n",
       "    </tr>\n",
       "  </tbody>\n",
       "</table>\n",
       "</div>"
      ],
      "text/plain": [
       "   Count(eid)\n",
       "0         156"
      ]
     },
     "execution_count": 108,
     "metadata": {},
     "output_type": "execute_result"
    }
   ],
   "source": [
    "sql.read_sql('SELECT Count(eid) FROM EmployeeBase', con=conn)"
   ]
  },
  {
   "cell_type": "code",
   "execution_count": 112,
   "metadata": {
    "collapsed": false
   },
   "outputs": [
    {
     "name": "stdout",
     "output_type": "stream",
     "text": [
      "first msg was sent on: 1998-11-12 23:07:00\n",
      "last msg was sent on: 2002-06-21 09:37:34\n"
     ]
    }
   ],
   "source": [
    "datetimes = messages['unix_time'].apply(pd.datetime.fromtimestamp)\n",
    "print \"first msg was sent on:\", min(datetimes)\n",
    "print \"last msg was sent on:\", max(datetimes)"
   ]
  },
  {
   "cell_type": "code",
   "execution_count": 113,
   "metadata": {
    "collapsed": false
   },
   "outputs": [
    {
     "data": {
      "text/plain": [
       "Counter({1: 14985,\n",
       "         2: 2962,\n",
       "         3: 1435,\n",
       "         4: 873,\n",
       "         5: 711,\n",
       "         6: 180,\n",
       "         7: 176,\n",
       "         8: 61,\n",
       "         9: 24,\n",
       "         10: 29,\n",
       "         11: 47,\n",
       "         12: 33,\n",
       "         13: 57,\n",
       "         14: 11,\n",
       "         15: 28,\n",
       "         16: 9,\n",
       "         17: 2,\n",
       "         18: 1,\n",
       "         19: 1,\n",
       "         20: 1,\n",
       "         21: 2,\n",
       "         22: 1,\n",
       "         24: 1,\n",
       "         49: 1,\n",
       "         52: 1,\n",
       "         55: 1,\n",
       "         57: 2})"
      ]
     },
     "execution_count": 113,
     "metadata": {},
     "output_type": "execute_result"
    }
   ],
   "source": [
    "from collections import Counter\n",
    "\n",
    "counts = Counter(recipients.groupby('mid')['to_eid'].count())\n",
    "counts"
   ]
  },
  {
   "cell_type": "code",
   "execution_count": 114,
   "metadata": {
    "collapsed": false
   },
   "outputs": [
    {
     "data": {
      "text/html": [
       "\n",
       "    <div class=\"bk-banner\">\n",
       "        <a href=\"http://bokeh.pydata.org\" target=\"_blank\" class=\"bk-logo bk-logo-small bk-logo-notebook\"></a>\n",
       "        <span id=\"4025d5aa-cdf9-45e9-93f1-9bba2a07ef7b\">Loading BokehJS ...</span>\n",
       "    </div>"
      ]
     },
     "metadata": {},
     "output_type": "display_data"
    },
    {
     "data": {
      "application/javascript": [
       "\n",
       "(function(global) {\n",
       "  function now() {\n",
       "    return new Date();\n",
       "  }\n",
       "\n",
       "  if (typeof (window._bokeh_onload_callbacks) === \"undefined\") {\n",
       "    window._bokeh_onload_callbacks = [];\n",
       "  }\n",
       "\n",
       "  function run_callbacks() {\n",
       "    window._bokeh_onload_callbacks.forEach(function(callback) { callback() });\n",
       "    delete window._bokeh_onload_callbacks\n",
       "    console.info(\"Bokeh: all callbacks have finished\");\n",
       "  }\n",
       "\n",
       "  function load_libs(js_urls, callback) {\n",
       "    window._bokeh_onload_callbacks.push(callback);\n",
       "    if (window._bokeh_is_loading > 0) {\n",
       "      console.log(\"Bokeh: BokehJS is being loaded, scheduling callback at\", now());\n",
       "      return null;\n",
       "    }\n",
       "    if (js_urls == null || js_urls.length === 0) {\n",
       "      run_callbacks();\n",
       "      return null;\n",
       "    }\n",
       "    console.log(\"Bokeh: BokehJS not loaded, scheduling load and callback at\", now());\n",
       "    window._bokeh_is_loading = js_urls.length;\n",
       "    for (var i = 0; i < js_urls.length; i++) {\n",
       "      var url = js_urls[i];\n",
       "      var s = document.createElement('script');\n",
       "      s.src = url;\n",
       "      s.async = false;\n",
       "      s.onreadystatechange = s.onload = function() {\n",
       "        window._bokeh_is_loading--;\n",
       "        if (window._bokeh_is_loading === 0) {\n",
       "          console.log(\"Bokeh: all BokehJS libraries loaded\");\n",
       "          run_callbacks()\n",
       "        }\n",
       "      };\n",
       "      s.onerror = function() {\n",
       "        console.warn(\"failed to load library \" + url);\n",
       "      };\n",
       "      console.log(\"Bokeh: injecting script tag for BokehJS library: \", url);\n",
       "      document.getElementsByTagName(\"head\")[0].appendChild(s);\n",
       "    }\n",
       "  };\n",
       "\n",
       "  var js_urls = ['https://cdn.pydata.org/bokeh/release/bokeh-0.11.1.min.js', 'https://cdn.pydata.org/bokeh/release/bokeh-widgets-0.11.1.min.js', 'https://cdn.pydata.org/bokeh/release/bokeh-compiler-0.11.1.min.js'];\n",
       "\n",
       "  var inline_js = [\n",
       "    function(Bokeh) {\n",
       "      Bokeh.set_log_level(\"info\");\n",
       "    },\n",
       "    \n",
       "    function(Bokeh) {\n",
       "      Bokeh.$(\"#4025d5aa-cdf9-45e9-93f1-9bba2a07ef7b\").text(\"BokehJS successfully loaded\");\n",
       "    },\n",
       "    function(Bokeh) {\n",
       "      console.log(\"Bokeh: injecting CSS: https://cdn.pydata.org/bokeh/release/bokeh-0.11.1.min.css\");\n",
       "      Bokeh.embed.inject_css(\"https://cdn.pydata.org/bokeh/release/bokeh-0.11.1.min.css\");\n",
       "      console.log(\"Bokeh: injecting CSS: https://cdn.pydata.org/bokeh/release/bokeh-widgets-0.11.1.min.css\");\n",
       "      Bokeh.embed.inject_css(\"https://cdn.pydata.org/bokeh/release/bokeh-widgets-0.11.1.min.css\");\n",
       "    }\n",
       "  ];\n",
       "\n",
       "  function run_inline_js() {\n",
       "    for (var i = 0; i < inline_js.length; i++) {\n",
       "      inline_js[i](window.Bokeh);\n",
       "    }\n",
       "  }\n",
       "\n",
       "  if (window._bokeh_is_loading === 0) {\n",
       "    console.log(\"Bokeh: BokehJS loaded, going straight to plotting\");\n",
       "    run_inline_js();\n",
       "  } else {\n",
       "    load_libs(js_urls, function() {\n",
       "      console.log(\"Bokeh: BokehJS plotting callback run at\", now());\n",
       "      run_inline_js();\n",
       "    });\n",
       "  }\n",
       "}(this));"
      ]
     },
     "metadata": {},
     "output_type": "display_data"
    }
   ],
   "source": [
    "from bokeh.plotting import figure,show,output_notebook\n",
    "output_notebook()"
   ]
  },
  {
   "cell_type": "code",
   "execution_count": 115,
   "metadata": {
    "collapsed": true
   },
   "outputs": [],
   "source": [
    "x = [i[0] for i in counts.most_common()]\n",
    "y = [i[1] for i in counts.most_common()]\n",
    "left_border = [val-0.5 for val in x]\n",
    "right_border = [val+0.5 for val in x]"
   ]
  },
  {
   "cell_type": "code",
   "execution_count": 116,
   "metadata": {
    "collapsed": false
   },
   "outputs": [
    {
     "data": {
      "text/html": [
       "\n",
       "\n",
       "    <div class=\"plotdiv\" id=\"415292a4-c827-4699-be9d-03ffade18874\"></div>\n",
       "<script type=\"text/javascript\">\n",
       "  \n",
       "  (function(global) {\n",
       "    function now() {\n",
       "      return new Date();\n",
       "    }\n",
       "  \n",
       "    if (typeof (window._bokeh_onload_callbacks) === \"undefined\") {\n",
       "      window._bokeh_onload_callbacks = [];\n",
       "    }\n",
       "  \n",
       "    function run_callbacks() {\n",
       "      window._bokeh_onload_callbacks.forEach(function(callback) { callback() });\n",
       "      delete window._bokeh_onload_callbacks\n",
       "      console.info(\"Bokeh: all callbacks have finished\");\n",
       "    }\n",
       "  \n",
       "    function load_libs(js_urls, callback) {\n",
       "      window._bokeh_onload_callbacks.push(callback);\n",
       "      if (window._bokeh_is_loading > 0) {\n",
       "        console.log(\"Bokeh: BokehJS is being loaded, scheduling callback at\", now());\n",
       "        return null;\n",
       "      }\n",
       "      if (js_urls == null || js_urls.length === 0) {\n",
       "        run_callbacks();\n",
       "        return null;\n",
       "      }\n",
       "      console.log(\"Bokeh: BokehJS not loaded, scheduling load and callback at\", now());\n",
       "      window._bokeh_is_loading = js_urls.length;\n",
       "      for (var i = 0; i < js_urls.length; i++) {\n",
       "        var url = js_urls[i];\n",
       "        var s = document.createElement('script');\n",
       "        s.src = url;\n",
       "        s.async = false;\n",
       "        s.onreadystatechange = s.onload = function() {\n",
       "          window._bokeh_is_loading--;\n",
       "          if (window._bokeh_is_loading === 0) {\n",
       "            console.log(\"Bokeh: all BokehJS libraries loaded\");\n",
       "            run_callbacks()\n",
       "          }\n",
       "        };\n",
       "        s.onerror = function() {\n",
       "          console.warn(\"failed to load library \" + url);\n",
       "        };\n",
       "        console.log(\"Bokeh: injecting script tag for BokehJS library: \", url);\n",
       "        document.getElementsByTagName(\"head\")[0].appendChild(s);\n",
       "      }\n",
       "    };var element = document.getElementById(\"415292a4-c827-4699-be9d-03ffade18874\");\n",
       "    if (element == null) {\n",
       "      console.log(\"Bokeh: ERROR: autoload.js configured with elementid '415292a4-c827-4699-be9d-03ffade18874' but no matching script tag was found. \")\n",
       "      return false;\n",
       "    }\n",
       "  \n",
       "    var js_urls = [];\n",
       "  \n",
       "    var inline_js = [\n",
       "      function(Bokeh) {\n",
       "        Bokeh.$(function() {\n",
       "            var docs_json = {\"847d99de-5061-40bb-b2a2-3afd4ca3fd91\":{\"roots\":{\"references\":[{\"attributes\":{},\"id\":\"89594b0e-7789-4090-88cf-5a29d5cbc825\",\"type\":\"BasicTickFormatter\"},{\"attributes\":{\"callback\":null},\"id\":\"7fa2505f-958a-44b3-b75d-6abcce1f7689\",\"type\":\"DataRange1d\"},{\"attributes\":{},\"id\":\"e22b26eb-d621-42aa-8a74-704143af837a\",\"type\":\"ToolEvents\"},{\"attributes\":{\"data_source\":{\"id\":\"7f2ce5a2-43b9-4203-8415-3f71798bf138\",\"type\":\"ColumnDataSource\"},\"glyph\":{\"id\":\"294b134d-943d-4918-9ba5-2a30b99f4ef3\",\"type\":\"Quad\"},\"hover_glyph\":null,\"nonselection_glyph\":{\"id\":\"a71ac65a-f8f5-46a1-9cf9-ffb8b5dd7da3\",\"type\":\"Quad\"},\"selection_glyph\":null},\"id\":\"b1647d1f-9df7-4fde-882f-c90d73440e62\",\"type\":\"GlyphRenderer\"},{\"attributes\":{\"axis_label\":\"# of recipients\",\"formatter\":{\"id\":\"cac30f76-3788-4027-9f31-df16d4b879a1\",\"type\":\"BasicTickFormatter\"},\"plot\":{\"id\":\"770ee847-3755-4ad7-b26c-d5420cad346d\",\"subtype\":\"Figure\",\"type\":\"Plot\"},\"ticker\":{\"id\":\"d03ca5a0-3092-4c28-a968-986865ed5f55\",\"type\":\"BasicTicker\"}},\"id\":\"f5d4c91b-c654-4c03-a729-a5ea807b1c6f\",\"type\":\"LinearAxis\"},{\"attributes\":{\"below\":[{\"id\":\"f5d4c91b-c654-4c03-a729-a5ea807b1c6f\",\"type\":\"LinearAxis\"}],\"left\":[{\"id\":\"4fc4f08e-2291-47f5-8610-59a18507a8ae\",\"type\":\"LinearAxis\"}],\"renderers\":[{\"id\":\"f5d4c91b-c654-4c03-a729-a5ea807b1c6f\",\"type\":\"LinearAxis\"},{\"id\":\"17c5c68e-add6-4404-84a7-1267c4fd4da8\",\"type\":\"Grid\"},{\"id\":\"4fc4f08e-2291-47f5-8610-59a18507a8ae\",\"type\":\"LinearAxis\"},{\"id\":\"15328175-049b-4225-9597-6f973f2d3f5a\",\"type\":\"Grid\"},{\"id\":\"a800473d-2031-4e70-a9e9-70508de3285e\",\"type\":\"GlyphRenderer\"}],\"title\":\"Message Recipients\",\"tool_events\":{\"id\":\"0c8c4f78-90fd-4365-82da-88e9f554f0b9\",\"type\":\"ToolEvents\"},\"x_range\":{\"id\":\"7fa2505f-958a-44b3-b75d-6abcce1f7689\",\"type\":\"DataRange1d\"},\"y_range\":{\"id\":\"836e152a-af26-45e4-aa52-21332ea259d0\",\"type\":\"DataRange1d\"}},\"id\":\"770ee847-3755-4ad7-b26c-d5420cad346d\",\"subtype\":\"Figure\",\"type\":\"Plot\"},{\"attributes\":{\"bottom\":{\"value\":0},\"fill_color\":{\"value\":\"#1f77b4\"},\"left\":{\"field\":\"left\"},\"right\":{\"field\":\"right\"},\"top\":{\"field\":\"top\"}},\"id\":\"294b134d-943d-4918-9ba5-2a30b99f4ef3\",\"type\":\"Quad\"},{\"attributes\":{},\"id\":\"d03ca5a0-3092-4c28-a968-986865ed5f55\",\"type\":\"BasicTicker\"},{\"attributes\":{\"callback\":null},\"id\":\"05e1519b-a10d-4999-aeba-8dcb15e5d221\",\"type\":\"DataRange1d\"},{\"attributes\":{\"bottom\":{\"value\":0},\"fill_alpha\":{\"value\":0.1},\"fill_color\":{\"value\":\"#1f77b4\"},\"left\":{\"field\":\"left\"},\"line_alpha\":{\"value\":0.1},\"line_color\":{\"value\":\"#1f77b4\"},\"right\":{\"field\":\"right\"},\"top\":{\"field\":\"top\"}},\"id\":\"a71ac65a-f8f5-46a1-9cf9-ffb8b5dd7da3\",\"type\":\"Quad\"},{\"attributes\":{\"callback\":null,\"column_names\":[\"top\",\"right\",\"left\"],\"data\":{\"left\":[5.5,6.5,7.5,12.5,10.5,11.5,9.5,14.5,8.5,13.5,15.5,16.5,20.5,56.5,17.5,18.5,19.5,21.5,23.5,48.5,51.5,54.5],\"right\":[6.5,7.5,8.5,13.5,11.5,12.5,10.5,15.5,9.5,14.5,16.5,17.5,21.5,57.5,18.5,19.5,20.5,22.5,24.5,49.5,52.5,55.5],\"top\":[180,176,61,57,47,33,29,28,24,11,9,2,2,2,1,1,1,1,1,1,1,1]}},\"id\":\"9247c851-92ac-404e-9550-f541d7bc56cc\",\"type\":\"ColumnDataSource\"},{\"attributes\":{},\"id\":\"fe64d52a-7e4b-48cc-8a26-f34225e98a47\",\"type\":\"ToolEvents\"},{\"attributes\":{\"callback\":null,\"column_names\":[\"top\",\"right\",\"left\"],\"data\":{\"left\":[0.5,1.5,2.5,3.5,4.5,5.5,6.5,7.5,12.5,10.5,11.5,9.5,14.5,8.5,13.5,15.5,16.5,20.5,56.5,17.5,18.5,19.5,21.5,23.5,48.5,51.5,54.5],\"right\":[1.5,2.5,3.5,4.5,5.5,6.5,7.5,8.5,13.5,11.5,12.5,10.5,15.5,9.5,14.5,16.5,17.5,21.5,57.5,18.5,19.5,20.5,22.5,24.5,49.5,52.5,55.5],\"top\":[14985,2962,1435,873,711,180,176,61,57,47,33,29,28,24,11,9,2,2,2,1,1,1,1,1,1,1,1]}},\"id\":\"7f2ce5a2-43b9-4203-8415-3f71798bf138\",\"type\":\"ColumnDataSource\"},{\"attributes\":{\"dimension\":1,\"plot\":{\"id\":\"a34bac64-3e52-48bb-a462-18f2e998454b\",\"subtype\":\"Figure\",\"type\":\"Plot\"},\"ticker\":{\"id\":\"42d0b88f-3065-4eac-bb4a-4037ce97c06c\",\"type\":\"BasicTicker\"}},\"id\":\"bf368440-efbc-4512-a395-3abdb07b275a\",\"type\":\"Grid\"},{\"attributes\":{\"data_source\":{\"id\":\"369086bb-af0e-46ce-aae5-231616ba7523\",\"type\":\"ColumnDataSource\"},\"glyph\":{\"id\":\"d0328fc2-c16f-4591-bc02-d3e75a646247\",\"type\":\"Quad\"},\"hover_glyph\":null,\"nonselection_glyph\":{\"id\":\"e9059aac-5c27-4192-a218-e7f1feccf95f\",\"type\":\"Quad\"},\"selection_glyph\":null},\"id\":\"043687e2-8026-4e6d-ac4d-abfb74c24dcb\",\"type\":\"GlyphRenderer\"},{\"attributes\":{\"below\":[{\"id\":\"589654ee-4feb-4dbb-a45d-2dea954b94aa\",\"type\":\"LinearAxis\"}],\"left\":[{\"id\":\"799a7580-3292-407e-9020-5df8368852d0\",\"type\":\"LinearAxis\"}],\"renderers\":[{\"id\":\"589654ee-4feb-4dbb-a45d-2dea954b94aa\",\"type\":\"LinearAxis\"},{\"id\":\"a6598f2d-cd0b-4eae-aade-7d43dc8a75d3\",\"type\":\"Grid\"},{\"id\":\"799a7580-3292-407e-9020-5df8368852d0\",\"type\":\"LinearAxis\"},{\"id\":\"84dd3b69-e4ba-4ea5-befb-34ba31c31899\",\"type\":\"Grid\"},{\"id\":\"b1647d1f-9df7-4fde-882f-c90d73440e62\",\"type\":\"GlyphRenderer\"}],\"title\":\"Message Recipients\",\"tool_events\":{\"id\":\"e22b26eb-d621-42aa-8a74-704143af837a\",\"type\":\"ToolEvents\"},\"x_range\":{\"id\":\"f0b9830b-a1e1-4f0c-93ee-5b6f181eb491\",\"type\":\"DataRange1d\"},\"y_range\":{\"id\":\"f603aaac-1f55-488f-9633-1b7f03d4d7a4\",\"type\":\"DataRange1d\"}},\"id\":\"b193ae6a-3564-42a6-a063-ad051eb65f55\",\"subtype\":\"Figure\",\"type\":\"Plot\"},{\"attributes\":{},\"id\":\"8f89f912-e997-4e2d-a2c3-c605fcd199ed\",\"type\":\"BasicTicker\"},{\"attributes\":{},\"id\":\"21c7e808-52b9-46a8-bab6-a5ebd2ba1e32\",\"type\":\"BasicTicker\"},{\"attributes\":{\"axis_label\":\"Counts\",\"formatter\":{\"id\":\"90948bfe-bcba-4578-8512-193c6742a871\",\"type\":\"BasicTickFormatter\"},\"plot\":{\"id\":\"b193ae6a-3564-42a6-a063-ad051eb65f55\",\"subtype\":\"Figure\",\"type\":\"Plot\"},\"ticker\":{\"id\":\"1bab0060-f66f-45f8-a13c-53ceb4e01188\",\"type\":\"BasicTicker\"}},\"id\":\"799a7580-3292-407e-9020-5df8368852d0\",\"type\":\"LinearAxis\"},{\"attributes\":{\"callback\":null,\"column_names\":[\"top\",\"right\",\"left\"],\"data\":{\"left\":[0.5,1.5,2.5,3.5,4.5,5.5,6.5,7.5,12.5,10.5,11.5,9.5,14.5,8.5,13.5,15.5,16.5,20.5,56.5,17.5,18.5,19.5,21.5,23.5,48.5,51.5,54.5],\"right\":[1.5,2.5,3.5,4.5,5.5,6.5,7.5,8.5,13.5,11.5,12.5,10.5,15.5,9.5,14.5,16.5,17.5,21.5,57.5,18.5,19.5,20.5,22.5,24.5,49.5,52.5,55.5],\"top\":[14985,2962,1435,873,711,180,176,61,57,47,33,29,28,24,11,9,2,2,2,1,1,1,1,1,1,1,1]}},\"id\":\"b86098fa-c723-4dcb-9db7-e53607e8a4e6\",\"type\":\"ColumnDataSource\"},{\"attributes\":{\"below\":[{\"id\":\"7e3b05f1-9173-407b-b38b-09f75a1172b4\",\"type\":\"LinearAxis\"}],\"left\":[{\"id\":\"43830d59-a7b1-45e9-873f-83bd9b20fa05\",\"type\":\"LinearAxis\"}],\"renderers\":[{\"id\":\"7e3b05f1-9173-407b-b38b-09f75a1172b4\",\"type\":\"LinearAxis\"},{\"id\":\"c6f499e7-3f5a-4f21-836c-c443f504b0f8\",\"type\":\"Grid\"},{\"id\":\"43830d59-a7b1-45e9-873f-83bd9b20fa05\",\"type\":\"LinearAxis\"},{\"id\":\"dec7e281-35e2-4f32-bb68-69cab76fd638\",\"type\":\"Grid\"},{\"id\":\"043687e2-8026-4e6d-ac4d-abfb74c24dcb\",\"type\":\"GlyphRenderer\"}],\"title\":\"Message Recipients\",\"tool_events\":{\"id\":\"3af27c87-6da7-4ed8-90d0-f70639b87a35\",\"type\":\"ToolEvents\"},\"x_range\":{\"id\":\"05e1519b-a10d-4999-aeba-8dcb15e5d221\",\"type\":\"DataRange1d\"},\"y_range\":{\"id\":\"03bc2b26-b1d3-4972-9ff5-7bcea30aea66\",\"type\":\"DataRange1d\"}},\"id\":\"4924e485-8881-4d2e-98ce-ccdc6d0f9c2c\",\"subtype\":\"Figure\",\"type\":\"Plot\"},{\"attributes\":{\"callback\":null},\"id\":\"7934959b-b904-4138-857c-584c9e09dad2\",\"type\":\"DataRange1d\"},{\"attributes\":{\"dimension\":1,\"plot\":{\"id\":\"770ee847-3755-4ad7-b26c-d5420cad346d\",\"subtype\":\"Figure\",\"type\":\"Plot\"},\"ticker\":{\"id\":\"21c7e808-52b9-46a8-bab6-a5ebd2ba1e32\",\"type\":\"BasicTicker\"}},\"id\":\"15328175-049b-4225-9597-6f973f2d3f5a\",\"type\":\"Grid\"},{\"attributes\":{},\"id\":\"ec959e6f-f8ca-4740-94a9-b207e4a6e1d8\",\"type\":\"BasicTicker\"},{\"attributes\":{\"callback\":null},\"id\":\"aa9233f8-5eb1-4df6-8cc8-26c96ce5d56d\",\"type\":\"DataRange1d\"},{\"attributes\":{\"plot\":{\"id\":\"770ee847-3755-4ad7-b26c-d5420cad346d\",\"subtype\":\"Figure\",\"type\":\"Plot\"},\"ticker\":{\"id\":\"d03ca5a0-3092-4c28-a968-986865ed5f55\",\"type\":\"BasicTicker\"}},\"id\":\"17c5c68e-add6-4404-84a7-1267c4fd4da8\",\"type\":\"Grid\"},{\"attributes\":{\"axis_label\":\"# of recipients\",\"formatter\":{\"id\":\"b1cb0217-2460-49fa-bda0-c166e81627e0\",\"type\":\"BasicTickFormatter\"},\"plot\":{\"id\":\"a34bac64-3e52-48bb-a462-18f2e998454b\",\"subtype\":\"Figure\",\"type\":\"Plot\"},\"ticker\":{\"id\":\"9ec3c854-2102-4289-a753-f408fb860d3a\",\"type\":\"BasicTicker\"}},\"id\":\"2cd705e0-b684-44e4-8dac-9ae1f137e388\",\"type\":\"LinearAxis\"},{\"attributes\":{},\"id\":\"1582e3ce-81a3-47fb-9836-2cffd28cdbf2\",\"type\":\"BasicTickFormatter\"},{\"attributes\":{\"bottom\":{\"value\":0},\"fill_color\":{\"value\":\"#1f77b4\"},\"left\":{\"field\":\"left\"},\"right\":{\"field\":\"right\"},\"top\":{\"field\":\"top\"}},\"id\":\"d0328fc2-c16f-4591-bc02-d3e75a646247\",\"type\":\"Quad\"},{\"attributes\":{\"axis_label\":\"# of recipients\",\"formatter\":{\"id\":\"89594b0e-7789-4090-88cf-5a29d5cbc825\",\"type\":\"BasicTickFormatter\"},\"plot\":{\"id\":\"4924e485-8881-4d2e-98ce-ccdc6d0f9c2c\",\"subtype\":\"Figure\",\"type\":\"Plot\"},\"ticker\":{\"id\":\"8f89f912-e997-4e2d-a2c3-c605fcd199ed\",\"type\":\"BasicTicker\"}},\"id\":\"7e3b05f1-9173-407b-b38b-09f75a1172b4\",\"type\":\"LinearAxis\"},{\"attributes\":{},\"id\":\"90948bfe-bcba-4578-8512-193c6742a871\",\"type\":\"BasicTickFormatter\"},{\"attributes\":{},\"id\":\"9ec3c854-2102-4289-a753-f408fb860d3a\",\"type\":\"BasicTicker\"},{\"attributes\":{},\"id\":\"3af27c87-6da7-4ed8-90d0-f70639b87a35\",\"type\":\"ToolEvents\"},{\"attributes\":{\"data_source\":{\"id\":\"9247c851-92ac-404e-9550-f541d7bc56cc\",\"type\":\"ColumnDataSource\"},\"glyph\":{\"id\":\"5e693510-ed9c-4ac2-9ea8-9e9c1c2366ee\",\"type\":\"Quad\"},\"hover_glyph\":null,\"nonselection_glyph\":{\"id\":\"5c21c398-e8ce-447f-a170-5993f71a4891\",\"type\":\"Quad\"},\"selection_glyph\":null},\"id\":\"a800473d-2031-4e70-a9e9-70508de3285e\",\"type\":\"GlyphRenderer\"},{\"attributes\":{\"callback\":null},\"id\":\"f0b9830b-a1e1-4f0c-93ee-5b6f181eb491\",\"type\":\"DataRange1d\"},{\"attributes\":{\"axis_label\":\"Counts\",\"formatter\":{\"id\":\"1582e3ce-81a3-47fb-9836-2cffd28cdbf2\",\"type\":\"BasicTickFormatter\"},\"plot\":{\"id\":\"a34bac64-3e52-48bb-a462-18f2e998454b\",\"subtype\":\"Figure\",\"type\":\"Plot\"},\"ticker\":{\"id\":\"42d0b88f-3065-4eac-bb4a-4037ce97c06c\",\"type\":\"BasicTicker\"}},\"id\":\"4ca5bf92-ff8f-45ca-b471-4d3a1b0febba\",\"type\":\"LinearAxis\"},{\"attributes\":{\"data_source\":{\"id\":\"b86098fa-c723-4dcb-9db7-e53607e8a4e6\",\"type\":\"ColumnDataSource\"},\"glyph\":{\"id\":\"068cdcf3-6f09-4df8-8fdd-202253470e07\",\"type\":\"Quad\"},\"hover_glyph\":null,\"nonselection_glyph\":{\"id\":\"b8cfca63-81d6-4320-b599-03a739efa417\",\"type\":\"Quad\"},\"selection_glyph\":null},\"id\":\"0a3d7b0b-c2d9-4b56-8922-7f9dd58c4cdc\",\"type\":\"GlyphRenderer\"},{\"attributes\":{\"bottom\":{\"value\":0},\"fill_alpha\":{\"value\":0.1},\"fill_color\":{\"value\":\"#1f77b4\"},\"left\":{\"field\":\"left\"},\"line_alpha\":{\"value\":0.1},\"line_color\":{\"value\":\"#1f77b4\"},\"right\":{\"field\":\"right\"},\"top\":{\"field\":\"top\"}},\"id\":\"e9059aac-5c27-4192-a218-e7f1feccf95f\",\"type\":\"Quad\"},{\"attributes\":{},\"id\":\"1bab0060-f66f-45f8-a13c-53ceb4e01188\",\"type\":\"BasicTicker\"},{\"attributes\":{\"below\":[{\"id\":\"2cd705e0-b684-44e4-8dac-9ae1f137e388\",\"type\":\"LinearAxis\"}],\"left\":[{\"id\":\"4ca5bf92-ff8f-45ca-b471-4d3a1b0febba\",\"type\":\"LinearAxis\"}],\"renderers\":[{\"id\":\"2cd705e0-b684-44e4-8dac-9ae1f137e388\",\"type\":\"LinearAxis\"},{\"id\":\"87fb44a3-a0af-433f-882a-21900bc96e23\",\"type\":\"Grid\"},{\"id\":\"4ca5bf92-ff8f-45ca-b471-4d3a1b0febba\",\"type\":\"LinearAxis\"},{\"id\":\"bf368440-efbc-4512-a395-3abdb07b275a\",\"type\":\"Grid\"},{\"id\":\"0a3d7b0b-c2d9-4b56-8922-7f9dd58c4cdc\",\"type\":\"GlyphRenderer\"}],\"title\":\"Message Recipients\",\"tool_events\":{\"id\":\"fe64d52a-7e4b-48cc-8a26-f34225e98a47\",\"type\":\"ToolEvents\"},\"x_range\":{\"id\":\"7934959b-b904-4138-857c-584c9e09dad2\",\"type\":\"DataRange1d\"},\"y_range\":{\"id\":\"aa9233f8-5eb1-4df6-8cc8-26c96ce5d56d\",\"type\":\"DataRange1d\"}},\"id\":\"a34bac64-3e52-48bb-a462-18f2e998454b\",\"subtype\":\"Figure\",\"type\":\"Plot\"},{\"attributes\":{},\"id\":\"b1cb0217-2460-49fa-bda0-c166e81627e0\",\"type\":\"BasicTickFormatter\"},{\"attributes\":{},\"id\":\"cac30f76-3788-4027-9f31-df16d4b879a1\",\"type\":\"BasicTickFormatter\"},{\"attributes\":{\"axis_label\":\"Counts\",\"formatter\":{\"id\":\"b1a94d20-5a61-49e7-bdb2-8cb265aad8c9\",\"type\":\"BasicTickFormatter\"},\"plot\":{\"id\":\"770ee847-3755-4ad7-b26c-d5420cad346d\",\"subtype\":\"Figure\",\"type\":\"Plot\"},\"ticker\":{\"id\":\"21c7e808-52b9-46a8-bab6-a5ebd2ba1e32\",\"type\":\"BasicTicker\"}},\"id\":\"4fc4f08e-2291-47f5-8610-59a18507a8ae\",\"type\":\"LinearAxis\"},{\"attributes\":{\"plot\":{\"id\":\"b193ae6a-3564-42a6-a063-ad051eb65f55\",\"subtype\":\"Figure\",\"type\":\"Plot\"},\"ticker\":{\"id\":\"01bcbe84-b41d-4367-bfae-7aeb6deb573c\",\"type\":\"BasicTicker\"}},\"id\":\"a6598f2d-cd0b-4eae-aade-7d43dc8a75d3\",\"type\":\"Grid\"},{\"attributes\":{},\"id\":\"01bcbe84-b41d-4367-bfae-7aeb6deb573c\",\"type\":\"BasicTicker\"},{\"attributes\":{},\"id\":\"b1a94d20-5a61-49e7-bdb2-8cb265aad8c9\",\"type\":\"BasicTickFormatter\"},{\"attributes\":{\"bottom\":{\"value\":0},\"fill_color\":{\"value\":\"#1f77b4\"},\"left\":{\"field\":\"left\"},\"right\":{\"field\":\"right\"},\"top\":{\"field\":\"top\"}},\"id\":\"068cdcf3-6f09-4df8-8fdd-202253470e07\",\"type\":\"Quad\"},{\"attributes\":{\"axis_label\":\"Counts\",\"formatter\":{\"id\":\"0773201f-2c61-4481-a237-201c57711cc2\",\"type\":\"BasicTickFormatter\"},\"plot\":{\"id\":\"4924e485-8881-4d2e-98ce-ccdc6d0f9c2c\",\"subtype\":\"Figure\",\"type\":\"Plot\"},\"ticker\":{\"id\":\"ec959e6f-f8ca-4740-94a9-b207e4a6e1d8\",\"type\":\"BasicTicker\"}},\"id\":\"43830d59-a7b1-45e9-873f-83bd9b20fa05\",\"type\":\"LinearAxis\"},{\"attributes\":{\"plot\":{\"id\":\"4924e485-8881-4d2e-98ce-ccdc6d0f9c2c\",\"subtype\":\"Figure\",\"type\":\"Plot\"},\"ticker\":{\"id\":\"8f89f912-e997-4e2d-a2c3-c605fcd199ed\",\"type\":\"BasicTicker\"}},\"id\":\"c6f499e7-3f5a-4f21-836c-c443f504b0f8\",\"type\":\"Grid\"},{\"attributes\":{\"bottom\":{\"value\":0},\"fill_alpha\":{\"value\":0.1},\"fill_color\":{\"value\":\"#1f77b4\"},\"left\":{\"field\":\"left\"},\"line_alpha\":{\"value\":0.1},\"line_color\":{\"value\":\"#1f77b4\"},\"right\":{\"field\":\"right\"},\"top\":{\"field\":\"top\"}},\"id\":\"5c21c398-e8ce-447f-a170-5993f71a4891\",\"type\":\"Quad\"},{\"attributes\":{\"axis_label\":\"# of recipients\",\"formatter\":{\"id\":\"3bed1536-315b-41bc-a7ee-742df8af70b1\",\"type\":\"BasicTickFormatter\"},\"plot\":{\"id\":\"b193ae6a-3564-42a6-a063-ad051eb65f55\",\"subtype\":\"Figure\",\"type\":\"Plot\"},\"ticker\":{\"id\":\"01bcbe84-b41d-4367-bfae-7aeb6deb573c\",\"type\":\"BasicTicker\"}},\"id\":\"589654ee-4feb-4dbb-a45d-2dea954b94aa\",\"type\":\"LinearAxis\"},{\"attributes\":{\"callback\":null},\"id\":\"f603aaac-1f55-488f-9633-1b7f03d4d7a4\",\"type\":\"DataRange1d\"},{\"attributes\":{},\"id\":\"0c8c4f78-90fd-4365-82da-88e9f554f0b9\",\"type\":\"ToolEvents\"},{\"attributes\":{\"dimension\":1,\"plot\":{\"id\":\"b193ae6a-3564-42a6-a063-ad051eb65f55\",\"subtype\":\"Figure\",\"type\":\"Plot\"},\"ticker\":{\"id\":\"1bab0060-f66f-45f8-a13c-53ceb4e01188\",\"type\":\"BasicTicker\"}},\"id\":\"84dd3b69-e4ba-4ea5-befb-34ba31c31899\",\"type\":\"Grid\"},{\"attributes\":{\"callback\":null},\"id\":\"836e152a-af26-45e4-aa52-21332ea259d0\",\"type\":\"DataRange1d\"},{\"attributes\":{},\"id\":\"3bed1536-315b-41bc-a7ee-742df8af70b1\",\"type\":\"BasicTickFormatter\"},{\"attributes\":{\"dimension\":1,\"plot\":{\"id\":\"4924e485-8881-4d2e-98ce-ccdc6d0f9c2c\",\"subtype\":\"Figure\",\"type\":\"Plot\"},\"ticker\":{\"id\":\"ec959e6f-f8ca-4740-94a9-b207e4a6e1d8\",\"type\":\"BasicTicker\"}},\"id\":\"dec7e281-35e2-4f32-bb68-69cab76fd638\",\"type\":\"Grid\"},{\"attributes\":{\"plot\":{\"id\":\"a34bac64-3e52-48bb-a462-18f2e998454b\",\"subtype\":\"Figure\",\"type\":\"Plot\"},\"ticker\":{\"id\":\"9ec3c854-2102-4289-a753-f408fb860d3a\",\"type\":\"BasicTicker\"}},\"id\":\"87fb44a3-a0af-433f-882a-21900bc96e23\",\"type\":\"Grid\"},{\"attributes\":{\"callback\":null},\"id\":\"03bc2b26-b1d3-4972-9ff5-7bcea30aea66\",\"type\":\"DataRange1d\"},{\"attributes\":{\"callback\":null,\"column_names\":[\"top\",\"right\",\"left\"],\"data\":{\"left\":[5.5,6.5,7.5,12.5,10.5,11.5,9.5,14.5,8.5,13.5,15.5,16.5,20.5,56.5,17.5,18.5,19.5,21.5,23.5,48.5,51.5,54.5],\"right\":[6.5,7.5,8.5,13.5,11.5,12.5,10.5,15.5,9.5,14.5,16.5,17.5,21.5,57.5,18.5,19.5,20.5,22.5,24.5,49.5,52.5,55.5],\"top\":[180,176,61,57,47,33,29,28,24,11,9,2,2,2,1,1,1,1,1,1,1,1]}},\"id\":\"369086bb-af0e-46ce-aae5-231616ba7523\",\"type\":\"ColumnDataSource\"},{\"attributes\":{},\"id\":\"42d0b88f-3065-4eac-bb4a-4037ce97c06c\",\"type\":\"BasicTicker\"},{\"attributes\":{},\"id\":\"0773201f-2c61-4481-a237-201c57711cc2\",\"type\":\"BasicTickFormatter\"},{\"attributes\":{\"bottom\":{\"value\":0},\"fill_alpha\":{\"value\":0.1},\"fill_color\":{\"value\":\"#1f77b4\"},\"left\":{\"field\":\"left\"},\"line_alpha\":{\"value\":0.1},\"line_color\":{\"value\":\"#1f77b4\"},\"right\":{\"field\":\"right\"},\"top\":{\"field\":\"top\"}},\"id\":\"b8cfca63-81d6-4320-b599-03a739efa417\",\"type\":\"Quad\"},{\"attributes\":{\"bottom\":{\"value\":0},\"fill_color\":{\"value\":\"#1f77b4\"},\"left\":{\"field\":\"left\"},\"right\":{\"field\":\"right\"},\"top\":{\"field\":\"top\"}},\"id\":\"5e693510-ed9c-4ac2-9ea8-9e9c1c2366ee\",\"type\":\"Quad\"}],\"root_ids\":[\"a34bac64-3e52-48bb-a462-18f2e998454b\",\"770ee847-3755-4ad7-b26c-d5420cad346d\",\"4924e485-8881-4d2e-98ce-ccdc6d0f9c2c\",\"b193ae6a-3564-42a6-a063-ad051eb65f55\"]},\"title\":\"Bokeh Application\",\"version\":\"0.11.1\"}};\n",
       "            var render_items = [{\"docid\":\"847d99de-5061-40bb-b2a2-3afd4ca3fd91\",\"elementid\":\"415292a4-c827-4699-be9d-03ffade18874\",\"modelid\":\"b193ae6a-3564-42a6-a063-ad051eb65f55\",\"notebook_comms_target\":\"3a164d4d-df9a-430f-a8b1-c89dfe580617\"}];\n",
       "            \n",
       "            Bokeh.embed.embed_items(docs_json, render_items);\n",
       "        });\n",
       "      },\n",
       "      function(Bokeh) {\n",
       "      }\n",
       "    ];\n",
       "  \n",
       "    function run_inline_js() {\n",
       "      for (var i = 0; i < inline_js.length; i++) {\n",
       "        inline_js[i](window.Bokeh);\n",
       "      }\n",
       "    }\n",
       "  \n",
       "    if (window._bokeh_is_loading === 0) {\n",
       "      console.log(\"Bokeh: BokehJS loaded, going straight to plotting\");\n",
       "      run_inline_js();\n",
       "    } else {\n",
       "      load_libs(js_urls, function() {\n",
       "        console.log(\"Bokeh: BokehJS plotting callback run at\", now());\n",
       "        run_inline_js();\n",
       "      });\n",
       "    }\n",
       "  }(this));\n",
       "</script>"
      ]
     },
     "metadata": {},
     "output_type": "display_data"
    },
    {
     "data": {
      "text/html": [
       "<p><code>&lt;Bokeh Notebook handle for <strong>In[116]</strong>&gt;</code></p>"
      ],
      "text/plain": [
       "<bokeh.io._CommsHandle at 0x1134fa710>"
      ]
     },
     "execution_count": 116,
     "metadata": {},
     "output_type": "execute_result"
    }
   ],
   "source": [
    "p= figure(title=\"Message Recipients\",tools='',x_axis_label='# of recipients',y_axis_label='Counts')\n",
    "p.quad(top=y,left=left_border,right=right_border,bottom=0,line_color='black')\n",
    "show(p)"
   ]
  },
  {
   "cell_type": "markdown",
   "metadata": {},
   "source": [
    "Rescale to investigate the tail of the curve"
   ]
  },
  {
   "cell_type": "code",
   "execution_count": 117,
   "metadata": {
    "collapsed": false
   },
   "outputs": [
    {
     "data": {
      "text/html": [
       "\n",
       "\n",
       "    <div class=\"plotdiv\" id=\"7bf43088-2fd4-480e-b485-f84356c6f40a\"></div>\n",
       "<script type=\"text/javascript\">\n",
       "  \n",
       "  (function(global) {\n",
       "    function now() {\n",
       "      return new Date();\n",
       "    }\n",
       "  \n",
       "    if (typeof (window._bokeh_onload_callbacks) === \"undefined\") {\n",
       "      window._bokeh_onload_callbacks = [];\n",
       "    }\n",
       "  \n",
       "    function run_callbacks() {\n",
       "      window._bokeh_onload_callbacks.forEach(function(callback) { callback() });\n",
       "      delete window._bokeh_onload_callbacks\n",
       "      console.info(\"Bokeh: all callbacks have finished\");\n",
       "    }\n",
       "  \n",
       "    function load_libs(js_urls, callback) {\n",
       "      window._bokeh_onload_callbacks.push(callback);\n",
       "      if (window._bokeh_is_loading > 0) {\n",
       "        console.log(\"Bokeh: BokehJS is being loaded, scheduling callback at\", now());\n",
       "        return null;\n",
       "      }\n",
       "      if (js_urls == null || js_urls.length === 0) {\n",
       "        run_callbacks();\n",
       "        return null;\n",
       "      }\n",
       "      console.log(\"Bokeh: BokehJS not loaded, scheduling load and callback at\", now());\n",
       "      window._bokeh_is_loading = js_urls.length;\n",
       "      for (var i = 0; i < js_urls.length; i++) {\n",
       "        var url = js_urls[i];\n",
       "        var s = document.createElement('script');\n",
       "        s.src = url;\n",
       "        s.async = false;\n",
       "        s.onreadystatechange = s.onload = function() {\n",
       "          window._bokeh_is_loading--;\n",
       "          if (window._bokeh_is_loading === 0) {\n",
       "            console.log(\"Bokeh: all BokehJS libraries loaded\");\n",
       "            run_callbacks()\n",
       "          }\n",
       "        };\n",
       "        s.onerror = function() {\n",
       "          console.warn(\"failed to load library \" + url);\n",
       "        };\n",
       "        console.log(\"Bokeh: injecting script tag for BokehJS library: \", url);\n",
       "        document.getElementsByTagName(\"head\")[0].appendChild(s);\n",
       "      }\n",
       "    };var element = document.getElementById(\"7bf43088-2fd4-480e-b485-f84356c6f40a\");\n",
       "    if (element == null) {\n",
       "      console.log(\"Bokeh: ERROR: autoload.js configured with elementid '7bf43088-2fd4-480e-b485-f84356c6f40a' but no matching script tag was found. \")\n",
       "      return false;\n",
       "    }\n",
       "  \n",
       "    var js_urls = [];\n",
       "  \n",
       "    var inline_js = [\n",
       "      function(Bokeh) {\n",
       "        Bokeh.$(function() {\n",
       "            var docs_json = {\"c37170e9-c4f4-48ec-b63a-e59fac90ad1d\":{\"roots\":{\"references\":[{\"attributes\":{},\"id\":\"89594b0e-7789-4090-88cf-5a29d5cbc825\",\"type\":\"BasicTickFormatter\"},{\"attributes\":{\"callback\":null},\"id\":\"7fa2505f-958a-44b3-b75d-6abcce1f7689\",\"type\":\"DataRange1d\"},{\"attributes\":{\"plot\":{\"id\":\"14cba2c8-3dd6-4232-b20b-d49a755e7a25\",\"subtype\":\"Figure\",\"type\":\"Plot\"},\"ticker\":{\"id\":\"53cfc680-cd18-4790-b098-213ed5e0b894\",\"type\":\"BasicTicker\"}},\"id\":\"83b25001-0c99-41b5-bda2-f8e515cb4a09\",\"type\":\"Grid\"},{\"attributes\":{},\"id\":\"e122da15-566c-49a9-974c-6ad28b9fc8b4\",\"type\":\"BasicTickFormatter\"},{\"attributes\":{\"data_source\":{\"id\":\"7f2ce5a2-43b9-4203-8415-3f71798bf138\",\"type\":\"ColumnDataSource\"},\"glyph\":{\"id\":\"294b134d-943d-4918-9ba5-2a30b99f4ef3\",\"type\":\"Quad\"},\"hover_glyph\":null,\"nonselection_glyph\":{\"id\":\"a71ac65a-f8f5-46a1-9cf9-ffb8b5dd7da3\",\"type\":\"Quad\"},\"selection_glyph\":null},\"id\":\"b1647d1f-9df7-4fde-882f-c90d73440e62\",\"type\":\"GlyphRenderer\"},{\"attributes\":{\"axis_label\":\"# of recipients\",\"formatter\":{\"id\":\"cac30f76-3788-4027-9f31-df16d4b879a1\",\"type\":\"BasicTickFormatter\"},\"plot\":{\"id\":\"770ee847-3755-4ad7-b26c-d5420cad346d\",\"subtype\":\"Figure\",\"type\":\"Plot\"},\"ticker\":{\"id\":\"d03ca5a0-3092-4c28-a968-986865ed5f55\",\"type\":\"BasicTicker\"}},\"id\":\"f5d4c91b-c654-4c03-a729-a5ea807b1c6f\",\"type\":\"LinearAxis\"},{\"attributes\":{\"axis_label\":\"# of recipients\",\"formatter\":{\"id\":\"b1cb0217-2460-49fa-bda0-c166e81627e0\",\"type\":\"BasicTickFormatter\"},\"plot\":{\"id\":\"a34bac64-3e52-48bb-a462-18f2e998454b\",\"subtype\":\"Figure\",\"type\":\"Plot\"},\"ticker\":{\"id\":\"9ec3c854-2102-4289-a753-f408fb860d3a\",\"type\":\"BasicTicker\"}},\"id\":\"2cd705e0-b684-44e4-8dac-9ae1f137e388\",\"type\":\"LinearAxis\"},{\"attributes\":{\"bottom\":{\"value\":0},\"fill_color\":{\"value\":\"#1f77b4\"},\"left\":{\"field\":\"left\"},\"right\":{\"field\":\"right\"},\"top\":{\"field\":\"top\"}},\"id\":\"294b134d-943d-4918-9ba5-2a30b99f4ef3\",\"type\":\"Quad\"},{\"attributes\":{},\"id\":\"d03ca5a0-3092-4c28-a968-986865ed5f55\",\"type\":\"BasicTicker\"},{\"attributes\":{},\"id\":\"e22b26eb-d621-42aa-8a74-704143af837a\",\"type\":\"ToolEvents\"},{\"attributes\":{\"callback\":null},\"id\":\"3fc0b542-29e5-4d27-b488-821390e0969b\",\"type\":\"DataRange1d\"},{\"attributes\":{\"callback\":null},\"id\":\"05e1519b-a10d-4999-aeba-8dcb15e5d221\",\"type\":\"DataRange1d\"},{\"attributes\":{\"bottom\":{\"value\":0},\"fill_alpha\":{\"value\":0.1},\"fill_color\":{\"value\":\"#1f77b4\"},\"left\":{\"field\":\"left\"},\"line_alpha\":{\"value\":0.1},\"line_color\":{\"value\":\"#1f77b4\"},\"right\":{\"field\":\"right\"},\"top\":{\"field\":\"top\"}},\"id\":\"a71ac65a-f8f5-46a1-9cf9-ffb8b5dd7da3\",\"type\":\"Quad\"},{\"attributes\":{\"callback\":null,\"column_names\":[\"top\",\"right\",\"left\"],\"data\":{\"left\":[5.5,6.5,7.5,12.5,10.5,11.5,9.5,14.5,8.5,13.5,15.5,16.5,20.5,56.5,17.5,18.5,19.5,21.5,23.5,48.5,51.5,54.5],\"right\":[6.5,7.5,8.5,13.5,11.5,12.5,10.5,15.5,9.5,14.5,16.5,17.5,21.5,57.5,18.5,19.5,20.5,22.5,24.5,49.5,52.5,55.5],\"top\":[180,176,61,57,47,33,29,28,24,11,9,2,2,2,1,1,1,1,1,1,1,1]}},\"id\":\"bce691e8-ad1b-4745-a7b2-63fe223b9197\",\"type\":\"ColumnDataSource\"},{\"attributes\":{\"callback\":null},\"id\":\"f9d6e0fa-528a-45cc-8192-677be935f1c3\",\"type\":\"DataRange1d\"},{\"attributes\":{\"bottom\":{\"value\":0},\"fill_color\":{\"value\":\"#1f77b4\"},\"left\":{\"field\":\"left\"},\"right\":{\"field\":\"right\"},\"top\":{\"field\":\"top\"}},\"id\":\"0e52ac91-e2e4-47c7-a624-eb5fa1358e42\",\"type\":\"Quad\"},{\"attributes\":{\"data_source\":{\"id\":\"bce691e8-ad1b-4745-a7b2-63fe223b9197\",\"type\":\"ColumnDataSource\"},\"glyph\":{\"id\":\"0e52ac91-e2e4-47c7-a624-eb5fa1358e42\",\"type\":\"Quad\"},\"hover_glyph\":null,\"nonselection_glyph\":{\"id\":\"1f5c0931-da70-4554-b278-2276200498e1\",\"type\":\"Quad\"},\"selection_glyph\":null},\"id\":\"4cd72c7e-9816-4257-8537-a00158d1cf49\",\"type\":\"GlyphRenderer\"},{\"attributes\":{\"callback\":null,\"column_names\":[\"top\",\"right\",\"left\"],\"data\":{\"left\":[5.5,6.5,7.5,12.5,10.5,11.5,9.5,14.5,8.5,13.5,15.5,16.5,20.5,56.5,17.5,18.5,19.5,21.5,23.5,48.5,51.5,54.5],\"right\":[6.5,7.5,8.5,13.5,11.5,12.5,10.5,15.5,9.5,14.5,16.5,17.5,21.5,57.5,18.5,19.5,20.5,22.5,24.5,49.5,52.5,55.5],\"top\":[180,176,61,57,47,33,29,28,24,11,9,2,2,2,1,1,1,1,1,1,1,1]}},\"id\":\"9247c851-92ac-404e-9550-f541d7bc56cc\",\"type\":\"ColumnDataSource\"},{\"attributes\":{\"axis_label\":\"Counts\",\"formatter\":{\"id\":\"90948bfe-bcba-4578-8512-193c6742a871\",\"type\":\"BasicTickFormatter\"},\"plot\":{\"id\":\"b193ae6a-3564-42a6-a063-ad051eb65f55\",\"subtype\":\"Figure\",\"type\":\"Plot\"},\"ticker\":{\"id\":\"1bab0060-f66f-45f8-a13c-53ceb4e01188\",\"type\":\"BasicTicker\"}},\"id\":\"799a7580-3292-407e-9020-5df8368852d0\",\"type\":\"LinearAxis\"},{\"attributes\":{\"callback\":null,\"column_names\":[\"top\",\"right\",\"left\"],\"data\":{\"left\":[0.5,1.5,2.5,3.5,4.5,5.5,6.5,7.5,12.5,10.5,11.5,9.5,14.5,8.5,13.5,15.5,16.5,20.5,56.5,17.5,18.5,19.5,21.5,23.5,48.5,51.5,54.5],\"right\":[1.5,2.5,3.5,4.5,5.5,6.5,7.5,8.5,13.5,11.5,12.5,10.5,15.5,9.5,14.5,16.5,17.5,21.5,57.5,18.5,19.5,20.5,22.5,24.5,49.5,52.5,55.5],\"top\":[14985,2962,1435,873,711,180,176,61,57,47,33,29,28,24,11,9,2,2,2,1,1,1,1,1,1,1,1]}},\"id\":\"7f2ce5a2-43b9-4203-8415-3f71798bf138\",\"type\":\"ColumnDataSource\"},{\"attributes\":{},\"id\":\"0773201f-2c61-4481-a237-201c57711cc2\",\"type\":\"BasicTickFormatter\"},{\"attributes\":{\"dimension\":1,\"plot\":{\"id\":\"a34bac64-3e52-48bb-a462-18f2e998454b\",\"subtype\":\"Figure\",\"type\":\"Plot\"},\"ticker\":{\"id\":\"42d0b88f-3065-4eac-bb4a-4037ce97c06c\",\"type\":\"BasicTicker\"}},\"id\":\"bf368440-efbc-4512-a395-3abdb07b275a\",\"type\":\"Grid\"},{\"attributes\":{},\"id\":\"fe64d52a-7e4b-48cc-8a26-f34225e98a47\",\"type\":\"ToolEvents\"},{\"attributes\":{},\"id\":\"492a7924-8db4-4724-b519-dcadd2ed80df\",\"type\":\"ToolEvents\"},{\"attributes\":{},\"id\":\"3af27c87-6da7-4ed8-90d0-f70639b87a35\",\"type\":\"ToolEvents\"},{\"attributes\":{},\"id\":\"8f89f912-e997-4e2d-a2c3-c605fcd199ed\",\"type\":\"BasicTicker\"},{\"attributes\":{},\"id\":\"21c7e808-52b9-46a8-bab6-a5ebd2ba1e32\",\"type\":\"BasicTicker\"},{\"attributes\":{\"bottom\":{\"value\":0},\"fill_alpha\":{\"value\":0.1},\"fill_color\":{\"value\":\"#1f77b4\"},\"left\":{\"field\":\"left\"},\"line_alpha\":{\"value\":0.1},\"line_color\":{\"value\":\"#1f77b4\"},\"right\":{\"field\":\"right\"},\"top\":{\"field\":\"top\"}},\"id\":\"1f5c0931-da70-4554-b278-2276200498e1\",\"type\":\"Quad\"},{\"attributes\":{\"callback\":null,\"column_names\":[\"top\",\"right\",\"left\"],\"data\":{\"left\":[0.5,1.5,2.5,3.5,4.5,5.5,6.5,7.5,12.5,10.5,11.5,9.5,14.5,8.5,13.5,15.5,16.5,20.5,56.5,17.5,18.5,19.5,21.5,23.5,48.5,51.5,54.5],\"right\":[1.5,2.5,3.5,4.5,5.5,6.5,7.5,8.5,13.5,11.5,12.5,10.5,15.5,9.5,14.5,16.5,17.5,21.5,57.5,18.5,19.5,20.5,22.5,24.5,49.5,52.5,55.5],\"top\":[14985,2962,1435,873,711,180,176,61,57,47,33,29,28,24,11,9,2,2,2,1,1,1,1,1,1,1,1]}},\"id\":\"b86098fa-c723-4dcb-9db7-e53607e8a4e6\",\"type\":\"ColumnDataSource\"},{\"attributes\":{\"below\":[{\"id\":\"7e3b05f1-9173-407b-b38b-09f75a1172b4\",\"type\":\"LinearAxis\"}],\"left\":[{\"id\":\"43830d59-a7b1-45e9-873f-83bd9b20fa05\",\"type\":\"LinearAxis\"}],\"renderers\":[{\"id\":\"7e3b05f1-9173-407b-b38b-09f75a1172b4\",\"type\":\"LinearAxis\"},{\"id\":\"c6f499e7-3f5a-4f21-836c-c443f504b0f8\",\"type\":\"Grid\"},{\"id\":\"43830d59-a7b1-45e9-873f-83bd9b20fa05\",\"type\":\"LinearAxis\"},{\"id\":\"dec7e281-35e2-4f32-bb68-69cab76fd638\",\"type\":\"Grid\"},{\"id\":\"043687e2-8026-4e6d-ac4d-abfb74c24dcb\",\"type\":\"GlyphRenderer\"}],\"title\":\"Message Recipients\",\"tool_events\":{\"id\":\"3af27c87-6da7-4ed8-90d0-f70639b87a35\",\"type\":\"ToolEvents\"},\"x_range\":{\"id\":\"05e1519b-a10d-4999-aeba-8dcb15e5d221\",\"type\":\"DataRange1d\"},\"y_range\":{\"id\":\"03bc2b26-b1d3-4972-9ff5-7bcea30aea66\",\"type\":\"DataRange1d\"}},\"id\":\"4924e485-8881-4d2e-98ce-ccdc6d0f9c2c\",\"subtype\":\"Figure\",\"type\":\"Plot\"},{\"attributes\":{\"axis_label\":\"# of recipients\",\"formatter\":{\"id\":\"1a87af60-6df7-4b8b-bba2-82cf04d0adbb\",\"type\":\"BasicTickFormatter\"},\"plot\":{\"id\":\"14cba2c8-3dd6-4232-b20b-d49a755e7a25\",\"subtype\":\"Figure\",\"type\":\"Plot\"},\"ticker\":{\"id\":\"53cfc680-cd18-4790-b098-213ed5e0b894\",\"type\":\"BasicTicker\"}},\"id\":\"5177190c-3549-4a2b-a6c8-fc2d46f22a6c\",\"type\":\"LinearAxis\"},{\"attributes\":{\"callback\":null},\"id\":\"7934959b-b904-4138-857c-584c9e09dad2\",\"type\":\"DataRange1d\"},{\"attributes\":{\"dimension\":1,\"plot\":{\"id\":\"770ee847-3755-4ad7-b26c-d5420cad346d\",\"subtype\":\"Figure\",\"type\":\"Plot\"},\"ticker\":{\"id\":\"21c7e808-52b9-46a8-bab6-a5ebd2ba1e32\",\"type\":\"BasicTicker\"}},\"id\":\"15328175-049b-4225-9597-6f973f2d3f5a\",\"type\":\"Grid\"},{\"attributes\":{},\"id\":\"ec959e6f-f8ca-4740-94a9-b207e4a6e1d8\",\"type\":\"BasicTicker\"},{\"attributes\":{\"callback\":null},\"id\":\"aa9233f8-5eb1-4df6-8cc8-26c96ce5d56d\",\"type\":\"DataRange1d\"},{\"attributes\":{\"plot\":{\"id\":\"770ee847-3755-4ad7-b26c-d5420cad346d\",\"subtype\":\"Figure\",\"type\":\"Plot\"},\"ticker\":{\"id\":\"d03ca5a0-3092-4c28-a968-986865ed5f55\",\"type\":\"BasicTicker\"}},\"id\":\"17c5c68e-add6-4404-84a7-1267c4fd4da8\",\"type\":\"Grid\"},{\"attributes\":{},\"id\":\"e7b28825-f6c0-439d-90b5-c8036b574a18\",\"type\":\"BasicTicker\"},{\"attributes\":{\"below\":[{\"id\":\"f5d4c91b-c654-4c03-a729-a5ea807b1c6f\",\"type\":\"LinearAxis\"}],\"left\":[{\"id\":\"4fc4f08e-2291-47f5-8610-59a18507a8ae\",\"type\":\"LinearAxis\"}],\"renderers\":[{\"id\":\"f5d4c91b-c654-4c03-a729-a5ea807b1c6f\",\"type\":\"LinearAxis\"},{\"id\":\"17c5c68e-add6-4404-84a7-1267c4fd4da8\",\"type\":\"Grid\"},{\"id\":\"4fc4f08e-2291-47f5-8610-59a18507a8ae\",\"type\":\"LinearAxis\"},{\"id\":\"15328175-049b-4225-9597-6f973f2d3f5a\",\"type\":\"Grid\"},{\"id\":\"a800473d-2031-4e70-a9e9-70508de3285e\",\"type\":\"GlyphRenderer\"}],\"title\":\"Message Recipients\",\"tool_events\":{\"id\":\"0c8c4f78-90fd-4365-82da-88e9f554f0b9\",\"type\":\"ToolEvents\"},\"x_range\":{\"id\":\"7fa2505f-958a-44b3-b75d-6abcce1f7689\",\"type\":\"DataRange1d\"},\"y_range\":{\"id\":\"836e152a-af26-45e4-aa52-21332ea259d0\",\"type\":\"DataRange1d\"}},\"id\":\"770ee847-3755-4ad7-b26c-d5420cad346d\",\"subtype\":\"Figure\",\"type\":\"Plot\"},{\"attributes\":{},\"id\":\"1582e3ce-81a3-47fb-9836-2cffd28cdbf2\",\"type\":\"BasicTickFormatter\"},{\"attributes\":{\"plot\":{\"id\":\"4924e485-8881-4d2e-98ce-ccdc6d0f9c2c\",\"subtype\":\"Figure\",\"type\":\"Plot\"},\"ticker\":{\"id\":\"8f89f912-e997-4e2d-a2c3-c605fcd199ed\",\"type\":\"BasicTicker\"}},\"id\":\"c6f499e7-3f5a-4f21-836c-c443f504b0f8\",\"type\":\"Grid\"},{\"attributes\":{\"axis_label\":\"# of recipients\",\"formatter\":{\"id\":\"89594b0e-7789-4090-88cf-5a29d5cbc825\",\"type\":\"BasicTickFormatter\"},\"plot\":{\"id\":\"4924e485-8881-4d2e-98ce-ccdc6d0f9c2c\",\"subtype\":\"Figure\",\"type\":\"Plot\"},\"ticker\":{\"id\":\"8f89f912-e997-4e2d-a2c3-c605fcd199ed\",\"type\":\"BasicTicker\"}},\"id\":\"7e3b05f1-9173-407b-b38b-09f75a1172b4\",\"type\":\"LinearAxis\"},{\"attributes\":{},\"id\":\"90948bfe-bcba-4578-8512-193c6742a871\",\"type\":\"BasicTickFormatter\"},{\"attributes\":{},\"id\":\"9ec3c854-2102-4289-a753-f408fb860d3a\",\"type\":\"BasicTicker\"},{\"attributes\":{\"below\":[{\"id\":\"589654ee-4feb-4dbb-a45d-2dea954b94aa\",\"type\":\"LinearAxis\"}],\"left\":[{\"id\":\"799a7580-3292-407e-9020-5df8368852d0\",\"type\":\"LinearAxis\"}],\"renderers\":[{\"id\":\"589654ee-4feb-4dbb-a45d-2dea954b94aa\",\"type\":\"LinearAxis\"},{\"id\":\"a6598f2d-cd0b-4eae-aade-7d43dc8a75d3\",\"type\":\"Grid\"},{\"id\":\"799a7580-3292-407e-9020-5df8368852d0\",\"type\":\"LinearAxis\"},{\"id\":\"84dd3b69-e4ba-4ea5-befb-34ba31c31899\",\"type\":\"Grid\"},{\"id\":\"b1647d1f-9df7-4fde-882f-c90d73440e62\",\"type\":\"GlyphRenderer\"}],\"title\":\"Message Recipients\",\"tool_events\":{\"id\":\"e22b26eb-d621-42aa-8a74-704143af837a\",\"type\":\"ToolEvents\"},\"x_range\":{\"id\":\"f0b9830b-a1e1-4f0c-93ee-5b6f181eb491\",\"type\":\"DataRange1d\"},\"y_range\":{\"id\":\"f603aaac-1f55-488f-9633-1b7f03d4d7a4\",\"type\":\"DataRange1d\"}},\"id\":\"b193ae6a-3564-42a6-a063-ad051eb65f55\",\"subtype\":\"Figure\",\"type\":\"Plot\"},{\"attributes\":{},\"id\":\"53cfc680-cd18-4790-b098-213ed5e0b894\",\"type\":\"BasicTicker\"},{\"attributes\":{\"data_source\":{\"id\":\"9247c851-92ac-404e-9550-f541d7bc56cc\",\"type\":\"ColumnDataSource\"},\"glyph\":{\"id\":\"5e693510-ed9c-4ac2-9ea8-9e9c1c2366ee\",\"type\":\"Quad\"},\"hover_glyph\":null,\"nonselection_glyph\":{\"id\":\"5c21c398-e8ce-447f-a170-5993f71a4891\",\"type\":\"Quad\"},\"selection_glyph\":null},\"id\":\"a800473d-2031-4e70-a9e9-70508de3285e\",\"type\":\"GlyphRenderer\"},{\"attributes\":{\"callback\":null},\"id\":\"f0b9830b-a1e1-4f0c-93ee-5b6f181eb491\",\"type\":\"DataRange1d\"},{\"attributes\":{\"axis_label\":\"Counts\",\"formatter\":{\"id\":\"1582e3ce-81a3-47fb-9836-2cffd28cdbf2\",\"type\":\"BasicTickFormatter\"},\"plot\":{\"id\":\"a34bac64-3e52-48bb-a462-18f2e998454b\",\"subtype\":\"Figure\",\"type\":\"Plot\"},\"ticker\":{\"id\":\"42d0b88f-3065-4eac-bb4a-4037ce97c06c\",\"type\":\"BasicTicker\"}},\"id\":\"4ca5bf92-ff8f-45ca-b471-4d3a1b0febba\",\"type\":\"LinearAxis\"},{\"attributes\":{\"data_source\":{\"id\":\"369086bb-af0e-46ce-aae5-231616ba7523\",\"type\":\"ColumnDataSource\"},\"glyph\":{\"id\":\"d0328fc2-c16f-4591-bc02-d3e75a646247\",\"type\":\"Quad\"},\"hover_glyph\":null,\"nonselection_glyph\":{\"id\":\"e9059aac-5c27-4192-a218-e7f1feccf95f\",\"type\":\"Quad\"},\"selection_glyph\":null},\"id\":\"043687e2-8026-4e6d-ac4d-abfb74c24dcb\",\"type\":\"GlyphRenderer\"},{\"attributes\":{},\"id\":\"1a87af60-6df7-4b8b-bba2-82cf04d0adbb\",\"type\":\"BasicTickFormatter\"},{\"attributes\":{\"data_source\":{\"id\":\"b86098fa-c723-4dcb-9db7-e53607e8a4e6\",\"type\":\"ColumnDataSource\"},\"glyph\":{\"id\":\"068cdcf3-6f09-4df8-8fdd-202253470e07\",\"type\":\"Quad\"},\"hover_glyph\":null,\"nonselection_glyph\":{\"id\":\"b8cfca63-81d6-4320-b599-03a739efa417\",\"type\":\"Quad\"},\"selection_glyph\":null},\"id\":\"0a3d7b0b-c2d9-4b56-8922-7f9dd58c4cdc\",\"type\":\"GlyphRenderer\"},{\"attributes\":{\"bottom\":{\"value\":0},\"fill_alpha\":{\"value\":0.1},\"fill_color\":{\"value\":\"#1f77b4\"},\"left\":{\"field\":\"left\"},\"line_alpha\":{\"value\":0.1},\"line_color\":{\"value\":\"#1f77b4\"},\"right\":{\"field\":\"right\"},\"top\":{\"field\":\"top\"}},\"id\":\"e9059aac-5c27-4192-a218-e7f1feccf95f\",\"type\":\"Quad\"},{\"attributes\":{},\"id\":\"1bab0060-f66f-45f8-a13c-53ceb4e01188\",\"type\":\"BasicTicker\"},{\"attributes\":{\"below\":[{\"id\":\"2cd705e0-b684-44e4-8dac-9ae1f137e388\",\"type\":\"LinearAxis\"}],\"left\":[{\"id\":\"4ca5bf92-ff8f-45ca-b471-4d3a1b0febba\",\"type\":\"LinearAxis\"}],\"renderers\":[{\"id\":\"2cd705e0-b684-44e4-8dac-9ae1f137e388\",\"type\":\"LinearAxis\"},{\"id\":\"87fb44a3-a0af-433f-882a-21900bc96e23\",\"type\":\"Grid\"},{\"id\":\"4ca5bf92-ff8f-45ca-b471-4d3a1b0febba\",\"type\":\"LinearAxis\"},{\"id\":\"bf368440-efbc-4512-a395-3abdb07b275a\",\"type\":\"Grid\"},{\"id\":\"0a3d7b0b-c2d9-4b56-8922-7f9dd58c4cdc\",\"type\":\"GlyphRenderer\"}],\"title\":\"Message Recipients\",\"tool_events\":{\"id\":\"fe64d52a-7e4b-48cc-8a26-f34225e98a47\",\"type\":\"ToolEvents\"},\"x_range\":{\"id\":\"7934959b-b904-4138-857c-584c9e09dad2\",\"type\":\"DataRange1d\"},\"y_range\":{\"id\":\"aa9233f8-5eb1-4df6-8cc8-26c96ce5d56d\",\"type\":\"DataRange1d\"}},\"id\":\"a34bac64-3e52-48bb-a462-18f2e998454b\",\"subtype\":\"Figure\",\"type\":\"Plot\"},{\"attributes\":{\"axis_label\":\"Counts\",\"formatter\":{\"id\":\"0773201f-2c61-4481-a237-201c57711cc2\",\"type\":\"BasicTickFormatter\"},\"plot\":{\"id\":\"4924e485-8881-4d2e-98ce-ccdc6d0f9c2c\",\"subtype\":\"Figure\",\"type\":\"Plot\"},\"ticker\":{\"id\":\"ec959e6f-f8ca-4740-94a9-b207e4a6e1d8\",\"type\":\"BasicTicker\"}},\"id\":\"43830d59-a7b1-45e9-873f-83bd9b20fa05\",\"type\":\"LinearAxis\"},{\"attributes\":{},\"id\":\"b1cb0217-2460-49fa-bda0-c166e81627e0\",\"type\":\"BasicTickFormatter\"},{\"attributes\":{},\"id\":\"cac30f76-3788-4027-9f31-df16d4b879a1\",\"type\":\"BasicTickFormatter\"},{\"attributes\":{\"axis_label\":\"Counts\",\"formatter\":{\"id\":\"b1a94d20-5a61-49e7-bdb2-8cb265aad8c9\",\"type\":\"BasicTickFormatter\"},\"plot\":{\"id\":\"770ee847-3755-4ad7-b26c-d5420cad346d\",\"subtype\":\"Figure\",\"type\":\"Plot\"},\"ticker\":{\"id\":\"21c7e808-52b9-46a8-bab6-a5ebd2ba1e32\",\"type\":\"BasicTicker\"}},\"id\":\"4fc4f08e-2291-47f5-8610-59a18507a8ae\",\"type\":\"LinearAxis\"},{\"attributes\":{\"plot\":{\"id\":\"b193ae6a-3564-42a6-a063-ad051eb65f55\",\"subtype\":\"Figure\",\"type\":\"Plot\"},\"ticker\":{\"id\":\"01bcbe84-b41d-4367-bfae-7aeb6deb573c\",\"type\":\"BasicTicker\"}},\"id\":\"a6598f2d-cd0b-4eae-aade-7d43dc8a75d3\",\"type\":\"Grid\"},{\"attributes\":{},\"id\":\"01bcbe84-b41d-4367-bfae-7aeb6deb573c\",\"type\":\"BasicTicker\"},{\"attributes\":{},\"id\":\"b1a94d20-5a61-49e7-bdb2-8cb265aad8c9\",\"type\":\"BasicTickFormatter\"},{\"attributes\":{\"bottom\":{\"value\":0},\"fill_color\":{\"value\":\"#1f77b4\"},\"left\":{\"field\":\"left\"},\"right\":{\"field\":\"right\"},\"top\":{\"field\":\"top\"}},\"id\":\"068cdcf3-6f09-4df8-8fdd-202253470e07\",\"type\":\"Quad\"},{\"attributes\":{\"bottom\":{\"value\":0},\"fill_color\":{\"value\":\"#1f77b4\"},\"left\":{\"field\":\"left\"},\"right\":{\"field\":\"right\"},\"top\":{\"field\":\"top\"}},\"id\":\"d0328fc2-c16f-4591-bc02-d3e75a646247\",\"type\":\"Quad\"},{\"attributes\":{\"axis_label\":\"Counts\",\"formatter\":{\"id\":\"e122da15-566c-49a9-974c-6ad28b9fc8b4\",\"type\":\"BasicTickFormatter\"},\"plot\":{\"id\":\"14cba2c8-3dd6-4232-b20b-d49a755e7a25\",\"subtype\":\"Figure\",\"type\":\"Plot\"},\"ticker\":{\"id\":\"e7b28825-f6c0-439d-90b5-c8036b574a18\",\"type\":\"BasicTicker\"}},\"id\":\"745e4661-1732-4783-816c-165db56cffae\",\"type\":\"LinearAxis\"},{\"attributes\":{\"bottom\":{\"value\":0},\"fill_alpha\":{\"value\":0.1},\"fill_color\":{\"value\":\"#1f77b4\"},\"left\":{\"field\":\"left\"},\"line_alpha\":{\"value\":0.1},\"line_color\":{\"value\":\"#1f77b4\"},\"right\":{\"field\":\"right\"},\"top\":{\"field\":\"top\"}},\"id\":\"5c21c398-e8ce-447f-a170-5993f71a4891\",\"type\":\"Quad\"},{\"attributes\":{\"axis_label\":\"# of recipients\",\"formatter\":{\"id\":\"3bed1536-315b-41bc-a7ee-742df8af70b1\",\"type\":\"BasicTickFormatter\"},\"plot\":{\"id\":\"b193ae6a-3564-42a6-a063-ad051eb65f55\",\"subtype\":\"Figure\",\"type\":\"Plot\"},\"ticker\":{\"id\":\"01bcbe84-b41d-4367-bfae-7aeb6deb573c\",\"type\":\"BasicTicker\"}},\"id\":\"589654ee-4feb-4dbb-a45d-2dea954b94aa\",\"type\":\"LinearAxis\"},{\"attributes\":{\"callback\":null},\"id\":\"f603aaac-1f55-488f-9633-1b7f03d4d7a4\",\"type\":\"DataRange1d\"},{\"attributes\":{},\"id\":\"0c8c4f78-90fd-4365-82da-88e9f554f0b9\",\"type\":\"ToolEvents\"},{\"attributes\":{\"dimension\":1,\"plot\":{\"id\":\"b193ae6a-3564-42a6-a063-ad051eb65f55\",\"subtype\":\"Figure\",\"type\":\"Plot\"},\"ticker\":{\"id\":\"1bab0060-f66f-45f8-a13c-53ceb4e01188\",\"type\":\"BasicTicker\"}},\"id\":\"84dd3b69-e4ba-4ea5-befb-34ba31c31899\",\"type\":\"Grid\"},{\"attributes\":{\"callback\":null},\"id\":\"836e152a-af26-45e4-aa52-21332ea259d0\",\"type\":\"DataRange1d\"},{\"attributes\":{},\"id\":\"3bed1536-315b-41bc-a7ee-742df8af70b1\",\"type\":\"BasicTickFormatter\"},{\"attributes\":{\"dimension\":1,\"plot\":{\"id\":\"4924e485-8881-4d2e-98ce-ccdc6d0f9c2c\",\"subtype\":\"Figure\",\"type\":\"Plot\"},\"ticker\":{\"id\":\"ec959e6f-f8ca-4740-94a9-b207e4a6e1d8\",\"type\":\"BasicTicker\"}},\"id\":\"dec7e281-35e2-4f32-bb68-69cab76fd638\",\"type\":\"Grid\"},{\"attributes\":{\"plot\":{\"id\":\"a34bac64-3e52-48bb-a462-18f2e998454b\",\"subtype\":\"Figure\",\"type\":\"Plot\"},\"ticker\":{\"id\":\"9ec3c854-2102-4289-a753-f408fb860d3a\",\"type\":\"BasicTicker\"}},\"id\":\"87fb44a3-a0af-433f-882a-21900bc96e23\",\"type\":\"Grid\"},{\"attributes\":{\"dimension\":1,\"plot\":{\"id\":\"14cba2c8-3dd6-4232-b20b-d49a755e7a25\",\"subtype\":\"Figure\",\"type\":\"Plot\"},\"ticker\":{\"id\":\"e7b28825-f6c0-439d-90b5-c8036b574a18\",\"type\":\"BasicTicker\"}},\"id\":\"4a0bdc2c-1be7-4eba-ad45-0c3b8dae4635\",\"type\":\"Grid\"},{\"attributes\":{\"callback\":null},\"id\":\"03bc2b26-b1d3-4972-9ff5-7bcea30aea66\",\"type\":\"DataRange1d\"},{\"attributes\":{\"callback\":null,\"column_names\":[\"top\",\"right\",\"left\"],\"data\":{\"left\":[5.5,6.5,7.5,12.5,10.5,11.5,9.5,14.5,8.5,13.5,15.5,16.5,20.5,56.5,17.5,18.5,19.5,21.5,23.5,48.5,51.5,54.5],\"right\":[6.5,7.5,8.5,13.5,11.5,12.5,10.5,15.5,9.5,14.5,16.5,17.5,21.5,57.5,18.5,19.5,20.5,22.5,24.5,49.5,52.5,55.5],\"top\":[180,176,61,57,47,33,29,28,24,11,9,2,2,2,1,1,1,1,1,1,1,1]}},\"id\":\"369086bb-af0e-46ce-aae5-231616ba7523\",\"type\":\"ColumnDataSource\"},{\"attributes\":{},\"id\":\"42d0b88f-3065-4eac-bb4a-4037ce97c06c\",\"type\":\"BasicTicker\"},{\"attributes\":{\"below\":[{\"id\":\"5177190c-3549-4a2b-a6c8-fc2d46f22a6c\",\"type\":\"LinearAxis\"}],\"left\":[{\"id\":\"745e4661-1732-4783-816c-165db56cffae\",\"type\":\"LinearAxis\"}],\"renderers\":[{\"id\":\"5177190c-3549-4a2b-a6c8-fc2d46f22a6c\",\"type\":\"LinearAxis\"},{\"id\":\"83b25001-0c99-41b5-bda2-f8e515cb4a09\",\"type\":\"Grid\"},{\"id\":\"745e4661-1732-4783-816c-165db56cffae\",\"type\":\"LinearAxis\"},{\"id\":\"4a0bdc2c-1be7-4eba-ad45-0c3b8dae4635\",\"type\":\"Grid\"},{\"id\":\"4cd72c7e-9816-4257-8537-a00158d1cf49\",\"type\":\"GlyphRenderer\"}],\"title\":\"Message Recipients\",\"tool_events\":{\"id\":\"492a7924-8db4-4724-b519-dcadd2ed80df\",\"type\":\"ToolEvents\"},\"x_range\":{\"id\":\"f9d6e0fa-528a-45cc-8192-677be935f1c3\",\"type\":\"DataRange1d\"},\"y_range\":{\"id\":\"3fc0b542-29e5-4d27-b488-821390e0969b\",\"type\":\"DataRange1d\"}},\"id\":\"14cba2c8-3dd6-4232-b20b-d49a755e7a25\",\"subtype\":\"Figure\",\"type\":\"Plot\"},{\"attributes\":{\"bottom\":{\"value\":0},\"fill_alpha\":{\"value\":0.1},\"fill_color\":{\"value\":\"#1f77b4\"},\"left\":{\"field\":\"left\"},\"line_alpha\":{\"value\":0.1},\"line_color\":{\"value\":\"#1f77b4\"},\"right\":{\"field\":\"right\"},\"top\":{\"field\":\"top\"}},\"id\":\"b8cfca63-81d6-4320-b599-03a739efa417\",\"type\":\"Quad\"},{\"attributes\":{\"bottom\":{\"value\":0},\"fill_color\":{\"value\":\"#1f77b4\"},\"left\":{\"field\":\"left\"},\"right\":{\"field\":\"right\"},\"top\":{\"field\":\"top\"}},\"id\":\"5e693510-ed9c-4ac2-9ea8-9e9c1c2366ee\",\"type\":\"Quad\"}],\"root_ids\":[\"a34bac64-3e52-48bb-a462-18f2e998454b\",\"770ee847-3755-4ad7-b26c-d5420cad346d\",\"4924e485-8881-4d2e-98ce-ccdc6d0f9c2c\",\"b193ae6a-3564-42a6-a063-ad051eb65f55\",\"14cba2c8-3dd6-4232-b20b-d49a755e7a25\"]},\"title\":\"Bokeh Application\",\"version\":\"0.11.1\"}};\n",
       "            var render_items = [{\"docid\":\"c37170e9-c4f4-48ec-b63a-e59fac90ad1d\",\"elementid\":\"7bf43088-2fd4-480e-b485-f84356c6f40a\",\"modelid\":\"14cba2c8-3dd6-4232-b20b-d49a755e7a25\",\"notebook_comms_target\":\"3a88a8e6-9e07-4c59-b090-c7cde8e47ba8\"}];\n",
       "            \n",
       "            Bokeh.embed.embed_items(docs_json, render_items);\n",
       "        });\n",
       "      },\n",
       "      function(Bokeh) {\n",
       "      }\n",
       "    ];\n",
       "  \n",
       "    function run_inline_js() {\n",
       "      for (var i = 0; i < inline_js.length; i++) {\n",
       "        inline_js[i](window.Bokeh);\n",
       "      }\n",
       "    }\n",
       "  \n",
       "    if (window._bokeh_is_loading === 0) {\n",
       "      console.log(\"Bokeh: BokehJS loaded, going straight to plotting\");\n",
       "      run_inline_js();\n",
       "    } else {\n",
       "      load_libs(js_urls, function() {\n",
       "        console.log(\"Bokeh: BokehJS plotting callback run at\", now());\n",
       "        run_inline_js();\n",
       "      });\n",
       "    }\n",
       "  }(this));\n",
       "</script>"
      ]
     },
     "metadata": {},
     "output_type": "display_data"
    },
    {
     "data": {
      "text/html": [
       "<p><code>&lt;Bokeh Notebook handle for <strong>In[117]</strong>&gt;</code></p>"
      ],
      "text/plain": [
       "<bokeh.io._CommsHandle at 0x113196990>"
      ]
     },
     "execution_count": 117,
     "metadata": {},
     "output_type": "execute_result"
    }
   ],
   "source": [
    "x = [i[0] for i in counts.most_common()[5:]]  # chop off the first 5\n",
    "y = [i[1] for i in counts.most_common()[5:]]  # chop off the first 5\n",
    "left_border = [val-0.5 for val in x]\n",
    "right_border = [val+0.5 for val in x]\n",
    "\n",
    "\n",
    "p= figure(title=\"Message Recipients\",tools='',x_axis_label='# of recipients',y_axis_label='Counts')\n",
    "p.quad(top=y,left=left_border,right=right_border,bottom=0,line_color='black')\n",
    "show(p)"
   ]
  },
  {
   "cell_type": "markdown",
   "metadata": {},
   "source": [
    "## 3. Data Merging\n",
    "\n",
    "Use the pandas merge function to combine the information in the 3 dataframes to answer the following questions:\n",
    "\n",
    "1. Are there more Men or Women employees?\n",
    "- How is gender distributed across departments?\n",
    "- Who is sending more emails? Men or Women?\n",
    "- What's the average number of emails sent by each gender?\n",
    "- Are there more Juniors or Seniors?\n",
    "- Who is sending more emails? Juniors or Seniors?\n",
    "- Which department is sending more emails? How does that relate with the number of employees in the department?\n",
    "- Who are the top 3 senders of emails? (people who sent out the most emails)"
   ]
  },
  {
   "cell_type": "code",
   "execution_count": 118,
   "metadata": {
    "collapsed": false
   },
   "outputs": [
    {
     "data": {
      "text/plain": [
       "Male      113\n",
       "Female     43\n",
       "Name: gender, dtype: int64"
      ]
     },
     "execution_count": 118,
     "metadata": {},
     "output_type": "execute_result"
    }
   ],
   "source": [
    "employees.gender.value_counts()"
   ]
  },
  {
   "cell_type": "code",
   "execution_count": 119,
   "metadata": {
    "collapsed": false
   },
   "outputs": [
    {
     "data": {
      "text/plain": [
       "department  gender\n",
       "Forestry    Male      50\n",
       "            Female    10\n",
       "Legal       Female    13\n",
       "            Male      12\n",
       "Other       Male      51\n",
       "            Female    20\n",
       "Name: gender, dtype: int64"
      ]
     },
     "execution_count": 119,
     "metadata": {},
     "output_type": "execute_result"
    }
   ],
   "source": [
    "employees.groupby('department')['gender'].value_counts()"
   ]
  },
  {
   "cell_type": "code",
   "execution_count": 120,
   "metadata": {
    "collapsed": false
   },
   "outputs": [
    {
     "data": {
      "text/plain": [
       "Male      0.593529\n",
       "Female    0.406471\n",
       "Name: gender, dtype: float64"
      ]
     },
     "execution_count": 120,
     "metadata": {},
     "output_type": "execute_result"
    }
   ],
   "source": [
    "df = pd.merge(employees, messages, left_on='eid', right_on='from_eid')\n",
    "df.gender.value_counts() / df.gender.count()"
   ]
  },
  {
   "cell_type": "code",
   "execution_count": 121,
   "metadata": {
    "collapsed": false
   },
   "outputs": [
    {
     "data": {
      "text/plain": [
       "Male      113.637168\n",
       "Female    204.511628\n",
       "Name: gender, dtype: float64"
      ]
     },
     "execution_count": 121,
     "metadata": {},
     "output_type": "execute_result"
    }
   ],
   "source": [
    "# What's the average number of emails sent by each gender?\n",
    "df.gender.value_counts() / employees.gender.value_counts()\n"
   ]
  },
  {
   "cell_type": "code",
   "execution_count": 122,
   "metadata": {
    "collapsed": false
   },
   "outputs": [
    {
     "data": {
      "text/plain": [
       "Junior    82\n",
       "Senior    74\n",
       "Name: seniority, dtype: int64"
      ]
     },
     "execution_count": 122,
     "metadata": {},
     "output_type": "execute_result"
    }
   ],
   "source": [
    "employees.seniority.value_counts()"
   ]
  },
  {
   "cell_type": "code",
   "execution_count": 123,
   "metadata": {
    "collapsed": false
   },
   "outputs": [
    {
     "data": {
      "text/plain": [
       "Senior    12439\n",
       "Junior     9196\n",
       "Name: seniority, dtype: int64"
      ]
     },
     "execution_count": 123,
     "metadata": {},
     "output_type": "execute_result"
    }
   ],
   "source": [
    "df.seniority.value_counts()\n"
   ]
  },
  {
   "cell_type": "code",
   "execution_count": 124,
   "metadata": {
    "collapsed": false
   },
   "outputs": [
    {
     "data": {
      "text/plain": [
       "Junior    112.146341\n",
       "Senior    168.094595\n",
       "Name: seniority, dtype: float64"
      ]
     },
     "execution_count": 124,
     "metadata": {},
     "output_type": "execute_result"
    }
   ],
   "source": [
    "df.seniority.value_counts() / employees.seniority.value_counts()\n"
   ]
  },
  {
   "cell_type": "code",
   "execution_count": 125,
   "metadata": {
    "collapsed": false
   },
   "outputs": [
    {
     "data": {
      "text/plain": [
       "Legal       10396\n",
       "Other        6852\n",
       "Forestry     4387\n",
       "Name: department, dtype: int64"
      ]
     },
     "execution_count": 125,
     "metadata": {},
     "output_type": "execute_result"
    }
   ],
   "source": [
    "# Which department is sending more emails? How does that relate with the number of employees in the department?\n",
    "df.department.value_counts()"
   ]
  },
  {
   "cell_type": "code",
   "execution_count": 126,
   "metadata": {
    "collapsed": false
   },
   "outputs": [
    {
     "data": {
      "text/plain": [
       "Forestry     73.116667\n",
       "Legal       415.840000\n",
       "Other        96.507042\n",
       "Name: department, dtype: float64"
      ]
     },
     "execution_count": 126,
     "metadata": {},
     "output_type": "execute_result"
    }
   ],
   "source": [
    "df.department.value_counts() / employees.department.value_counts()\n"
   ]
  },
  {
   "cell_type": "code",
   "execution_count": 127,
   "metadata": {
    "collapsed": false
   },
   "outputs": [
    {
     "data": {
      "text/html": [
       "<div>\n",
       "<table border=\"1\" class=\"dataframe\">\n",
       "  <thead>\n",
       "    <tr style=\"text-align: right;\">\n",
       "      <th></th>\n",
       "      <th>eid</th>\n",
       "      <th>msgs_sent</th>\n",
       "    </tr>\n",
       "  </thead>\n",
       "  <tbody>\n",
       "    <tr>\n",
       "      <th>0</th>\n",
       "      <td>20</td>\n",
       "      <td>1597</td>\n",
       "    </tr>\n",
       "    <tr>\n",
       "      <th>1</th>\n",
       "      <td>59</td>\n",
       "      <td>1379</td>\n",
       "    </tr>\n",
       "    <tr>\n",
       "      <th>2</th>\n",
       "      <td>120</td>\n",
       "      <td>1142</td>\n",
       "    </tr>\n",
       "    <tr>\n",
       "      <th>3</th>\n",
       "      <td>131</td>\n",
       "      <td>859</td>\n",
       "    </tr>\n",
       "    <tr>\n",
       "      <th>4</th>\n",
       "      <td>138</td>\n",
       "      <td>658</td>\n",
       "    </tr>\n",
       "  </tbody>\n",
       "</table>\n",
       "</div>"
      ],
      "text/plain": [
       "   eid  msgs_sent\n",
       "0   20       1597\n",
       "1   59       1379\n",
       "2  120       1142\n",
       "3  131        859\n",
       "4  138        658"
      ]
     },
     "execution_count": 127,
     "metadata": {},
     "output_type": "execute_result"
    }
   ],
   "source": [
    "# Who are the top 5 senders of emails? (people who sent out the most emails)\n",
    "top5senders = df.eid.value_counts().head().reset_index()\n",
    "top5senders.columns = ['eid', 'msgs_sent']\n",
    "top5senders"
   ]
  },
  {
   "cell_type": "code",
   "execution_count": 128,
   "metadata": {
    "collapsed": false
   },
   "outputs": [
    {
     "data": {
      "text/html": [
       "<div>\n",
       "<table border=\"1\" class=\"dataframe\">\n",
       "  <thead>\n",
       "    <tr style=\"text-align: right;\">\n",
       "      <th></th>\n",
       "      <th>eid</th>\n",
       "      <th>name</th>\n",
       "      <th>department</th>\n",
       "      <th>longdepartment</th>\n",
       "      <th>title</th>\n",
       "      <th>gender</th>\n",
       "      <th>seniority</th>\n",
       "      <th>msgs_sent</th>\n",
       "    </tr>\n",
       "  </thead>\n",
       "  <tbody>\n",
       "    <tr>\n",
       "      <th>0</th>\n",
       "      <td>20</td>\n",
       "      <td>Jeff Dasovich</td>\n",
       "      <td>Legal</td>\n",
       "      <td>Regulatory and Government Affairs</td>\n",
       "      <td>Director</td>\n",
       "      <td>Male</td>\n",
       "      <td>Senior</td>\n",
       "      <td>1597</td>\n",
       "    </tr>\n",
       "    <tr>\n",
       "      <th>1</th>\n",
       "      <td>59</td>\n",
       "      <td>Tana Jones</td>\n",
       "      <td>Legal</td>\n",
       "      <td>ENA Legal</td>\n",
       "      <td>Specialist Legal</td>\n",
       "      <td>Female</td>\n",
       "      <td>Junior</td>\n",
       "      <td>1379</td>\n",
       "    </tr>\n",
       "    <tr>\n",
       "      <th>2</th>\n",
       "      <td>120</td>\n",
       "      <td>Sara Shackleton</td>\n",
       "      <td>Legal</td>\n",
       "      <td>ENA Legal</td>\n",
       "      <td>Gen Cnsl Asst</td>\n",
       "      <td>Female</td>\n",
       "      <td>Junior</td>\n",
       "      <td>1142</td>\n",
       "    </tr>\n",
       "    <tr>\n",
       "      <th>3</th>\n",
       "      <td>131</td>\n",
       "      <td>James D. Steffes</td>\n",
       "      <td>Legal</td>\n",
       "      <td>Regulatory and Government Affairs</td>\n",
       "      <td>VP of Government Affairs</td>\n",
       "      <td>Male</td>\n",
       "      <td>Senior</td>\n",
       "      <td>859</td>\n",
       "    </tr>\n",
       "    <tr>\n",
       "      <th>4</th>\n",
       "      <td>138</td>\n",
       "      <td>Mark E. Taylor</td>\n",
       "      <td>Legal</td>\n",
       "      <td>ENA Legal</td>\n",
       "      <td>VP &amp; Gen Cnsl</td>\n",
       "      <td>Male</td>\n",
       "      <td>Senior</td>\n",
       "      <td>658</td>\n",
       "    </tr>\n",
       "  </tbody>\n",
       "</table>\n",
       "</div>"
      ],
      "text/plain": [
       "   eid              name department                     longdepartment  \\\n",
       "0   20     Jeff Dasovich      Legal  Regulatory and Government Affairs   \n",
       "1   59        Tana Jones      Legal                          ENA Legal   \n",
       "2  120   Sara Shackleton      Legal                          ENA Legal   \n",
       "3  131  James D. Steffes      Legal  Regulatory and Government Affairs   \n",
       "4  138    Mark E. Taylor      Legal                          ENA Legal   \n",
       "\n",
       "                      title  gender seniority  msgs_sent  \n",
       "0                  Director    Male    Senior       1597  \n",
       "1          Specialist Legal  Female    Junior       1379  \n",
       "2             Gen Cnsl Asst  Female    Junior       1142  \n",
       "3  VP of Government Affairs    Male    Senior        859  \n",
       "4             VP & Gen Cnsl    Male    Senior        658  "
      ]
     },
     "execution_count": 128,
     "metadata": {},
     "output_type": "execute_result"
    }
   ],
   "source": [
    "pd.merge(employees, top5senders, on='eid')\n"
   ]
  },
  {
   "cell_type": "code",
   "execution_count": null,
   "metadata": {
    "collapsed": true
   },
   "outputs": [],
   "source": []
  },
  {
   "cell_type": "markdown",
   "metadata": {},
   "source": [
    "Answer the following questions regarding received messages:\n",
    "\n",
    "- Who is receiving more emails? Men or Women?\n",
    "- Who is receiving more emails? Juniors or Seniors?\n",
    "- Which department is receiving more emails? How does that relate with the number of employees in the department?\n",
    "- Who are the top 5 receivers of emails? (people who received the most emails)"
   ]
  },
  {
   "cell_type": "code",
   "execution_count": null,
   "metadata": {
    "collapsed": true
   },
   "outputs": [],
   "source": []
  },
  {
   "cell_type": "markdown",
   "metadata": {},
   "source": [
    "Which employees sent the most 'mass' emails?"
   ]
  },
  {
   "cell_type": "code",
   "execution_count": null,
   "metadata": {
    "collapsed": false
   },
   "outputs": [],
   "source": []
  },
  {
   "cell_type": "markdown",
   "metadata": {},
   "source": [
    "Keep exploring the dataset, which other questions would you ask?\n",
    "\n",
    "Work in pairs. Give each other a challenge and try to solve it."
   ]
  }
 ],
 "metadata": {
  "kernelspec": {
   "display_name": "Python 2",
   "language": "python",
   "name": "python2"
  },
  "language_info": {
   "codemirror_mode": {
    "name": "ipython",
    "version": 2
   },
   "file_extension": ".py",
   "mimetype": "text/x-python",
   "name": "python",
   "nbconvert_exporter": "python",
   "pygments_lexer": "ipython2",
   "version": "2.7.11"
  }
 },
 "nbformat": 4,
 "nbformat_minor": 0
}
